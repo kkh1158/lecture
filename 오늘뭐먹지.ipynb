{
 "cells": [
  {
   "cell_type": "code",
   "execution_count": 264,
   "id": "3af70294-116b-4245-a5c8-fbe24a9225e6",
   "metadata": {
    "tags": []
   },
   "outputs": [
    {
     "name": "stdout",
     "output_type": "stream",
     "text": [
      "0\n",
      "1\n",
      "2\n",
      "3\n",
      "4\n"
     ]
    }
   ],
   "source": [
    "import random\n",
    "\n",
    "맛집리스트=['필동순대국', '부자돈까스', '설렁탕', '오매가매', '명궁', '닭한마리']\n",
    "\n",
    "어제메뉴 = ''\n",
    "for n in range(5):\n",
    "    print(n)\n",
    "    어제메뉴 == random.choice(맛집리스트)\n",
    "    while 어제메뉴==오늘메뉴:\n",
    "        if 어제메뉴 != 오늘메뉴:\n",
    "            print(오늘메뉴)\n",
    "            break\n",
    "        else:\n",
    "            오늘메뉴=random.choice(맛집리스트)"
   ]
  },
  {
   "cell_type": "code",
   "execution_count": 263,
   "id": "af61d9ff-b98f-467a-b283-ff749b44cdd4",
   "metadata": {
    "tags": []
   },
   "outputs": [
    {
     "name": "stdout",
     "output_type": "stream",
     "text": [
      "닭한마리\n",
      "설렁탕\n",
      "부자돈까스\n",
      "닭한마리\n",
      "명궁\n"
     ]
    }
   ],
   "source": [
    "import random\n",
    "import time\n",
    "\n",
    "맛집리스트=['필동순대국', '부자돈까스', '설렁탕', '오매가매', '명궁', '닭한마리']\n",
    "어제메뉴 = ''\n",
    "오늘메뉴 = random.choice(맛집리스트)\n",
    "\n",
    "for n in range(5):\n",
    "    while 어제메뉴 == 오늘메뉴:\n",
    "        오늘메뉴 = random.choice(맛집리스트)\n",
    "    print(오늘메뉴)\n",
    "    어제메뉴 = 오늘메뉴\n",
    "    \n",
    "# for n in range(5):\n",
    "#     print(오늘메뉴)\n",
    "#     while True:\n",
    "#         어제메뉴 = 오늘메뉴\n",
    "#         오늘메뉴 = random.choice(맛집리스트)\n",
    "#         if 오늘메뉴 != 어제메뉴:\n",
    "#             break"
   ]
  }
 ],
 "metadata": {
  "kernelspec": {
   "display_name": "Python 3 (ipykernel)",
   "language": "python",
   "name": "python3"
  },
  "language_info": {
   "codemirror_mode": {
    "name": "ipython",
    "version": 3
   },
   "file_extension": ".py",
   "mimetype": "text/x-python",
   "name": "python",
   "nbconvert_exporter": "python",
   "pygments_lexer": "ipython3",
   "version": "3.8.8"
  }
 },
 "nbformat": 4,
 "nbformat_minor": 5
}
