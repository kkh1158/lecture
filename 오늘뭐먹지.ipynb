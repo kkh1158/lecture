{
 "cells": [
  {
   "cell_type": "code",
   "execution_count": 88,
   "id": "af61d9ff-b98f-467a-b283-ff749b44cdd4",
   "metadata": {
    "tags": []
   },
   "outputs": [
    {
     "name": "stdout",
     "output_type": "stream",
     "text": [
      "월 : 필동순대국\n",
      "화 : 편의점도시락\n",
      "수 : 오매가매\n",
      "목 : 필동순대국\n",
      "금 : 편의점도시락\n"
     ]
    }
   ],
   "source": [
    "import random\n",
    "import time\n",
    "\n",
    "요일 = ['월', '화', '수', '목', '금']\n",
    "맛집리스트 = ['필동순대국', '부자돈까스', '설렁탕', '오매가매', '명궁', '닭한마리', '편의점도시락']\n",
    "어제메뉴 = ''\n",
    "오늘메뉴 = random.choice(맛집리스트)\n",
    "\n",
    "for i, n in enumerate(range(5)):\n",
    "    while 어제메뉴 == 오늘메뉴:\n",
    "        오늘메뉴 = random.choice(맛집리스트)\n",
    "    print(요일[i], ':', 오늘메뉴)\n",
    "    어제메뉴 = 오늘메뉴\n",
    "    \n",
    "# for n in range(5):\n",
    "#     print(오늘메뉴)\n",
    "#     while True:\n",
    "#         어제메뉴 = 오늘메뉴\n",
    "#         오늘메뉴 = random.choice(맛집리스트)\n",
    "#         if 오늘메뉴 != 어제메뉴:\n",
    "#             break"
   ]
  }
 ],
 "metadata": {
  "kernelspec": {
   "display_name": "Python 3 (ipykernel)",
   "language": "python",
   "name": "python3"
  },
  "language_info": {
   "codemirror_mode": {
    "name": "ipython",
    "version": 3
   },
   "file_extension": ".py",
   "mimetype": "text/x-python",
   "name": "python",
   "nbconvert_exporter": "python",
   "pygments_lexer": "ipython3",
   "version": "3.8.8"
  }
 },
 "nbformat": 4,
 "nbformat_minor": 5
}
