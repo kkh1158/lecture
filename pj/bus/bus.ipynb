{
 "cells": [
  {
   "cell_type": "code",
   "execution_count": 2,
   "id": "9a33cf23-fb27-484f-8396-9fc4242fae1d",
   "metadata": {
    "tags": []
   },
   "outputs": [],
   "source": [
    "import numpy as np\n",
    "import pandas as pd"
   ]
  },
  {
   "cell_type": "code",
   "execution_count": 16,
   "id": "0b496e4b-470e-4af0-a3e7-35b220bf963e",
   "metadata": {
    "tags": []
   },
   "outputs": [
    {
     "name": "stdout",
     "output_type": "stream",
     "text": [
      "<class 'pandas.core.frame.DataFrame'>\n",
      "RangeIndex: 173840 entries, 0 to 173839\n",
      "Data columns (total 27 columns):\n",
      " #   Column       Non-Null Count   Dtype  \n",
      "---  ------       --------------   -----  \n",
      " 0   기준_날짜        173840 non-null  int64  \n",
      " 1   행정동_ID       173840 non-null  int64  \n",
      " 2   버스_승객_수      173416 non-null  float64\n",
      " 3   버스_승객_수_00시  173416 non-null  float64\n",
      " 4   버스_승객_수_01시  173416 non-null  float64\n",
      " 5   버스_승객_수_02시  173416 non-null  float64\n",
      " 6   버스_승객_수_03시  173416 non-null  float64\n",
      " 7   버스_승객_수_04시  173416 non-null  float64\n",
      " 8   버스_승객_수_05시  173416 non-null  float64\n",
      " 9   버스_승객_수_06시  173416 non-null  float64\n",
      " 10  버스_승객_수_07시  173416 non-null  float64\n",
      " 11  버스_승객_수_08시  173416 non-null  float64\n",
      " 12  버스_승객_수_09시  173416 non-null  float64\n",
      " 13  버스_승객_수_10시  173416 non-null  float64\n",
      " 14  버스_승객_수_11시  173416 non-null  float64\n",
      " 15  버스_승객_수_12시  173416 non-null  float64\n",
      " 16  버스_승객_수_13시  173416 non-null  float64\n",
      " 17  버스_승객_수_14시  173416 non-null  float64\n",
      " 18  버스_승객_수_15시  173416 non-null  float64\n",
      " 19  버스_승객_수_16시  173416 non-null  float64\n",
      " 20  버스_승객_수_17시  173416 non-null  float64\n",
      " 21  버스_승객_수_18시  173416 non-null  float64\n",
      " 22  버스_승객_수_19시  173416 non-null  float64\n",
      " 23  버스_승객_수_20시  173416 non-null  float64\n",
      " 24  버스_승객_수_21시  173416 non-null  float64\n",
      " 25  버스_승객_수_22시  173416 non-null  float64\n",
      " 26  버스_승객_수_23시  173416 non-null  float64\n",
      "dtypes: float64(25), int64(2)\n",
      "memory usage: 35.8 MB\n"
     ]
    }
   ],
   "source": [
    "bus = pd.read_csv('./bus.csv', encoding='cp949', sep=',')\n",
    "bus.info()"
   ]
  },
  {
   "cell_type": "code",
   "execution_count": 18,
   "id": "a7521d13-88c1-4b62-8036-cf6414dd9699",
   "metadata": {
    "tags": []
   },
   "outputs": [
    {
     "data": {
      "text/plain": [
       "0         20230215\n",
       "1         20230215\n",
       "2         20230215\n",
       "3         20230215\n",
       "4         20230215\n",
       "            ...   \n",
       "173835    20220101\n",
       "173836    20220101\n",
       "173837    20220101\n",
       "173838    20220101\n",
       "173839    20220101\n",
       "Name: 기준_날짜, Length: 173840, dtype: int64"
      ]
     },
     "execution_count": 18,
     "metadata": {},
     "output_type": "execute_result"
    }
   ],
   "source": [
    "bus['기준_날짜']"
   ]
  }
 ],
 "metadata": {
  "kernelspec": {
   "display_name": "Python 3 (ipykernel)",
   "language": "python",
   "name": "python3"
  },
  "language_info": {
   "codemirror_mode": {
    "name": "ipython",
    "version": 3
   },
   "file_extension": ".py",
   "mimetype": "text/x-python",
   "name": "python",
   "nbconvert_exporter": "python",
   "pygments_lexer": "ipython3",
   "version": "3.8.8"
  }
 },
 "nbformat": 4,
 "nbformat_minor": 5
}
