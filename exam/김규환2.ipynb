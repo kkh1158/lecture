{
 "cells": [
  {
   "cell_type": "code",
   "execution_count": 3,
   "id": "b9d31b49-ccb0-4904-b402-b741d722f099",
   "metadata": {
    "tags": []
   },
   "outputs": [],
   "source": [
    "import numpy as np\n",
    "import pandas as pd"
   ]
  },
  {
   "cell_type": "code",
   "execution_count": 217,
   "id": "b26dd6b0-62ec-4874-8c6f-149c763e51ed",
   "metadata": {
    "tags": []
   },
   "outputs": [
    {
     "data": {
      "text/html": [
       "<div>\n",
       "<style scoped>\n",
       "    .dataframe tbody tr th:only-of-type {\n",
       "        vertical-align: middle;\n",
       "    }\n",
       "\n",
       "    .dataframe tbody tr th {\n",
       "        vertical-align: top;\n",
       "    }\n",
       "\n",
       "    .dataframe thead th {\n",
       "        text-align: right;\n",
       "    }\n",
       "</style>\n",
       "<table border=\"1\" class=\"dataframe\">\n",
       "  <thead>\n",
       "    <tr style=\"text-align: right;\">\n",
       "      <th></th>\n",
       "      <th>AGE</th>\n",
       "      <th>B</th>\n",
       "      <th>RM</th>\n",
       "      <th>CRIM</th>\n",
       "      <th>DIS</th>\n",
       "      <th>INDUS</th>\n",
       "      <th>LSTAT</th>\n",
       "      <th>NOX</th>\n",
       "      <th>PTRATIO</th>\n",
       "      <th>RAD</th>\n",
       "      <th>ZN</th>\n",
       "      <th>TAX</th>\n",
       "      <th>CHAS</th>\n",
       "      <th>Target</th>\n",
       "    </tr>\n",
       "  </thead>\n",
       "  <tbody>\n",
       "    <tr>\n",
       "      <th>0</th>\n",
       "      <td>65.2</td>\n",
       "      <td>396.9</td>\n",
       "      <td>6.575</td>\n",
       "      <td>0.00632</td>\n",
       "      <td>4.0900</td>\n",
       "      <td>2.31</td>\n",
       "      <td>4.98</td>\n",
       "      <td>0.538</td>\n",
       "      <td>15.3</td>\n",
       "      <td>1</td>\n",
       "      <td>18.0</td>\n",
       "      <td>296</td>\n",
       "      <td>0</td>\n",
       "      <td>24.0</td>\n",
       "    </tr>\n",
       "    <tr>\n",
       "      <th>1</th>\n",
       "      <td>78.9</td>\n",
       "      <td>396.9</td>\n",
       "      <td>6.421</td>\n",
       "      <td>0.02731</td>\n",
       "      <td>4.9671</td>\n",
       "      <td>7.07</td>\n",
       "      <td>9.14</td>\n",
       "      <td>0.469</td>\n",
       "      <td>17.8</td>\n",
       "      <td>2</td>\n",
       "      <td>0.0</td>\n",
       "      <td>242</td>\n",
       "      <td>0</td>\n",
       "      <td>21.6</td>\n",
       "    </tr>\n",
       "  </tbody>\n",
       "</table>\n",
       "</div>"
      ],
      "text/plain": [
       "    AGE      B     RM     CRIM     DIS  INDUS  LSTAT    NOX  PTRATIO  RAD  \\\n",
       "0  65.2  396.9  6.575  0.00632  4.0900   2.31   4.98  0.538     15.3    1   \n",
       "1  78.9  396.9  6.421  0.02731  4.9671   7.07   9.14  0.469     17.8    2   \n",
       "\n",
       "     ZN  TAX  CHAS  Target  \n",
       "0  18.0  296     0    24.0  \n",
       "1   0.0  242     0    21.6  "
      ]
     },
     "execution_count": 217,
     "metadata": {},
     "output_type": "execute_result"
    }
   ],
   "source": [
    "# 1. 데이터 읽어오세요\n",
    "df = pd.read_csv('./Boston_house.csv')\n",
    "df.head(2)"
   ]
  },
  {
   "cell_type": "code",
   "execution_count": 333,
   "id": "95e9cf07-70a7-4976-9fe9-1507154101be",
   "metadata": {
    "tags": []
   },
   "outputs": [
    {
     "data": {
      "text/plain": [
       "364    8.780\n",
       "225    8.725\n",
       "257    8.704\n",
       "262    8.398\n",
       "163    8.375\n",
       "Name: RM, dtype: float64"
      ]
     },
     "execution_count": 333,
     "metadata": {},
     "output_type": "execute_result"
    }
   ],
   "source": [
    "# 2. Rm큰순서 상위 1프로만 출력\n",
    "row_cnt = int(df['RM'].shape[0]*0.01) # 5개\n",
    "df['RM'].sort_values(ascending=False)[0:row_cnt]"
   ]
  },
  {
   "cell_type": "code",
   "execution_count": 336,
   "id": "813db5ca-a4ec-4e8c-8507-636a34887c0c",
   "metadata": {
    "tags": []
   },
   "outputs": [
    {
     "data": {
      "text/plain": [
       "364    8.780\n",
       "225    8.725\n",
       "257    8.704\n",
       "262    8.398\n",
       "163    8.375\n",
       "Name: RM, dtype: float64"
      ]
     },
     "execution_count": 336,
     "metadata": {},
     "output_type": "execute_result"
    }
   ],
   "source": [
    "df['RM'].nlargest(5)"
   ]
  },
  {
   "cell_type": "code",
   "execution_count": 335,
   "id": "b190deaa-c259-495e-b42b-d00a35af539f",
   "metadata": {
    "tags": []
   },
   "outputs": [
    {
     "data": {
      "text/plain": [
       "365    3.561\n",
       "367    3.863\n",
       "374    4.138\n",
       "406    4.138\n",
       "384    4.368\n",
       "Name: RM, dtype: float64"
      ]
     },
     "execution_count": 335,
     "metadata": {},
     "output_type": "execute_result"
    }
   ],
   "source": [
    "df['RM'].nsmallest(5)"
   ]
  },
  {
   "cell_type": "code",
   "execution_count": 348,
   "id": "8938ee2c-d05f-4ee4-8613-c7506540f770",
   "metadata": {
    "tags": []
   },
   "outputs": [
    {
     "data": {
      "text/plain": [
       "(506,)"
      ]
     },
     "execution_count": 348,
     "metadata": {},
     "output_type": "execute_result"
    }
   ],
   "source": [
    "df['RM'].shape"
   ]
  },
  {
   "cell_type": "code",
   "execution_count": 355,
   "id": "4f1a0f3d-87f6-401f-bb39-6ca57dae965d",
   "metadata": {
    "tags": []
   },
   "outputs": [
    {
     "data": {
      "text/plain": [
       "365    3.561\n",
       "367    3.863\n",
       "374    4.138\n",
       "406    4.138\n",
       "384    4.368\n",
       "       ...  \n",
       "163    8.375\n",
       "262    8.398\n",
       "257    8.704\n",
       "225    8.725\n",
       "364    8.780\n",
       "Name: RM, Length: 506, dtype: float64"
      ]
     },
     "execution_count": 355,
     "metadata": {},
     "output_type": "execute_result"
    }
   ],
   "source": [
    "df['RM'].sort_values()"
   ]
  },
  {
   "cell_type": "code",
   "execution_count": 357,
   "id": "d2c88896-34d4-44fc-a49d-9cbe91829bc6",
   "metadata": {
    "tags": []
   },
   "outputs": [
    {
     "data": {
      "text/plain": [
       "101"
      ]
     },
     "execution_count": 357,
     "metadata": {},
     "output_type": "execute_result"
    }
   ],
   "source": [
    "506//5"
   ]
  },
  {
   "cell_type": "code",
   "execution_count": 398,
   "id": "b6d962d4-4e3c-45d8-a480-290080074825",
   "metadata": {
    "tags": []
   },
   "outputs": [
    {
     "data": {
      "text/plain": [
       "Interval(8.337, 8.78, closed='right')"
      ]
     },
     "execution_count": 398,
     "metadata": {},
     "output_type": "execute_result"
    }
   ],
   "source": [
    "pd.qcut(df['RM'].sort_values(), 101).values[-1]"
   ]
  },
  {
   "cell_type": "code",
   "execution_count": 332,
   "id": "eef499c1-2b15-4135-b63d-526811483c8f",
   "metadata": {
    "tags": []
   },
   "outputs": [
    {
     "data": {
      "text/plain": [
       "163    8.375\n",
       "225    8.725\n",
       "232    8.337\n",
       "257    8.704\n",
       "262    8.398\n",
       "364    8.780\n",
       "Name: RM, dtype: float64"
      ]
     },
     "execution_count": 332,
     "metadata": {},
     "output_type": "execute_result"
    }
   ],
   "source": [
    "q1 = df['RM'].quantile(q=0.99) # 3\n",
    "q2 = df['RM'].quantile(q=1) # 5\n",
    "\n",
    "df['RM'][(df['RM']>=q1)&(df['RM']<=q2)]"
   ]
  },
  {
   "cell_type": "code",
   "execution_count": 401,
   "id": "e9016284-8d2c-4cf5-9290-380c15c9a0ad",
   "metadata": {
    "tags": []
   },
   "outputs": [
    {
     "data": {
      "text/plain": [
       "209"
      ]
     },
     "execution_count": 401,
     "metadata": {},
     "output_type": "execute_result"
    }
   ],
   "source": [
    "# 3. target 컬럼을 대상으로 평균 이상의 값을 갖는 데이터의 갯수 출력\n",
    "df['Target'][df['Target']>=df['Target'].mean()].count()"
   ]
  },
  {
   "cell_type": "code",
   "execution_count": 408,
   "id": "5f8bb73b-4704-4046-80eb-1695bf45ab1d",
   "metadata": {
    "tags": []
   },
   "outputs": [
    {
     "data": {
      "text/plain": [
       "209"
      ]
     },
     "execution_count": 408,
     "metadata": {},
     "output_type": "execute_result"
    }
   ],
   "source": [
    "df[df['Target']>=df['Target'].mean()].shape[0]"
   ]
  },
  {
   "cell_type": "code",
   "execution_count": 409,
   "id": "4667dfae-f23f-4187-86bc-90884082a31e",
   "metadata": {
    "tags": []
   },
   "outputs": [
    {
     "data": {
      "text/plain": [
       "209"
      ]
     },
     "execution_count": 409,
     "metadata": {},
     "output_type": "execute_result"
    }
   ],
   "source": [
    "len(df['Target'][df['Target']>=df['Target'].mean()])"
   ]
  },
  {
   "cell_type": "code",
   "execution_count": 51,
   "id": "9208a80a-3abf-4881-afe7-239bf52eface",
   "metadata": {
    "tags": []
   },
   "outputs": [
    {
     "data": {
      "text/plain": [
       "35"
      ]
     },
     "execution_count": 51,
     "metadata": {},
     "output_type": "execute_result"
    }
   ],
   "source": [
    "# 4. RM이 3이상이고 CHAS에 인접한 집의 갯수 출력\n",
    "df[(df['RM']>=3)&(df['CHAS']==1)].shape[0]"
   ]
  },
  {
   "cell_type": "code",
   "execution_count": 469,
   "id": "27d60367-8a6b-4e76-914c-c9b6f10a9ce4",
   "metadata": {
    "tags": []
   },
   "outputs": [
    {
     "data": {
      "text/html": [
       "<div>\n",
       "<style scoped>\n",
       "    .dataframe tbody tr th:only-of-type {\n",
       "        vertical-align: middle;\n",
       "    }\n",
       "\n",
       "    .dataframe tbody tr th {\n",
       "        vertical-align: top;\n",
       "    }\n",
       "\n",
       "    .dataframe thead th {\n",
       "        text-align: right;\n",
       "    }\n",
       "</style>\n",
       "<table border=\"1\" class=\"dataframe\">\n",
       "  <thead>\n",
       "    <tr style=\"text-align: right;\">\n",
       "      <th></th>\n",
       "      <th>InvoiceNo</th>\n",
       "      <th>StockCode</th>\n",
       "      <th>Description</th>\n",
       "      <th>Quantity</th>\n",
       "      <th>InvoiceDate</th>\n",
       "      <th>UnitPrice</th>\n",
       "      <th>CustomerID</th>\n",
       "      <th>Country</th>\n",
       "    </tr>\n",
       "  </thead>\n",
       "  <tbody>\n",
       "    <tr>\n",
       "      <th>0</th>\n",
       "      <td>536365</td>\n",
       "      <td>85123A</td>\n",
       "      <td>WHITE HANGING HEART T-LIGHT HOLDER</td>\n",
       "      <td>6</td>\n",
       "      <td>2010-12-01 8:26</td>\n",
       "      <td>2.55</td>\n",
       "      <td>17850.0</td>\n",
       "      <td>South Korea</td>\n",
       "    </tr>\n",
       "    <tr>\n",
       "      <th>1</th>\n",
       "      <td>536365</td>\n",
       "      <td>71053</td>\n",
       "      <td>WHITE METAL LANTERN</td>\n",
       "      <td>6</td>\n",
       "      <td>2010-12-01 8:26</td>\n",
       "      <td>3.39</td>\n",
       "      <td>17850.0</td>\n",
       "      <td>South Korea</td>\n",
       "    </tr>\n",
       "  </tbody>\n",
       "</table>\n",
       "</div>"
      ],
      "text/plain": [
       "  InvoiceNo StockCode                         Description  Quantity  \\\n",
       "0    536365    85123A  WHITE HANGING HEART T-LIGHT HOLDER         6   \n",
       "1    536365     71053                 WHITE METAL LANTERN         6   \n",
       "\n",
       "       InvoiceDate  UnitPrice  CustomerID      Country  \n",
       "0  2010-12-01 8:26       2.55     17850.0  South Korea  \n",
       "1  2010-12-01 8:26       3.39     17850.0  South Korea  "
      ]
     },
     "execution_count": 469,
     "metadata": {},
     "output_type": "execute_result"
    }
   ],
   "source": [
    "df = pd.read_csv('./Online_retail_mini.csv')\n",
    "df.head(2)"
   ]
  },
  {
   "cell_type": "markdown",
   "id": "8bf73753-6d5f-4872-a9da-1c3aecc718b7",
   "metadata": {},
   "source": [
    "<pre>\n",
    "선물 판매 온라인 스토어에서  발생한 거래 내역 데이터\n",
    "• InvoiceNo : 거래 고유 번호\n",
    "• StockCode : 상품 고유 번호\n",
    "• Description : 상품명\n",
    "• Quantity : 거래 수량\n",
    "• InvoiceDate : 거래 일시\n",
    "• UnitPrice : 상품 단가\n",
    "• CustomerID : 구매자 고유 번호\n",
    "• Country : 구매 국가"
   ]
  },
  {
   "cell_type": "code",
   "execution_count": 56,
   "id": "fad34b11-6c2a-49fa-8316-5bdaf0e00111",
   "metadata": {
    "tags": []
   },
   "outputs": [
    {
     "name": "stdout",
     "output_type": "stream",
     "text": [
      "<class 'pandas.core.frame.DataFrame'>\n",
      "RangeIndex: 83 entries, 0 to 82\n",
      "Data columns (total 8 columns):\n",
      " #   Column       Non-Null Count  Dtype  \n",
      "---  ------       --------------  -----  \n",
      " 0   InvoiceNo    83 non-null     object \n",
      " 1   StockCode    83 non-null     object \n",
      " 2   Description  83 non-null     object \n",
      " 3   Quantity     83 non-null     int64  \n",
      " 4   InvoiceDate  83 non-null     object \n",
      " 5   UnitPrice    81 non-null     float64\n",
      " 6   CustomerID   76 non-null     float64\n",
      " 7   Country      83 non-null     object \n",
      "dtypes: float64(2), int64(1), object(5)\n",
      "memory usage: 5.3+ KB\n"
     ]
    }
   ],
   "source": [
    "df.info()"
   ]
  },
  {
   "cell_type": "code",
   "execution_count": 62,
   "id": "c4484a56-6e42-4cc7-a4fc-8cba90d6e954",
   "metadata": {
    "tags": []
   },
   "outputs": [
    {
     "data": {
      "text/plain": [
       "InvoiceNo      19\n",
       "StockCode      80\n",
       "Description    81\n",
       "Quantity       23\n",
       "InvoiceDate    14\n",
       "UnitPrice      29\n",
       "CustomerID     13\n",
       "Country         5\n",
       "dtype: int64"
      ]
     },
     "execution_count": 62,
     "metadata": {},
     "output_type": "execute_result"
    }
   ],
   "source": [
    "df.nunique()"
   ]
  },
  {
   "cell_type": "code",
   "execution_count": 68,
   "id": "2163a4b7-e98e-4f4d-aee5-f05b0c2f166a",
   "metadata": {
    "tags": []
   },
   "outputs": [],
   "source": [
    "from datetime import datetime, date"
   ]
  },
  {
   "cell_type": "code",
   "execution_count": 171,
   "id": "c4c57e9a-aa6c-44d5-ab3f-2f6be00d2530",
   "metadata": {
    "tags": []
   },
   "outputs": [
    {
     "data": {
      "text/plain": [
       "datetime.datetime(2010, 12, 1, 8, 26)"
      ]
     },
     "execution_count": 171,
     "metadata": {},
     "output_type": "execute_result"
    }
   ],
   "source": [
    "datetime.fromisoformat('2010-12-01 08:26:00')"
   ]
  },
  {
   "cell_type": "code",
   "execution_count": 470,
   "id": "717f9aea-e889-4309-8a96-b1876c75d326",
   "metadata": {
    "tags": []
   },
   "outputs": [
    {
     "data": {
      "text/html": [
       "<div>\n",
       "<style scoped>\n",
       "    .dataframe tbody tr th:only-of-type {\n",
       "        vertical-align: middle;\n",
       "    }\n",
       "\n",
       "    .dataframe tbody tr th {\n",
       "        vertical-align: top;\n",
       "    }\n",
       "\n",
       "    .dataframe thead th {\n",
       "        text-align: right;\n",
       "    }\n",
       "</style>\n",
       "<table border=\"1\" class=\"dataframe\">\n",
       "  <thead>\n",
       "    <tr style=\"text-align: right;\">\n",
       "      <th></th>\n",
       "      <th>InvoiceDate</th>\n",
       "      <th>yy</th>\n",
       "      <th>mm</th>\n",
       "    </tr>\n",
       "  </thead>\n",
       "  <tbody>\n",
       "    <tr>\n",
       "      <th>0</th>\n",
       "      <td>2010-12-01 08:26:00</td>\n",
       "      <td>2010</td>\n",
       "      <td>12</td>\n",
       "    </tr>\n",
       "    <tr>\n",
       "      <th>1</th>\n",
       "      <td>2010-12-01 08:26:00</td>\n",
       "      <td>2010</td>\n",
       "      <td>12</td>\n",
       "    </tr>\n",
       "    <tr>\n",
       "      <th>2</th>\n",
       "      <td>2010-12-01 08:26:00</td>\n",
       "      <td>2010</td>\n",
       "      <td>12</td>\n",
       "    </tr>\n",
       "    <tr>\n",
       "      <th>3</th>\n",
       "      <td>2010-12-01 08:26:00</td>\n",
       "      <td>2010</td>\n",
       "      <td>12</td>\n",
       "    </tr>\n",
       "    <tr>\n",
       "      <th>4</th>\n",
       "      <td>2010-12-01 08:26:00</td>\n",
       "      <td>2010</td>\n",
       "      <td>12</td>\n",
       "    </tr>\n",
       "    <tr>\n",
       "      <th>...</th>\n",
       "      <td>...</td>\n",
       "      <td>...</td>\n",
       "      <td>...</td>\n",
       "    </tr>\n",
       "    <tr>\n",
       "      <th>77</th>\n",
       "      <td>2011-12-09 12:50:00</td>\n",
       "      <td>2011</td>\n",
       "      <td>12</td>\n",
       "    </tr>\n",
       "    <tr>\n",
       "      <th>78</th>\n",
       "      <td>2011-12-09 12:50:00</td>\n",
       "      <td>2011</td>\n",
       "      <td>12</td>\n",
       "    </tr>\n",
       "    <tr>\n",
       "      <th>79</th>\n",
       "      <td>2011-12-09 12:50:00</td>\n",
       "      <td>2011</td>\n",
       "      <td>12</td>\n",
       "    </tr>\n",
       "    <tr>\n",
       "      <th>80</th>\n",
       "      <td>2011-12-09 12:50:00</td>\n",
       "      <td>2011</td>\n",
       "      <td>12</td>\n",
       "    </tr>\n",
       "    <tr>\n",
       "      <th>82</th>\n",
       "      <td>2011-12-09 12:50:00</td>\n",
       "      <td>2011</td>\n",
       "      <td>12</td>\n",
       "    </tr>\n",
       "  </tbody>\n",
       "</table>\n",
       "<p>83 rows × 3 columns</p>\n",
       "</div>"
      ],
      "text/plain": [
       "           InvoiceDate    yy  mm\n",
       "0  2010-12-01 08:26:00  2010  12\n",
       "1  2010-12-01 08:26:00  2010  12\n",
       "2  2010-12-01 08:26:00  2010  12\n",
       "3  2010-12-01 08:26:00  2010  12\n",
       "4  2010-12-01 08:26:00  2010  12\n",
       "..                 ...   ...  ..\n",
       "77 2011-12-09 12:50:00  2011  12\n",
       "78 2011-12-09 12:50:00  2011  12\n",
       "79 2011-12-09 12:50:00  2011  12\n",
       "80 2011-12-09 12:50:00  2011  12\n",
       "82 2011-12-09 12:50:00  2011  12\n",
       "\n",
       "[83 rows x 3 columns]"
      ]
     },
     "execution_count": 470,
     "metadata": {},
     "output_type": "execute_result"
    }
   ],
   "source": [
    "# 5. InvoiceDate 컬럼을 대상으로 (년도, 월) 정보를 추출해 InvoiceDate 오름차순 정렬\n",
    "df['InvoiceDate'] = df['InvoiceDate'].astype('datetime64')\n",
    "df['yy'] = df['InvoiceDate'].dt.year\n",
    "df['mm'] = df['InvoiceDate'].dt.month\n",
    "df[['InvoiceDate','yy','mm']].sort_values('InvoiceDate')"
   ]
  },
  {
   "cell_type": "code",
   "execution_count": 418,
   "id": "f573f4b4-00d0-4059-aa2e-c85a1b5ae9e5",
   "metadata": {
    "tags": []
   },
   "outputs": [],
   "source": [
    "df = pd.read_csv('./Online_retail_mini.csv')"
   ]
  },
  {
   "cell_type": "code",
   "execution_count": 426,
   "id": "ea49a71c-ac7a-48c4-b6c9-0877841c84da",
   "metadata": {
    "tags": []
   },
   "outputs": [
    {
     "data": {
      "text/plain": [
       "'2010-12-01 8:26'"
      ]
     },
     "execution_count": 426,
     "metadata": {},
     "output_type": "execute_result"
    }
   ],
   "source": [
    "df['InvoiceDate'][0]"
   ]
  },
  {
   "cell_type": "code",
   "execution_count": 430,
   "id": "9cf2dc0a-5c50-4f36-91db-6344b1449570",
   "metadata": {
    "tags": []
   },
   "outputs": [
    {
     "data": {
      "text/plain": [
       "datetime.datetime(2010, 12, 1, 8, 26)"
      ]
     },
     "execution_count": 430,
     "metadata": {},
     "output_type": "execute_result"
    }
   ],
   "source": [
    "datetime.strptime('2010-12-01 8:26', '%Y-%m-%d %H:%M')"
   ]
  },
  {
   "cell_type": "code",
   "execution_count": 432,
   "id": "28567b66-346b-4a88-ab78-51470f1d1e65",
   "metadata": {
    "tags": []
   },
   "outputs": [
    {
     "data": {
      "text/plain": [
       "0    2010-12-01 08:26:00\n",
       "1    2010-12-01 08:26:00\n",
       "2    2010-12-01 08:26:00\n",
       "3    2010-12-01 08:26:00\n",
       "4    2010-12-01 08:26:00\n",
       "             ...        \n",
       "78   2011-12-09 12:50:00\n",
       "79   2011-12-09 12:50:00\n",
       "80   2011-12-09 12:50:00\n",
       "81   2011-12-09 12:50:00\n",
       "82   2011-12-09 12:50:00\n",
       "Name: InvoiceDate, Length: 83, dtype: datetime64[ns]"
      ]
     },
     "execution_count": 432,
     "metadata": {},
     "output_type": "execute_result"
    }
   ],
   "source": [
    "df['InvoiceDate'].apply(lambda x:datetime.strptime(x, '%Y-%m-%d %H:%M'))"
   ]
  },
  {
   "cell_type": "code",
   "execution_count": 471,
   "id": "bf574422-222f-4544-9cef-bfcbba915687",
   "metadata": {
    "tags": []
   },
   "outputs": [
    {
     "data": {
      "text/plain": [
       "array(['South Korea', 'United Kingdom', 'Germany', 'Austria', 'France'],\n",
       "      dtype=object)"
      ]
     },
     "execution_count": 471,
     "metadata": {},
     "output_type": "execute_result"
    }
   ],
   "source": [
    "# 6. 구매국가의 컬럼을 수치값으로 \n",
    "df['Country'].unique()"
   ]
  },
  {
   "cell_type": "code",
   "execution_count": 472,
   "id": "b75018aa-d345-4fb3-9bdf-05c6b15ae570",
   "metadata": {
    "tags": []
   },
   "outputs": [
    {
     "data": {
      "text/plain": [
       "{0: 'South Korea',\n",
       " 1: 'United Kingdom',\n",
       " 2: 'Germany',\n",
       " 3: 'Austria',\n",
       " 4: 'France'}"
      ]
     },
     "execution_count": 472,
     "metadata": {},
     "output_type": "execute_result"
    }
   ],
   "source": [
    "qhrrn = dict(enumerate(df['Country'].unique()))\n",
    "qhrrn"
   ]
  },
  {
   "cell_type": "code",
   "execution_count": 473,
   "id": "73e4690c-ce8e-4b2c-b49c-2695d86d35e3",
   "metadata": {
    "tags": []
   },
   "outputs": [
    {
     "data": {
      "text/plain": [
       "array([0, 1, 2, 3, 4], dtype=int64)"
      ]
     },
     "execution_count": 473,
     "metadata": {},
     "output_type": "execute_result"
    }
   ],
   "source": [
    "df['Country'] = df['Country'].replace(['South Korea', 'United Kingdom', 'Germany', 'Austria', 'France'], [0,1,2,3,4])\n",
    "df['Country'].unique()"
   ]
  },
  {
   "cell_type": "code",
   "execution_count": 477,
   "id": "5169ca2c-83a2-4a1b-a189-22f49beeafa9",
   "metadata": {
    "tags": []
   },
   "outputs": [
    {
     "data": {
      "text/plain": [
       "array(['South Korea', 'United Kingdom', 'Germany', 'Austria', 'France'],\n",
       "      dtype=object)"
      ]
     },
     "execution_count": 477,
     "metadata": {},
     "output_type": "execute_result"
    }
   ],
   "source": [
    "df['Country'] = df['Country'].map(qhrrn)\n",
    "df['Country'].unique()"
   ]
  },
  {
   "cell_type": "code",
   "execution_count": 487,
   "id": "a3cccfd3-5290-4f5b-9636-0b86c33a6a53",
   "metadata": {
    "tags": []
   },
   "outputs": [
    {
     "data": {
      "text/plain": [
       "2"
      ]
     },
     "execution_count": 487,
     "metadata": {},
     "output_type": "execute_result"
    }
   ],
   "source": [
    "def mymy(x):\n",
    "    r=0\n",
    "    if x=='South Korea':\n",
    "        r=0\n",
    "    elif x=='United Kingdom':\n",
    "        r=1\n",
    "    elif x=='Germany':\n",
    "        r=2\n",
    "    elif x=='Austria':\n",
    "        r=3\n",
    "    elif x=='France':\n",
    "        r=4\n",
    "    return r\n",
    "mymy('Germany')"
   ]
  },
  {
   "cell_type": "code",
   "execution_count": 492,
   "id": "0b9fd8ee-191d-4cac-a475-f70bd106664f",
   "metadata": {
    "tags": []
   },
   "outputs": [
    {
     "data": {
      "text/plain": [
       "array([0, 1, 2, 3, 4], dtype=int64)"
      ]
     },
     "execution_count": 492,
     "metadata": {},
     "output_type": "execute_result"
    }
   ],
   "source": [
    "df['ccc'] = df['Country'].apply(mymy)\n",
    "df['ccc'].unique()"
   ]
  },
  {
   "cell_type": "code",
   "execution_count": 126,
   "id": "eb43ca5e-684b-4b29-83c7-35926ec4bf13",
   "metadata": {
    "tags": []
   },
   "outputs": [
    {
     "data": {
      "text/plain": [
       "InvoiceNo      19\n",
       "StockCode      80\n",
       "Description    81\n",
       "dtype: int64"
      ]
     },
     "execution_count": 126,
     "metadata": {},
     "output_type": "execute_result"
    }
   ],
   "source": [
    "# 7. Object 타입을 갖는 컬럼들에 대해 각 컬럼들이 갖는 고유값의 크기 출력\n",
    "col_ob = df.select_dtypes('object').columns\n",
    "df[col_ob].nunique()"
   ]
  },
  {
   "cell_type": "code",
   "execution_count": 505,
   "id": "885fe346-72d1-40bf-a328-5e34d47c6626",
   "metadata": {
    "tags": []
   },
   "outputs": [
    {
     "data": {
      "text/plain": [
       "yy    mm\n",
       "2011  12     6\n",
       "      7      5\n",
       "      5     19\n",
       "      4     37\n",
       "2010  12    16\n",
       "Name: InvoiceDate, dtype: int64"
      ]
     },
     "execution_count": 505,
     "metadata": {},
     "output_type": "execute_result"
    }
   ],
   "source": [
    "# 8. 거래일시(InvoiceDate) 컬럼을 대상으로 년월별 거래 횟수 출력 내림차순\n",
    "df.groupby(['yy', 'mm'])['InvoiceDate'].count().sort_index(ascending=False)"
   ]
  },
  {
   "cell_type": "code",
   "execution_count": 516,
   "id": "1b5f6fc3-485c-4e44-84cb-6663969884ee",
   "metadata": {
    "tags": []
   },
   "outputs": [
    {
     "data": {
      "text/plain": [
       "2011-12     6\n",
       "2011-07     5\n",
       "2011-05    19\n",
       "2011-04    37\n",
       "2010-12    16\n",
       "Name: InvoiceDate, dtype: int64"
      ]
     },
     "execution_count": 516,
     "metadata": {},
     "output_type": "execute_result"
    }
   ],
   "source": [
    "df['InvoiceDate'].astype('str').str[0:7].value_counts().sort_index(ascending=False)"
   ]
  },
  {
   "cell_type": "code",
   "execution_count": 525,
   "id": "8f68311b-a28c-4314-a01b-5a86757d43a5",
   "metadata": {
    "tags": []
   },
   "outputs": [
    {
     "data": {
      "text/plain": [
       "yy    mm\n",
       "2011  12     6\n",
       "      7      5\n",
       "      5     19\n",
       "      4     37\n",
       "2010  12    16\n",
       "dtype: int64"
      ]
     },
     "execution_count": 525,
     "metadata": {},
     "output_type": "execute_result"
    }
   ],
   "source": [
    "df[['yy', 'mm']].value_counts().sort_index(ascending=False)"
   ]
  },
  {
   "cell_type": "code",
   "execution_count": 530,
   "id": "fcf46371-1f00-42fb-ac21-df9f7adf39cc",
   "metadata": {
    "tags": []
   },
   "outputs": [
    {
     "data": {
      "text/plain": [
       "2011-12     6\n",
       "2011-07     5\n",
       "2011-05    19\n",
       "2011-04    37\n",
       "2010-12    16\n",
       "Name: InvoiceDate, dtype: int64"
      ]
     },
     "execution_count": 530,
     "metadata": {},
     "output_type": "execute_result"
    }
   ],
   "source": [
    "df['InvoiceDate'].dt.strftime('%Y-%m').value_counts().sort_index(ascending=False)"
   ]
  },
  {
   "cell_type": "code",
   "execution_count": 531,
   "id": "19aa86f2-334d-4e98-8e74-1034aa9e27e8",
   "metadata": {
    "tags": []
   },
   "outputs": [
    {
     "data": {
      "text/plain": [
       "7"
      ]
     },
     "execution_count": 531,
     "metadata": {},
     "output_type": "execute_result"
    }
   ],
   "source": [
    "df['CustomerID'].isna().sum()"
   ]
  },
  {
   "cell_type": "code",
   "execution_count": 536,
   "id": "cafc25c0-1d2c-490d-9536-00853a290906",
   "metadata": {
    "tags": []
   },
   "outputs": [
    {
     "data": {
      "text/plain": [
       "UnitPrice     2\n",
       "CustomerID    7\n",
       "dtype: int64"
      ]
     },
     "execution_count": 536,
     "metadata": {},
     "output_type": "execute_result"
    }
   ],
   "source": [
    "df.isna().sum()[df.isna().sum()>0]"
   ]
  },
  {
   "cell_type": "code",
   "execution_count": 552,
   "id": "d646f33c-64c6-4576-a1a9-d03001fc3124",
   "metadata": {
    "tags": []
   },
   "outputs": [
    {
     "data": {
      "text/plain": [
       "Int64Index([22, 23, 72, 73, 74, 75, 76], dtype='int64')"
      ]
     },
     "execution_count": 552,
     "metadata": {},
     "output_type": "execute_result"
    }
   ],
   "source": [
    "naindex = df[df['CustomerID'].isna()].index\n",
    "naindex"
   ]
  },
  {
   "cell_type": "code",
   "execution_count": 547,
   "id": "118a2e28-cd45-4c67-a233-f071016fc90b",
   "metadata": {
    "tags": []
   },
   "outputs": [
    {
     "data": {
      "text/plain": [
       "Int64Index([22, 23, 72, 73, 74, 75, 76], dtype='int64')"
      ]
     },
     "execution_count": 547,
     "metadata": {},
     "output_type": "execute_result"
    }
   ],
   "source": [
    "df[df['CustomerID'].isna().values==True].index"
   ]
  },
  {
   "cell_type": "code",
   "execution_count": 561,
   "id": "3b5bd50a-64d5-46a1-af15-6b4c77d02f84",
   "metadata": {
    "tags": []
   },
   "outputs": [
    {
     "data": {
      "text/plain": [
       "12429.0"
      ]
     },
     "execution_count": 561,
     "metadata": {},
     "output_type": "execute_result"
    }
   ],
   "source": [
    "mval = df['CustomerID'].mode().values[0]\n",
    "mval"
   ]
  },
  {
   "cell_type": "code",
   "execution_count": 565,
   "id": "1d6c2994-46a8-4a94-8fbc-f139baa4ea5d",
   "metadata": {
    "tags": []
   },
   "outputs": [
    {
     "data": {
      "text/plain": [
       "7"
      ]
     },
     "execution_count": 565,
     "metadata": {},
     "output_type": "execute_result"
    }
   ],
   "source": [
    "df['CustomerID'].isna().sum()"
   ]
  },
  {
   "cell_type": "code",
   "execution_count": 186,
   "id": "01ecec1b-0162-4c2d-8b67-b51e198a7e03",
   "metadata": {
    "tags": []
   },
   "outputs": [
    {
     "data": {
      "text/plain": [
       "0"
      ]
     },
     "execution_count": 186,
     "metadata": {},
     "output_type": "execute_result"
    }
   ],
   "source": [
    "# 9. 구매자 고유 번호(CustomerID)가 결측인 회원값을 최빈도 값으로 대채\n",
    "cus_mod_val = df['CustomerID'].mode().values[0]\n",
    "df['CustomerID'] = df['CustomerID'].fillna(cus_mod_val)\n",
    "df['CustomerID'].isna().sum()"
   ]
  },
  {
   "cell_type": "code",
   "execution_count": 569,
   "id": "50521726-7301-44fa-868a-8e978eaa273b",
   "metadata": {
    "tags": []
   },
   "outputs": [
    {
     "data": {
      "text/plain": [
       "128"
      ]
     },
     "execution_count": 569,
     "metadata": {},
     "output_type": "execute_result"
    }
   ],
   "source": [
    "df['Quantity'].max()"
   ]
  },
  {
   "cell_type": "code",
   "execution_count": 213,
   "id": "44b291c8-699b-4bd0-96ac-51e203777fca",
   "metadata": {
    "tags": []
   },
   "outputs": [
    {
     "data": {
      "text/html": [
       "<div>\n",
       "<style scoped>\n",
       "    .dataframe tbody tr th:only-of-type {\n",
       "        vertical-align: middle;\n",
       "    }\n",
       "\n",
       "    .dataframe tbody tr th {\n",
       "        vertical-align: top;\n",
       "    }\n",
       "\n",
       "    .dataframe thead th {\n",
       "        text-align: right;\n",
       "    }\n",
       "</style>\n",
       "<table border=\"1\" class=\"dataframe\">\n",
       "  <thead>\n",
       "    <tr style=\"text-align: right;\">\n",
       "      <th></th>\n",
       "      <th>Description</th>\n",
       "      <th>UnitPrice</th>\n",
       "      <th>Quantity</th>\n",
       "    </tr>\n",
       "  </thead>\n",
       "  <tbody>\n",
       "    <tr>\n",
       "      <th>0</th>\n",
       "      <td>WHITE HANGING HEART T-LIGHT HOLDER</td>\n",
       "      <td>2.55</td>\n",
       "      <td>6</td>\n",
       "    </tr>\n",
       "    <tr>\n",
       "      <th>1</th>\n",
       "      <td>WHITE METAL LANTERN</td>\n",
       "      <td>3.39</td>\n",
       "      <td>6</td>\n",
       "    </tr>\n",
       "    <tr>\n",
       "      <th>3</th>\n",
       "      <td>KNITTED UNION FLAG HOT WATER BOTTLE</td>\n",
       "      <td>3.39</td>\n",
       "      <td>6</td>\n",
       "    </tr>\n",
       "    <tr>\n",
       "      <th>4</th>\n",
       "      <td>RED WOOLLY HOTTIE WHITE HEART.</td>\n",
       "      <td>3.39</td>\n",
       "      <td>6</td>\n",
       "    </tr>\n",
       "    <tr>\n",
       "      <th>6</th>\n",
       "      <td>GLASS STAR FROSTED T-LIGHT HOLDER</td>\n",
       "      <td>4.25</td>\n",
       "      <td>6</td>\n",
       "    </tr>\n",
       "    <tr>\n",
       "      <th>7</th>\n",
       "      <td>HAND WARMER UNION JACK</td>\n",
       "      <td>1.85</td>\n",
       "      <td>6</td>\n",
       "    </tr>\n",
       "    <tr>\n",
       "      <th>8</th>\n",
       "      <td>HAND WARMER RED POLKA DOT</td>\n",
       "      <td>1.85</td>\n",
       "      <td>6</td>\n",
       "    </tr>\n",
       "    <tr>\n",
       "      <th>10</th>\n",
       "      <td>POPPY'S PLAYHOUSE BEDROOM</td>\n",
       "      <td>2.10</td>\n",
       "      <td>6</td>\n",
       "    </tr>\n",
       "    <tr>\n",
       "      <th>11</th>\n",
       "      <td>POPPY'S PLAYHOUSE KITCHEN</td>\n",
       "      <td>2.10</td>\n",
       "      <td>6</td>\n",
       "    </tr>\n",
       "    <tr>\n",
       "      <th>13</th>\n",
       "      <td>IVORY KNITTED MUG COSY</td>\n",
       "      <td>1.65</td>\n",
       "      <td>6</td>\n",
       "    </tr>\n",
       "    <tr>\n",
       "      <th>14</th>\n",
       "      <td>BOX OF 6 ASSORTED COLOUR TEASPOONS</td>\n",
       "      <td>4.25</td>\n",
       "      <td>6</td>\n",
       "    </tr>\n",
       "    <tr>\n",
       "      <th>44</th>\n",
       "      <td>RECORD FRAME 7\" SINGLE SIZE</td>\n",
       "      <td>2.55</td>\n",
       "      <td>6</td>\n",
       "    </tr>\n",
       "    <tr>\n",
       "      <th>46</th>\n",
       "      <td>JAM MAKING SET WITH JARS</td>\n",
       "      <td>4.25</td>\n",
       "      <td>6</td>\n",
       "    </tr>\n",
       "    <tr>\n",
       "      <th>51</th>\n",
       "      <td>PACK OF 6 HANDBAG GIFT BOXES</td>\n",
       "      <td>2.55</td>\n",
       "      <td>6</td>\n",
       "    </tr>\n",
       "    <tr>\n",
       "      <th>52</th>\n",
       "      <td>MAKE YOUR OWN MONSOON CARD KIT</td>\n",
       "      <td>2.95</td>\n",
       "      <td>6</td>\n",
       "    </tr>\n",
       "    <tr>\n",
       "      <th>53</th>\n",
       "      <td>RED FLOWER CROCHET FOOD COVER</td>\n",
       "      <td>3.75</td>\n",
       "      <td>6</td>\n",
       "    </tr>\n",
       "    <tr>\n",
       "      <th>54</th>\n",
       "      <td>NURSERY A,B,C PAINTED LETTERS</td>\n",
       "      <td>6.75</td>\n",
       "      <td>6</td>\n",
       "    </tr>\n",
       "    <tr>\n",
       "      <th>68</th>\n",
       "      <td>NATURAL SLATE CHALKBOARD LARGE</td>\n",
       "      <td>4.95</td>\n",
       "      <td>6</td>\n",
       "    </tr>\n",
       "    <tr>\n",
       "      <th>69</th>\n",
       "      <td>NATURAL SLATE HEART CHALKBOARD</td>\n",
       "      <td>2.95</td>\n",
       "      <td>6</td>\n",
       "    </tr>\n",
       "    <tr>\n",
       "      <th>79</th>\n",
       "      <td>CHILDREN'S APRON DOLLY GIRL</td>\n",
       "      <td>2.10</td>\n",
       "      <td>6</td>\n",
       "    </tr>\n",
       "  </tbody>\n",
       "</table>\n",
       "</div>"
      ],
      "text/plain": [
       "                            Description  UnitPrice  Quantity\n",
       "0    WHITE HANGING HEART T-LIGHT HOLDER       2.55         6\n",
       "1                   WHITE METAL LANTERN       3.39         6\n",
       "3   KNITTED UNION FLAG HOT WATER BOTTLE       3.39         6\n",
       "4        RED WOOLLY HOTTIE WHITE HEART.       3.39         6\n",
       "6     GLASS STAR FROSTED T-LIGHT HOLDER       4.25         6\n",
       "7                HAND WARMER UNION JACK       1.85         6\n",
       "8             HAND WARMER RED POLKA DOT       1.85         6\n",
       "10           POPPY'S PLAYHOUSE BEDROOM        2.10         6\n",
       "11            POPPY'S PLAYHOUSE KITCHEN       2.10         6\n",
       "13              IVORY KNITTED MUG COSY        1.65         6\n",
       "14   BOX OF 6 ASSORTED COLOUR TEASPOONS       4.25         6\n",
       "44         RECORD FRAME 7\" SINGLE SIZE        2.55         6\n",
       "46             JAM MAKING SET WITH JARS       4.25         6\n",
       "51         PACK OF 6 HANDBAG GIFT BOXES       2.55         6\n",
       "52       MAKE YOUR OWN MONSOON CARD KIT       2.95         6\n",
       "53        RED FLOWER CROCHET FOOD COVER       3.75         6\n",
       "54        NURSERY A,B,C PAINTED LETTERS       6.75         6\n",
       "68      NATURAL SLATE CHALKBOARD LARGE        4.95         6\n",
       "69      NATURAL SLATE HEART CHALKBOARD        2.95         6\n",
       "79         CHILDREN'S APRON DOLLY GIRL        2.10         6"
      ]
     },
     "execution_count": 213,
     "metadata": {},
     "output_type": "execute_result"
    }
   ],
   "source": [
    "# 10. 10. Quantity(거래수량)이 가장 많은 상품들의 상품명, 가격정보 출력\n",
    "quan_max = df['Quantity'].value_counts().index[0]\n",
    "df[['Description','UnitPrice','Quantity']][df['Quantity']==quan_max]"
   ]
  },
  {
   "cell_type": "code",
   "execution_count": 211,
   "id": "5fc7e5f6-aaf0-4530-9584-2df2eaaf96c1",
   "metadata": {
    "tags": []
   },
   "outputs": [
    {
     "data": {
      "text/plain": [
       " 6      20\n",
       " 2      11\n",
       " 8       7\n",
       "-1       6\n",
       " 10      6\n",
       " 12      6\n",
       " 4       5\n",
       " 1       3\n",
       " 24      2\n",
       "-2       2\n",
       " 5       2\n",
       " 3       2\n",
       "-110     1\n",
       "-100     1\n",
       " 128     1\n",
       "-16      1\n",
       " 32      1\n",
       "-10      1\n",
       " 48      1\n",
       " 40      1\n",
       " 80      1\n",
       " 18      1\n",
       "-6       1\n",
       "Name: Quantity, dtype: int64"
      ]
     },
     "execution_count": 211,
     "metadata": {},
     "output_type": "execute_result"
    }
   ],
   "source": [
    "df['Quantity'].value_counts()"
   ]
  },
  {
   "cell_type": "code",
   "execution_count": 493,
   "id": "9abe663d-bfad-4018-9a3a-538b7185efc7",
   "metadata": {
    "tags": []
   },
   "outputs": [
    {
     "data": {
      "text/plain": [
       "6"
      ]
     },
     "execution_count": 493,
     "metadata": {},
     "output_type": "execute_result"
    }
   ],
   "source": [
    "df['Quantity'].value_counts().index[0]"
   ]
  }
 ],
 "metadata": {
  "kernelspec": {
   "display_name": "Python 3 (ipykernel)",
   "language": "python",
   "name": "python3"
  },
  "language_info": {
   "codemirror_mode": {
    "name": "ipython",
    "version": 3
   },
   "file_extension": ".py",
   "mimetype": "text/x-python",
   "name": "python",
   "nbconvert_exporter": "python",
   "pygments_lexer": "ipython3",
   "version": "3.8.8"
  }
 },
 "nbformat": 4,
 "nbformat_minor": 5
}
