{
 "cells": [
  {
   "cell_type": "markdown",
   "id": "f03b9319-62a9-4240-b00d-97f1868001a6",
   "metadata": {},
   "source": [
    "<font size=6><b> lec10. object 변수"
   ]
  },
  {
   "cell_type": "markdown",
   "id": "dcd3cfcb-6ba9-4005-ad72-d6a855d63f53",
   "metadata": {},
   "source": [
    "### 범주형 변수 categorical data 처리\n",
    "* 라벨인코딩(Label Encoding)\n",
    "* 원핫인코딩(One-hot Encoding)\n",
    "* get_dummies()\n",
    "* 범주화(Bining)\n",
    "* astype('category')"
   ]
  },
  {
   "cell_type": "markdown",
   "id": "d8bbf92b-9c1d-4fd4-bd22-0b342787d04e",
   "metadata": {},
   "source": [
    "> <font size=4><b>(1) 라벨인코딩(Label Encoding)\n",
    "> * n개의 범주형 데이터를 0부터 n-1까지의 연속적 수치 데이터로 표현"
   ]
  },
  {
   "cell_type": "code",
   "execution_count": 3,
   "id": "cbcfbbf7-a80a-417f-bf4a-05f35dd1ec81",
   "metadata": {},
   "outputs": [],
   "source": [
    "from sklearn.preprocessing import LabelEncoder"
   ]
  },
  {
   "cell_type": "code",
   "execution_count": null,
   "id": "8edb36fa-f02f-4679-988a-e47c46fe2b55",
   "metadata": {},
   "outputs": [],
   "source": []
  },
  {
   "cell_type": "markdown",
   "id": "c4ed68e2-f762-418a-b777-2434667151a1",
   "metadata": {},
   "source": [
    "> <font size=4><b>(2) 원핫인코딩(One-hot Encoding)\n",
    "> * 집합의 크기를 벡터의 차원으로 하고, 표현하고 싶은 단어의 인덱스에 1의 값을 부여하고, 다른 인덱스에는 0을 부여하는 벡터 표현 방식\n",
    "> *  데이터프레임에서 object 타입으로 되어있는 변수는 dummy 변수화\n",
    "> * <font color=red><b> 판다스의 시리즈가 아닌 numpy 행렬을 입력해야함 → df['컬럼'].values\n",
    "> * <font color=red><b> 벡터 입력을 허용하지 않음 → reshape(-1,1)을 이용해 Matrix로 변환  (N,) → (N,1)"
   ]
  },
  {
   "cell_type": "code",
   "execution_count": 2,
   "id": "a878e8d8-111a-427b-bca3-2956e76571ec",
   "metadata": {},
   "outputs": [],
   "source": [
    "from sklearn.preprocessing import OneHotEncoder"
   ]
  },
  {
   "cell_type": "markdown",
   "id": "926e42ad-deb8-454d-8997-49f07cdc2394",
   "metadata": {},
   "source": [
    "> <font size=4><b>(3) get_dummies() = 라벨인코딩(Label Encoding)+원핫인코딩(One-hot Encoding)"
   ]
  },
  {
   "cell_type": "code",
   "execution_count": null,
   "id": "32779537-dd93-4853-a125-55ec0f6d6394",
   "metadata": {},
   "outputs": [],
   "source": []
  },
  {
   "cell_type": "markdown",
   "id": "9d1ff091-b193-44c8-8b8f-c85c37fe1139",
   "metadata": {},
   "source": [
    "> <font size=4><b>(4) 범주화(Bining)\n",
    "> * 연속형 데이터를 구간으로 나누어 범주화하는 방법\n",
    "> * cut()  : 동일 구간으로 나누기\n",
    "> * qcut() : 동일 갯수로 나누기"
   ]
  },
  {
   "cell_type": "code",
   "execution_count": null,
   "id": "a68987ce-9b75-4ba2-a59a-eca96cb82069",
   "metadata": {},
   "outputs": [],
   "source": []
  },
  {
   "cell_type": "markdown",
   "id": "d5dc7993-524f-485b-a860-f8673ea1bc5a",
   "metadata": {
    "tags": []
   },
   "source": [
    "> <font size=4><b>(5) category타입\n",
    "> * df['컬럼'].astype('category').cat.codes\n",
    "> * df['컬럼'].astype('category').cat.categories"
   ]
  },
  {
   "cell_type": "code",
   "execution_count": null,
   "id": "b8445c1a-26cf-45b3-af49-87a1185e0657",
   "metadata": {},
   "outputs": [],
   "source": []
  }
 ],
 "metadata": {
  "kernelspec": {
   "display_name": "Python 3 (ipykernel)",
   "language": "python",
   "name": "python3"
  },
  "language_info": {
   "codemirror_mode": {
    "name": "ipython",
    "version": 3
   },
   "file_extension": ".py",
   "mimetype": "text/x-python",
   "name": "python",
   "nbconvert_exporter": "python",
   "pygments_lexer": "ipython3",
   "version": "3.8.8"
  }
 },
 "nbformat": 4,
 "nbformat_minor": 5
}
