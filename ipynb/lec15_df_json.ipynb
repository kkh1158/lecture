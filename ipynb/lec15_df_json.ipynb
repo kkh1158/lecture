{
 "cells": [
  {
   "cell_type": "code",
   "execution_count": 1,
   "id": "19f1cca9-c80a-49d4-b279-ad18e6b2885f",
   "metadata": {
    "tags": []
   },
   "outputs": [],
   "source": [
    "import numpy as np\n",
    "import pandas as pd\n",
    "import json"
   ]
  },
  {
   "cell_type": "markdown",
   "id": "cbf0f9bb-0908-4269-8a93-1eba57e87657",
   "metadata": {},
   "source": [
    "# df json control"
   ]
  },
  {
   "cell_type": "markdown",
   "id": "5490ad88-d2b3-40f3-84e8-746ac99415eb",
   "metadata": {},
   "source": [
    "# JSON\n",
    "```\n",
    "json.load(파일)\n",
    "json.loads(변수) # 글자 --> 객체\n",
    "\n",
    "json.dump(파일)\n",
    "json.dumps(변수) # 객체 --> 글자\n",
    "```"
   ]
  },
  {
   "cell_type": "code",
   "execution_count": 2,
   "id": "440152a3-d190-4125-b421-3af2f78df189",
   "metadata": {
    "tags": []
   },
   "outputs": [
    {
     "name": "stdout",
     "output_type": "stream",
     "text": [
      "[{\"userid\": \"kim\", \"userpw\": 1111}, {\"userid\": \"lee\", \"userpw\": 2222}]\n",
      "<class 'str'>\n",
      "[{'userid': 'kim', 'userpw': 1111}, {'userid': 'lee', 'userpw': 2222}]\n",
      "<class 'list'>\n"
     ]
    }
   ],
   "source": [
    "# 글자를 객체로\n",
    "dic_str = \"\"\"[{\"userid\": \"kim\", \"userpw\": 1111}, {\"userid\": \"lee\", \"userpw\": 2222}]\"\"\"\n",
    "print(dic_str)\n",
    "print(type(dic_str))\n",
    "dic_list = json.loads(dic_str)\n",
    "print(dic_list)\n",
    "print(type(dic_list))"
   ]
  },
  {
   "cell_type": "code",
   "execution_count": 3,
   "id": "082aa520-2031-42ba-ad70-54433e59edd9",
   "metadata": {
    "tags": []
   },
   "outputs": [
    {
     "name": "stdout",
     "output_type": "stream",
     "text": [
      "[{'userid': 'kim', 'userpw': 1111}, {'userid': 'lee', 'userpw': 2222}]\n",
      "<class 'list'>\n",
      "[{\"userid\": \"kim\", \"userpw\": 1111}, {\"userid\": \"lee\", \"userpw\": 2222}]\n",
      "<class 'str'>\n"
     ]
    }
   ],
   "source": [
    "# 객체를 글자로\n",
    "dic_list = [{'userid': 'kim', 'userpw': 1111}, {'userid': 'lee', 'userpw': 2222}]\n",
    "print(dic_list)\n",
    "print(type(dic_list))\n",
    "dic_str = json.dumps(dic_list)\n",
    "print(dic_str)\n",
    "print(type(dic_str))"
   ]
  },
  {
   "cell_type": "markdown",
   "id": "410af40d-b020-4a9c-abdf-31e8b3fcbcb3",
   "metadata": {},
   "source": [
    "# DataFrame\n",
    "```\n",
    "pd.DataFrame(리스트딕트)\n",
    "```"
   ]
  },
  {
   "cell_type": "code",
   "execution_count": 4,
   "id": "7bf07006-816b-4b41-9b6f-cae6350ae4f5",
   "metadata": {
    "tags": []
   },
   "outputs": [
    {
     "data": {
      "text/html": [
       "<div>\n",
       "<style scoped>\n",
       "    .dataframe tbody tr th:only-of-type {\n",
       "        vertical-align: middle;\n",
       "    }\n",
       "\n",
       "    .dataframe tbody tr th {\n",
       "        vertical-align: top;\n",
       "    }\n",
       "\n",
       "    .dataframe thead th {\n",
       "        text-align: right;\n",
       "    }\n",
       "</style>\n",
       "<table border=\"1\" class=\"dataframe\">\n",
       "  <thead>\n",
       "    <tr style=\"text-align: right;\">\n",
       "      <th></th>\n",
       "      <th>userid</th>\n",
       "      <th>userpw</th>\n",
       "    </tr>\n",
       "  </thead>\n",
       "  <tbody>\n",
       "    <tr>\n",
       "      <th>10</th>\n",
       "      <td>kim</td>\n",
       "      <td>1111</td>\n",
       "    </tr>\n",
       "    <tr>\n",
       "      <th>20</th>\n",
       "      <td>lee</td>\n",
       "      <td>2222</td>\n",
       "    </tr>\n",
       "  </tbody>\n",
       "</table>\n",
       "</div>"
      ],
      "text/plain": [
       "   userid  userpw\n",
       "10    kim    1111\n",
       "20    lee    2222"
      ]
     },
     "execution_count": 4,
     "metadata": {},
     "output_type": "execute_result"
    }
   ],
   "source": [
    "dic_list = [{'userid': 'kim', 'userpw': 1111}, {'userid': 'lee', 'userpw': 2222}]\n",
    "\n",
    "df = pd.DataFrame(dic_list, index=[10, 20])\n",
    "df"
   ]
  },
  {
   "cell_type": "markdown",
   "id": "7d9aee8e-97a8-44dc-bc37-300fd98c0683",
   "metadata": {},
   "source": [
    "# df를 json str으로\n",
    "```\n",
    "df.to_json(\n",
    "    파일저장경로,\n",
    "    orient='columns' # 인덱스포함그대로\n",
    "    orient='records' # 인덱스빼고값만\n",
    "    orient='index' # .T\n",
    ")\n",
    "```"
   ]
  },
  {
   "cell_type": "code",
   "execution_count": 5,
   "id": "f844399c-3a0f-46a3-a4b7-02bba90248f3",
   "metadata": {
    "tags": []
   },
   "outputs": [
    {
     "data": {
      "text/plain": [
       "'{\"userid\":{\"10\":\"kim\",\"20\":\"lee\"},\"userpw\":{\"10\":1111,\"20\":2222}}'"
      ]
     },
     "execution_count": 5,
     "metadata": {},
     "output_type": "execute_result"
    }
   ],
   "source": [
    "df_json_str = df.to_json()\n",
    "df_json_str"
   ]
  },
  {
   "cell_type": "code",
   "execution_count": 6,
   "id": "fb6b902c-902c-4a18-b815-805bf20abaa9",
   "metadata": {
    "tags": []
   },
   "outputs": [
    {
     "data": {
      "text/plain": [
       "{'userid': {'10': 'kim', '20': 'lee'}, 'userpw': {'10': 1111, '20': 2222}}"
      ]
     },
     "execution_count": 6,
     "metadata": {},
     "output_type": "execute_result"
    }
   ],
   "source": [
    "df_json_str_dict = json.loads(df_json_str)\n",
    "df_json_str_dict"
   ]
  },
  {
   "cell_type": "code",
   "execution_count": 7,
   "id": "000109a3-7269-4409-8501-3b37a37a0a9a",
   "metadata": {
    "tags": []
   },
   "outputs": [
    {
     "data": {
      "text/plain": [
       "'[{\"userid\":\"kim\",\"userpw\":1111},{\"userid\":\"lee\",\"userpw\":2222}]'"
      ]
     },
     "execution_count": 7,
     "metadata": {},
     "output_type": "execute_result"
    }
   ],
   "source": [
    "df.to_json(orient='records')"
   ]
  },
  {
   "cell_type": "markdown",
   "id": "67441439-517f-4fff-ae7a-b0af92d12f9b",
   "metadata": {},
   "source": [
    "# JSON형식으로 파일쓰기\n",
    "df꺼임\n",
    "```\n",
    "df.to_json()\n",
    "```"
   ]
  },
  {
   "cell_type": "code",
   "execution_count": 8,
   "id": "5e64827e-bc26-4ab1-ae86-9b3361c16e54",
   "metadata": {
    "tags": []
   },
   "outputs": [],
   "source": [
    "df.to_json('../file/test_json.txt')"
   ]
  },
  {
   "cell_type": "markdown",
   "id": "bf11523d-5eb8-449a-8a63-7d374876f2c9",
   "metadata": {},
   "source": [
    "# JSON형식 파일읽기\n",
    "pd꺼임\n",
    "```\n",
    "pd.read_json()\n",
    "```"
   ]
  },
  {
   "cell_type": "code",
   "execution_count": 9,
   "id": "7a3010e3-b222-4756-8a58-cec46334bb26",
   "metadata": {
    "tags": []
   },
   "outputs": [
    {
     "data": {
      "text/html": [
       "<div>\n",
       "<style scoped>\n",
       "    .dataframe tbody tr th:only-of-type {\n",
       "        vertical-align: middle;\n",
       "    }\n",
       "\n",
       "    .dataframe tbody tr th {\n",
       "        vertical-align: top;\n",
       "    }\n",
       "\n",
       "    .dataframe thead th {\n",
       "        text-align: right;\n",
       "    }\n",
       "</style>\n",
       "<table border=\"1\" class=\"dataframe\">\n",
       "  <thead>\n",
       "    <tr style=\"text-align: right;\">\n",
       "      <th></th>\n",
       "      <th>userid</th>\n",
       "      <th>userpw</th>\n",
       "    </tr>\n",
       "  </thead>\n",
       "  <tbody>\n",
       "    <tr>\n",
       "      <th>0</th>\n",
       "      <td>kim</td>\n",
       "      <td>1111</td>\n",
       "    </tr>\n",
       "    <tr>\n",
       "      <th>1</th>\n",
       "      <td>lee</td>\n",
       "      <td>2222</td>\n",
       "    </tr>\n",
       "  </tbody>\n",
       "</table>\n",
       "</div>"
      ],
      "text/plain": [
       "  userid  userpw\n",
       "0    kim    1111\n",
       "1    lee    2222"
      ]
     },
     "execution_count": 9,
     "metadata": {},
     "output_type": "execute_result"
    }
   ],
   "source": [
    "pd.read_json('[{\"userid\":\"kim\",\"userpw\":1111},{\"userid\":\"lee\",\"userpw\":2222}]')"
   ]
  },
  {
   "cell_type": "code",
   "execution_count": 10,
   "id": "fa63094c-336b-48a8-8d72-8d5349ae0fee",
   "metadata": {
    "tags": []
   },
   "outputs": [
    {
     "data": {
      "text/html": [
       "<div>\n",
       "<style scoped>\n",
       "    .dataframe tbody tr th:only-of-type {\n",
       "        vertical-align: middle;\n",
       "    }\n",
       "\n",
       "    .dataframe tbody tr th {\n",
       "        vertical-align: top;\n",
       "    }\n",
       "\n",
       "    .dataframe thead th {\n",
       "        text-align: right;\n",
       "    }\n",
       "</style>\n",
       "<table border=\"1\" class=\"dataframe\">\n",
       "  <thead>\n",
       "    <tr style=\"text-align: right;\">\n",
       "      <th></th>\n",
       "      <th>userid</th>\n",
       "      <th>userpw</th>\n",
       "    </tr>\n",
       "  </thead>\n",
       "  <tbody>\n",
       "    <tr>\n",
       "      <th>10</th>\n",
       "      <td>kim</td>\n",
       "      <td>1111</td>\n",
       "    </tr>\n",
       "    <tr>\n",
       "      <th>20</th>\n",
       "      <td>lee</td>\n",
       "      <td>2222</td>\n",
       "    </tr>\n",
       "  </tbody>\n",
       "</table>\n",
       "</div>"
      ],
      "text/plain": [
       "   userid  userpw\n",
       "10    kim    1111\n",
       "20    lee    2222"
      ]
     },
     "execution_count": 10,
     "metadata": {},
     "output_type": "execute_result"
    }
   ],
   "source": [
    "pd.read_json('../file/test_json.txt', orient='records')"
   ]
  },
  {
   "cell_type": "code",
   "execution_count": 11,
   "id": "f24622ce-bd95-4518-a23b-6d6f6a2a1490",
   "metadata": {
    "tags": []
   },
   "outputs": [
    {
     "data": {
      "text/html": [
       "<div>\n",
       "<style scoped>\n",
       "    .dataframe tbody tr th:only-of-type {\n",
       "        vertical-align: middle;\n",
       "    }\n",
       "\n",
       "    .dataframe tbody tr th {\n",
       "        vertical-align: top;\n",
       "    }\n",
       "\n",
       "    .dataframe thead th {\n",
       "        text-align: right;\n",
       "    }\n",
       "</style>\n",
       "<table border=\"1\" class=\"dataframe\">\n",
       "  <thead>\n",
       "    <tr style=\"text-align: right;\">\n",
       "      <th></th>\n",
       "      <th>userid</th>\n",
       "      <th>userpw</th>\n",
       "    </tr>\n",
       "  </thead>\n",
       "  <tbody>\n",
       "    <tr>\n",
       "      <th>10</th>\n",
       "      <td>kim</td>\n",
       "      <td>1111</td>\n",
       "    </tr>\n",
       "    <tr>\n",
       "      <th>20</th>\n",
       "      <td>lee</td>\n",
       "      <td>2222</td>\n",
       "    </tr>\n",
       "  </tbody>\n",
       "</table>\n",
       "</div>"
      ],
      "text/plain": [
       "   userid  userpw\n",
       "10    kim    1111\n",
       "20    lee    2222"
      ]
     },
     "execution_count": 11,
     "metadata": {},
     "output_type": "execute_result"
    }
   ],
   "source": [
    "pd.read_json('../file/test_json.txt')"
   ]
  }
 ],
 "metadata": {
  "kernelspec": {
   "display_name": "Python 3 (ipykernel)",
   "language": "python",
   "name": "python3"
  },
  "language_info": {
   "codemirror_mode": {
    "name": "ipython",
    "version": 3
   },
   "file_extension": ".py",
   "mimetype": "text/x-python",
   "name": "python",
   "nbconvert_exporter": "python",
   "pygments_lexer": "ipython3",
   "version": "3.8.8"
  }
 },
 "nbformat": 4,
 "nbformat_minor": 5
}
