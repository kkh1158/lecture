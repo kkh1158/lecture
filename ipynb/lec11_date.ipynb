{
 "cells": [
  {
   "cell_type": "markdown",
   "id": "a18e8e8f-b21f-4796-b604-f287fe1b789f",
   "metadata": {},
   "source": [
    "# 날짜를 잘 다뤄보자"
   ]
  },
  {
   "cell_type": "markdown",
   "id": "88e3d2c9-10c2-437d-89f3-07983b83f293",
   "metadata": {},
   "source": [
    "<font color=red><b>from datetime.py import 클래스</b></font>\n",
    "* datetime.py에는 총 6개의 클래스가 존재\n",
    "<pre>\n",
    "    * <b>class date: 년월일</b>\n",
    "    * <b>class datetime(date): 년월일 시분초</b>\n",
    "    * <b>class time: 시분초</b>\n",
    "    * <b>class timedelta: 날짜 사이의 간격</b>\n",
    "    \n",
    "    * class tzinfo:\n",
    "    * class timezone(tzinfo):\n",
    "    \n",
    "https://docs.python.org/ko/3.8/library/datetime.html"
   ]
  },
  {
   "cell_type": "markdown",
   "id": "86e6a262-8c75-4c4b-bc1f-2f643569cc3a",
   "metadata": {},
   "source": [
    "<pre>\n",
    "-----------------------------------------------------------------------------------------\n",
    "    <b>DATE                              TIME                      DATETIME</b>\n",
    "-----------------------------------------------------------------------------------------\n",
    "date.today()                                                datetime.now()\n",
    "-----------------------------------------------------------------------------------------\n",
    "date.fromtimestamp()                                        datetime.fromtimestamp()\n",
    "-----------------------------------------------------------------------------------------\n",
    "date.weekday()                                              datetime.weekday()\n",
    "-----------------------------------------------------------------------------------------\n",
    "-----------------------------------------------------------------------------------------\n",
    "<font color=red>\n",
    "date.strftime()                     time.strftime()         datetime.strftime()        datetime -> str\n",
    "                                                            datetime.strptime()        str -> datetime\n",
    "</font>\n",
    "-----------------------------------------------------------------------------------------\n",
    "<font color=blue>\n",
    "date.isoformat()                    time.isoformat()        datetime.isoformat()       datetime -> str\n",
    "-----------------------------------------------------------------------------------------\n",
    "date.fromisoformat()                time.fromisoformat()    datetime.fromisoformat()   str -> datetime\n",
    "</font>\n",
    "-----------------------------------------------------------------------------------------\n",
    "-----------------------------------------------------------------------------------------\n",
    "                                                            datetime.date()\n",
    "                                                            datetime.time()\n",
    "                                                            datetime.timestamp()\n",
    "-----------------------------------------------------------------------------------------\n",
    "date.year,date.month, date.day      X                       datetime.year, datetime.month, datetime.day, \n",
    "-----------------------------------------------------------------------------------------\n",
    "                                    time.hour,              datetime.hour \n",
    "                                    time.minute,            datetime.minute \n",
    "                                    time.second,            datetime.second\n",
    "                                    time.microsecond  \n",
    "-----------------------------------------------------------------------------------------"
   ]
  },
  {
   "cell_type": "code",
   "execution_count": 324,
   "id": "ea90b702-e005-4843-97e7-a37c2af4299f",
   "metadata": {
    "tags": []
   },
   "outputs": [],
   "source": [
    "from datetime import date, datetime, time, timedelta"
   ]
  },
  {
   "cell_type": "markdown",
   "id": "39e7ad74-f329-43b4-8c77-9475049a55e0",
   "metadata": {},
   "source": [
    "# date: 년, 월, 일"
   ]
  },
  {
   "cell_type": "code",
   "execution_count": 184,
   "id": "0594ce03-d5da-46de-83f8-65ac262b6c2f",
   "metadata": {
    "tags": []
   },
   "outputs": [
    {
     "data": {
      "text/plain": [
       "(datetime.date(2023, 2, 15), datetime.date)"
      ]
     },
     "execution_count": 184,
     "metadata": {},
     "output_type": "execute_result"
    }
   ],
   "source": [
    "# 오늘 날짜 date\n",
    "date.today(), type(date.today())"
   ]
  },
  {
   "cell_type": "code",
   "execution_count": 187,
   "id": "bbc9dc45-6d92-40e5-a262-cefe27f01b24",
   "metadata": {
    "tags": []
   },
   "outputs": [
    {
     "data": {
      "text/plain": [
       "(datetime.date(1970, 1, 1), datetime.date)"
      ]
     },
     "execution_count": 187,
     "metadata": {},
     "output_type": "execute_result"
    }
   ],
   "source": [
    "# 70년 1월 1일 기준으로 몇 초 뒤 int --> date\n",
    "date.fromtimestamp(0), type(date.fromtimestamp(0))"
   ]
  },
  {
   "cell_type": "code",
   "execution_count": 188,
   "id": "bf8cdd37-ea74-486f-836e-78b9e376c3e6",
   "metadata": {
    "tags": []
   },
   "outputs": [
    {
     "data": {
      "text/plain": [
       "(2, int)"
      ]
     },
     "execution_count": 188,
     "metadata": {},
     "output_type": "execute_result"
    }
   ],
   "source": [
    "# 월0 화1 수2 목3 금4 토5 일6 int\n",
    "date(2023, 2, 15).weekday(), type(date(2023, 2, 15).weekday())"
   ]
  },
  {
   "cell_type": "markdown",
   "id": "b3f55596-9493-4e32-998f-b8ea2fdd3335",
   "metadata": {},
   "source": [
    "## date에서 형변환\n",
    "\n",
    "https://docs.python.org/ko/3.8/library/datetime.html#strftime-and-strptime-format-codes"
   ]
  },
  {
   "cell_type": "markdown",
   "id": "d858c126-81b5-49d0-9aa4-0108eea40f9d",
   "metadata": {},
   "source": [
    "### 문자 --> 날짜\n",
    "```\n",
    "date.fromisoformat('문자')\n",
    "```"
   ]
  },
  {
   "cell_type": "code",
   "execution_count": 298,
   "id": "f4e1edeb-dd5d-4be9-979b-7fca9d7415f1",
   "metadata": {
    "tags": []
   },
   "outputs": [
    {
     "data": {
      "text/plain": [
       "datetime.date(2023, 2, 15)"
      ]
     },
     "execution_count": 298,
     "metadata": {},
     "output_type": "execute_result"
    }
   ],
   "source": [
    "# str --> date\n",
    "date.fromisoformat('2023-02-15')"
   ]
  },
  {
   "cell_type": "markdown",
   "id": "7a7641d0-472c-4a7b-82a2-b3f14c81c558",
   "metadata": {},
   "source": [
    "### 날짜 --> 문자\n",
    "```\n",
    "날짜.strftime(형식)\n",
    "날짜.isoformat()\n",
    "```"
   ]
  },
  {
   "cell_type": "code",
   "execution_count": 302,
   "id": "d6f4bd83-bd22-48c2-8e3f-748b7ac6bf7a",
   "metadata": {
    "tags": []
   },
   "outputs": [
    {
     "data": {
      "text/plain": [
       "'2023-02-15'"
      ]
     },
     "execution_count": 302,
     "metadata": {},
     "output_type": "execute_result"
    }
   ],
   "source": [
    "# date --> str\n",
    "date.today().strftime('%Y-%m-%d')"
   ]
  },
  {
   "cell_type": "code",
   "execution_count": 301,
   "id": "f673760a-15b5-4287-bc16-f6efccd768eb",
   "metadata": {
    "tags": []
   },
   "outputs": [
    {
     "data": {
      "text/plain": [
       "'2023-02-15'"
      ]
     },
     "execution_count": 301,
     "metadata": {},
     "output_type": "execute_result"
    }
   ],
   "source": [
    "# date --> str\n",
    "date.today().isoformat()"
   ]
  },
  {
   "cell_type": "markdown",
   "id": "ab65c151-0dd7-4465-8a18-1ae4fd59c7fd",
   "metadata": {},
   "source": [
    "# datetime"
   ]
  },
  {
   "cell_type": "code",
   "execution_count": 226,
   "id": "481efbee-9776-4001-b34c-e562918c88fc",
   "metadata": {
    "tags": []
   },
   "outputs": [
    {
     "data": {
      "text/plain": [
       "(datetime.datetime(2023, 2, 15, 12, 55, 49, 585283),\n",
       " datetime.datetime(2023, 2, 15, 12, 55, 49, 585283))"
      ]
     },
     "execution_count": 226,
     "metadata": {},
     "output_type": "execute_result"
    }
   ],
   "source": [
    "# 오늘 날짜 datetime\n",
    "datetime.today(), datetime.now()"
   ]
  },
  {
   "cell_type": "code",
   "execution_count": 227,
   "id": "36755a0f-71a8-42bb-8958-f885d75e38a5",
   "metadata": {
    "tags": []
   },
   "outputs": [
    {
     "data": {
      "text/plain": [
       "datetime.datetime(1970, 1, 1, 9, 1)"
      ]
     },
     "execution_count": 227,
     "metadata": {},
     "output_type": "execute_result"
    }
   ],
   "source": [
    "# 70-01-01 9:00기준 몇 초 후 datetime\n",
    "datetime.fromtimestamp(60)"
   ]
  },
  {
   "cell_type": "code",
   "execution_count": 228,
   "id": "5d77d010-b050-4364-87bb-fee65c812ca8",
   "metadata": {
    "tags": []
   },
   "outputs": [
    {
     "data": {
      "text/plain": [
       "2"
      ]
     },
     "execution_count": 228,
     "metadata": {},
     "output_type": "execute_result"
    }
   ],
   "source": [
    "# datetime 월0 화1 수2 목3 금4 토5 일6 int\n",
    "datetime.weekday(datetime.today())"
   ]
  },
  {
   "cell_type": "markdown",
   "id": "8933ae75-2dac-44ea-b227-04bc57d05569",
   "metadata": {},
   "source": [
    "## datetime에서 형변환\n",
    "\n",
    "https://docs.python.org/ko/3.8/library/datetime.html#strftime-and-strptime-format-codes"
   ]
  },
  {
   "cell_type": "markdown",
   "id": "9ceb4559-142e-47ce-8647-ac0912410ae2",
   "metadata": {},
   "source": [
    "### 문자 --> 날짜\n",
    "```\n",
    "datetime.strptime('문자', '형식')\n",
    "datetime.fromisoformat('문자')\n",
    "```"
   ]
  },
  {
   "cell_type": "code",
   "execution_count": 271,
   "id": "c84e35e1-fdda-4ac1-b7c5-dcdd61464058",
   "metadata": {
    "tags": []
   },
   "outputs": [
    {
     "data": {
      "text/plain": [
       "datetime.datetime(2023, 2, 15, 1, 2, 3)"
      ]
     },
     "execution_count": 271,
     "metadata": {},
     "output_type": "execute_result"
    }
   ],
   "source": [
    "# str --> datetime\n",
    "datetime.strptime('2023-02-15 01:02:03', '%Y-%m-%d %H:%M:%S')"
   ]
  },
  {
   "cell_type": "code",
   "execution_count": 270,
   "id": "19d8685c-b44e-4ed8-a8f8-da4a009312ff",
   "metadata": {
    "tags": []
   },
   "outputs": [
    {
     "data": {
      "text/plain": [
       "datetime.datetime(2023, 2, 15, 12, 34, 56)"
      ]
     },
     "execution_count": 270,
     "metadata": {},
     "output_type": "execute_result"
    }
   ],
   "source": [
    "# str --> datetime\n",
    "datetime.fromisoformat('2023-02-15 12:34:56')"
   ]
  },
  {
   "cell_type": "markdown",
   "id": "1c94fd84-8756-4aa5-a408-87124a2acc75",
   "metadata": {},
   "source": [
    "### 날짜 --> 문자\n",
    "```\n",
    "날짜.strftime('형식')\n",
    "날짜.isoformat()\n",
    "```"
   ]
  },
  {
   "cell_type": "code",
   "execution_count": 286,
   "id": "c327046c-e68a-4c7a-b723-071d29d0865e",
   "metadata": {
    "tags": []
   },
   "outputs": [
    {
     "data": {
      "text/plain": [
       "'2023-02-15 13:11:51'"
      ]
     },
     "execution_count": 286,
     "metadata": {},
     "output_type": "execute_result"
    }
   ],
   "source": [
    "# datetime --> str\n",
    "datetime.today().strftime('%Y-%m-%d %H:%M:%S')"
   ]
  },
  {
   "cell_type": "code",
   "execution_count": 287,
   "id": "07598842-7b18-465a-8a12-3cf449f31834",
   "metadata": {
    "tags": []
   },
   "outputs": [
    {
     "data": {
      "text/plain": [
       "'2023-02-15T13:11:56.947678'"
      ]
     },
     "execution_count": 287,
     "metadata": {},
     "output_type": "execute_result"
    }
   ],
   "source": [
    "# datetime --> str\n",
    "datetime.today().isoformat()"
   ]
  },
  {
   "cell_type": "markdown",
   "id": "3f86ad08-4b59-4063-8994-17e2b3c300b4",
   "metadata": {},
   "source": [
    "## datetime에서 원하는대로 뽑기"
   ]
  },
  {
   "cell_type": "code",
   "execution_count": 297,
   "id": "19d00ad8-b783-4c6b-9df0-da0acb8ffef1",
   "metadata": {
    "tags": []
   },
   "outputs": [
    {
     "data": {
      "text/plain": [
       "1676434427.509577"
      ]
     },
     "execution_count": 297,
     "metadata": {},
     "output_type": "execute_result"
    }
   ],
   "source": [
    "# 타임스탭프\n",
    "datetime.today().timestamp()"
   ]
  },
  {
   "cell_type": "code",
   "execution_count": 295,
   "id": "ce5fd3df-829d-46b5-a0ac-4d5ac1f90d06",
   "metadata": {
    "tags": []
   },
   "outputs": [
    {
     "data": {
      "text/plain": [
       "datetime.date(2023, 2, 15)"
      ]
     },
     "execution_count": 295,
     "metadata": {},
     "output_type": "execute_result"
    }
   ],
   "source": [
    "# 년 월 일 뽑기\n",
    "datetime.today().date()"
   ]
  },
  {
   "cell_type": "code",
   "execution_count": 296,
   "id": "69ffe7db-e71a-4282-a6c2-5c1ba02479b3",
   "metadata": {
    "tags": []
   },
   "outputs": [
    {
     "data": {
      "text/plain": [
       "datetime.time(13, 13, 36, 623505)"
      ]
     },
     "execution_count": 296,
     "metadata": {},
     "output_type": "execute_result"
    }
   ],
   "source": [
    "# 시 분 초 마이크로초 뽑기\n",
    "datetime.today().time()"
   ]
  },
  {
   "cell_type": "code",
   "execution_count": 307,
   "id": "87f8d08d-0d12-47e0-aafd-3cde043bf306",
   "metadata": {
    "tags": []
   },
   "outputs": [
    {
     "data": {
      "text/plain": [
       "2023"
      ]
     },
     "execution_count": 307,
     "metadata": {},
     "output_type": "execute_result"
    }
   ],
   "source": [
    "# 년 뽑기\n",
    "datetime.today().year"
   ]
  },
  {
   "cell_type": "code",
   "execution_count": 308,
   "id": "be3be2c1-4df8-4810-9cb1-22f27790bfae",
   "metadata": {
    "tags": []
   },
   "outputs": [
    {
     "data": {
      "text/plain": [
       "2"
      ]
     },
     "execution_count": 308,
     "metadata": {},
     "output_type": "execute_result"
    }
   ],
   "source": [
    "# 월 뽑기\n",
    "datetime.today().month"
   ]
  },
  {
   "cell_type": "code",
   "execution_count": 309,
   "id": "2e7d4d34-8ec5-4123-999d-df915ee8209f",
   "metadata": {
    "tags": []
   },
   "outputs": [
    {
     "data": {
      "text/plain": [
       "15"
      ]
     },
     "execution_count": 309,
     "metadata": {},
     "output_type": "execute_result"
    }
   ],
   "source": [
    "# 일 뽑기\n",
    "datetime.today().day"
   ]
  },
  {
   "cell_type": "code",
   "execution_count": 313,
   "id": "64e8afed-a5b5-48ff-99af-7c70c11b0e2c",
   "metadata": {
    "tags": []
   },
   "outputs": [
    {
     "data": {
      "text/plain": [
       "13"
      ]
     },
     "execution_count": 313,
     "metadata": {},
     "output_type": "execute_result"
    }
   ],
   "source": [
    "# 시간 뽑기\n",
    "datetime.today().hour"
   ]
  },
  {
   "cell_type": "code",
   "execution_count": 314,
   "id": "b971eb75-ac15-4982-b7d6-ec4760a544f2",
   "metadata": {
    "tags": []
   },
   "outputs": [
    {
     "data": {
      "text/plain": [
       "18"
      ]
     },
     "execution_count": 314,
     "metadata": {},
     "output_type": "execute_result"
    }
   ],
   "source": [
    "# 분 뽑기\n",
    "datetime.today().minute"
   ]
  },
  {
   "cell_type": "code",
   "execution_count": 315,
   "id": "8afe2d7f-df12-4877-b43d-9373d970c2e9",
   "metadata": {
    "tags": []
   },
   "outputs": [
    {
     "data": {
      "text/plain": [
       "25"
      ]
     },
     "execution_count": 315,
     "metadata": {},
     "output_type": "execute_result"
    }
   ],
   "source": [
    "# 초 뽑기\n",
    "datetime.today().second"
   ]
  },
  {
   "cell_type": "code",
   "execution_count": 316,
   "id": "84a98b76-052c-428e-95be-dd44c0dbbbc5",
   "metadata": {
    "tags": []
   },
   "outputs": [
    {
     "data": {
      "text/plain": [
       "546344"
      ]
     },
     "execution_count": 316,
     "metadata": {},
     "output_type": "execute_result"
    }
   ],
   "source": [
    "# 마이크로초 뽑기\n",
    "datetime.today().microsecond"
   ]
  },
  {
   "cell_type": "markdown",
   "id": "47456b86-6a24-4022-92a6-81f3d87f8251",
   "metadata": {},
   "source": [
    "# time: 시, 분, 초, 마이크로초\n",
    "이하 동일"
   ]
  },
  {
   "cell_type": "markdown",
   "id": "f4df30ad-7cfd-4191-bbd1-0e8c2f757ada",
   "metadata": {},
   "source": [
    "# timedelta: 날짜계산\n",
    "```\n",
    "timedelta(\n",
    "    weeks=0,\n",
    "    days=0,\n",
    "    hours=0,\n",
    "    minutes=0,\n",
    "    seconds=0,\n",
    "    microseconds=0,\n",
    "    milliseconds=0\n",
    ")\n",
    "```"
   ]
  },
  {
   "cell_type": "code",
   "execution_count": 337,
   "id": "881a88d2-304c-44eb-96ff-bd62443e7633",
   "metadata": {
    "tags": []
   },
   "outputs": [],
   "source": [
    "next_day = timedelta(days=1)\n",
    "next_week = timedelta(weeks=1)\n",
    "next_hour = timedelta(hours=1)"
   ]
  },
  {
   "cell_type": "code",
   "execution_count": 338,
   "id": "678c98c4-9053-40e3-91be-5680c16f9a61",
   "metadata": {
    "tags": []
   },
   "outputs": [
    {
     "data": {
      "text/plain": [
       "(datetime.datetime(2023, 2, 15, 15, 3, 26, 387051),\n",
       " datetime.datetime(2023, 2, 16, 15, 3, 26, 387051))"
      ]
     },
     "execution_count": 338,
     "metadata": {},
     "output_type": "execute_result"
    }
   ],
   "source": [
    "datetime.today(), datetime.today()+next_day"
   ]
  },
  {
   "cell_type": "code",
   "execution_count": 339,
   "id": "b2b914c2-ccba-4952-b22b-244d9031fa71",
   "metadata": {
    "tags": []
   },
   "outputs": [
    {
     "data": {
      "text/plain": [
       "(datetime.datetime(2023, 2, 15, 15, 3, 34, 559239),\n",
       " datetime.datetime(2023, 2, 22, 15, 3, 34, 559239))"
      ]
     },
     "execution_count": 339,
     "metadata": {},
     "output_type": "execute_result"
    }
   ],
   "source": [
    "datetime.today(), datetime.today()+next_week"
   ]
  },
  {
   "cell_type": "code",
   "execution_count": 340,
   "id": "d88e22fc-736a-4e8e-a645-09a0c36bb15c",
   "metadata": {
    "tags": []
   },
   "outputs": [
    {
     "data": {
      "text/plain": [
       "(datetime.datetime(2023, 2, 15, 15, 3, 36, 378400),\n",
       " datetime.datetime(2023, 2, 15, 16, 3, 36, 378400))"
      ]
     },
     "execution_count": 340,
     "metadata": {},
     "output_type": "execute_result"
    }
   ],
   "source": [
    "datetime.today(), datetime.today()+next_hour"
   ]
  },
  {
   "cell_type": "markdown",
   "id": "d18e9b27-fef5-4bc7-9c3b-7391e732a0a6",
   "metadata": {},
   "source": [
    "# relativedelta: 날짜계산 이게 더 좋음\n",
    "```\n",
    "relativedelta(\n",
    "    dt1=None, dt2=None,\n",
    "    years=0, months=0, days=0, leapdays=0, weeks=0,\n",
    "    hours=0, minutes=0, seconds=0, microseconds=0,\n",
    "    year=None, month=None, day=None, weekday=None,\n",
    "    yearday=None, nlyearday=None,\n",
    "    hour=None, minute=None, second=None, microsecond=None\n",
    ")\n",
    "```\n",
    "https://dateutil.readthedocs.io/en/stable/relativedelta.html"
   ]
  },
  {
   "cell_type": "code",
   "execution_count": 342,
   "id": "3972c0b2-37cd-456c-aad6-10e5616eb4e3",
   "metadata": {
    "tags": []
   },
   "outputs": [],
   "source": [
    "from dateutil.relativedelta import relativedelta"
   ]
  },
  {
   "cell_type": "code",
   "execution_count": 363,
   "id": "2423d54d-120d-43ae-b9ac-34ef2945840d",
   "metadata": {
    "tags": []
   },
   "outputs": [
    {
     "data": {
      "text/plain": [
       "relativedelta(years=+4, hours=+15, minutes=+16, seconds=+37, microseconds=+94015)"
      ]
     },
     "execution_count": 363,
     "metadata": {},
     "output_type": "execute_result"
    }
   ],
   "source": [
    "# 두 날짜의 차이 계산\n",
    "dt1 = datetime.today()\n",
    "dt2 = datetime(2019, 2, 15)\n",
    "relativedelta(dt1, dt2)"
   ]
  },
  {
   "cell_type": "code",
   "execution_count": 364,
   "id": "1c7be647-d0be-4207-af6e-716074244de2",
   "metadata": {
    "tags": []
   },
   "outputs": [
    {
     "data": {
      "text/plain": [
       "datetime.datetime(2023, 2, 10, 15, 16, 43, 416185)"
      ]
     },
     "execution_count": 364,
     "metadata": {},
     "output_type": "execute_result"
    }
   ],
   "source": [
    "datetime.today() + relativedelta(day=10)"
   ]
  },
  {
   "cell_type": "markdown",
   "id": "013aa275-9b33-4963-a806-7fd1d6e4215f",
   "metadata": {},
   "source": [
    "# 연습"
   ]
  },
  {
   "cell_type": "code",
   "execution_count": null,
   "id": "677bee4b-a926-4d5d-9544-7d396a7ec245",
   "metadata": {},
   "outputs": [],
   "source": []
  }
 ],
 "metadata": {
  "kernelspec": {
   "display_name": "Python 3 (ipykernel)",
   "language": "python",
   "name": "python3"
  },
  "language_info": {
   "codemirror_mode": {
    "name": "ipython",
    "version": 3
   },
   "file_extension": ".py",
   "mimetype": "text/x-python",
   "name": "python",
   "nbconvert_exporter": "python",
   "pygments_lexer": "ipython3",
   "version": "3.8.8"
  }
 },
 "nbformat": 4,
 "nbformat_minor": 5
}
