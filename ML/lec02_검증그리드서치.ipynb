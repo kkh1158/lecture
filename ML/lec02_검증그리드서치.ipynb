{
 "cells": [
  {
   "cell_type": "markdown",
   "id": "7548a796-812e-4434-ace8-9e00304dac60",
   "metadata": {},
   "source": [
    "# 모델 검증 및 평가 (Validation & Evaluation metrics)"
   ]
  },
  {
   "cell_type": "code",
   "execution_count": 340,
   "id": "5b1dde7a-ade1-418f-a75f-74fae1372a75",
   "metadata": {
    "tags": []
   },
   "outputs": [],
   "source": [
    "import warnings\n",
    "warnings.filterwarnings(action='ignore')\n",
    "import re\n",
    "from datetime import datetime, date, time, timedelta\n",
    "from dateutil.relativedelta import relativedelta\n",
    "\n",
    "import numpy as np\n",
    "import pandas as pd\n",
    "import matplotlib.pyplot as plt\n",
    "import seaborn as sns\n",
    "sns.set()\n",
    "plt.rcParams['font.family']= 'Malgun Gothic'\n",
    "plt.rcParams['axes.unicode_minus'] = False\n",
    "# plt.rcParams['figure.figsize'] = [6.4, 4.8]\n",
    "\n",
    "from sklearn.datasets import load_iris, load_wine\n",
    "from sklearn.preprocessing import LabelEncoder, OneHotEncoder, StandardScaler, MinMaxScaler, RobustScaler\n",
    "from sklearn.model_selection import train_test_split, cross_val_score, cross_validate, GridSearchCV, KFold, StratifiedKFold\n",
    "from sklearn.linear_model import LinearRegression, Lasso, Ridge\n",
    "from sklearn.tree import DecisionTreeClassifier, DecisionTreeRegressor\n",
    "from sklearn.ensemble import AdaBoostRegressor, VotingRegressor\n",
    "from sklearn.svm import SVC\n",
    "from sklearn.metrics import accuracy_score, mean_squared_error, r2_score\n",
    "from xgboost import XGBRegressor\n",
    "from lightgbm import LGBMRegressor"
   ]
  },
  {
   "cell_type": "markdown",
   "id": "7d562853-aa7b-46a2-92b2-c824d3c08654",
   "metadata": {},
   "source": [
    "# 샘플데이터 로드"
   ]
  },
  {
   "cell_type": "code",
   "execution_count": 101,
   "id": "704f85d5-939f-46a5-83c9-8aefd1bb0ac4",
   "metadata": {
    "tags": []
   },
   "outputs": [
    {
     "name": "stdout",
     "output_type": "stream",
     "text": [
      "<class 'pandas.core.frame.DataFrame'>\n",
      "RangeIndex: 150 entries, 0 to 149\n",
      "Data columns (total 5 columns):\n",
      " #   Column  Non-Null Count  Dtype  \n",
      "---  ------  --------------  -----  \n",
      " 0   sl      150 non-null    float64\n",
      " 1   sw      150 non-null    float64\n",
      " 2   pl      150 non-null    float64\n",
      " 3   pw      150 non-null    float64\n",
      " 4   target  150 non-null    int32  \n",
      "dtypes: float64(4), int32(1)\n",
      "memory usage: 5.4 KB\n"
     ]
    }
   ],
   "source": [
    "data = load_iris()\n",
    "df = pd.DataFrame(data.data, columns=['sl', 'sw', 'pl', 'pw'])\n",
    "df['target'] = data.target\n",
    "df.info()"
   ]
  },
  {
   "cell_type": "code",
   "execution_count": 102,
   "id": "4d2dc3b9-9171-4cbd-9cb9-1adb2b4b4e65",
   "metadata": {
    "tags": []
   },
   "outputs": [
    {
     "data": {
      "text/plain": [
       "0    50\n",
       "1    50\n",
       "2    50\n",
       "Name: target, dtype: int64"
      ]
     },
     "execution_count": 102,
     "metadata": {},
     "output_type": "execute_result"
    }
   ],
   "source": [
    "df['target'].value_counts()"
   ]
  },
  {
   "cell_type": "code",
   "execution_count": 103,
   "id": "dc53c10f-dfab-460c-85b4-85860045394b",
   "metadata": {
    "tags": []
   },
   "outputs": [
    {
     "name": "stdout",
     "output_type": "stream",
     "text": [
      "(120, 4) (30, 4) (120,) (30,)\n"
     ]
    },
    {
     "data": {
      "text/plain": [
       "1.0"
      ]
     },
     "execution_count": 103,
     "metadata": {},
     "output_type": "execute_result"
    }
   ],
   "source": [
    "X = df.drop(['target'], axis=1)\n",
    "y = df['target']\n",
    "\n",
    "X_train, X_test, y_train, y_test = train_test_split(X, y, random_state=0, test_size=0.2)\n",
    "print(X_train.shape, X_test.shape, y_train.shape, y_test.shape)\n",
    "\n",
    "model = DecisionTreeClassifier()\n",
    "model.fit(X_train, y_train)\n",
    "y_pred = model.predict(X_test)\n",
    "acc_scr = accuracy_score(y_test, y_pred)\n",
    "acc_scr"
   ]
  },
  {
   "cell_type": "markdown",
   "id": "b6989c39-95dd-41ed-b4ec-0eea0b405430",
   "metadata": {
    "tags": []
   },
   "source": [
    "## 교차검증\n",
    "KFold, StratifiedKFold, TimeSeriesSplit\n",
    "* KFold - 회귀모델: 회귀는 골고루 개념이 없음\n",
    "* StratifiedKFold - 분류모델: 골고루 섞어야 잘학습됨\n",
    "* TimeSeriesSplit - 금융데이터 or 과거데이터로 미래예측\n",
    "\n",
    "Fold(n_splits=5, *, shuffle=False, random_state=None)"
   ]
  },
  {
   "cell_type": "markdown",
   "id": "b8cef9c4-7622-4b3e-9c89-baf438fe2bb2",
   "metadata": {},
   "source": [
    "### KFold\n",
    "\n",
    "Fold(n_splits=5, *, shuffle=False, random_state=None)"
   ]
  },
  {
   "cell_type": "code",
   "execution_count": 339,
   "id": "10891de8-29fb-47e4-99f1-c588b2e5d12d",
   "metadata": {
    "tags": []
   },
   "outputs": [
    {
     "name": "stdout",
     "output_type": "stream",
     "text": [
      "KFold(n_splits=3, random_state=None, shuffle=False)\n",
      "----------\n",
      "Fold 0:\n",
      "  Train: index=[ 50  51  52  53  54  55  56  57  58  59  60  61  62  63  64  65  66  67\n",
      "  68  69  70  71  72  73  74  75  76  77  78  79  80  81  82  83  84  85\n",
      "  86  87  88  89  90  91  92  93  94  95  96  97  98  99 100 101 102 103\n",
      " 104 105 106 107 108 109 110 111 112 113 114 115 116 117 118 119 120 121\n",
      " 122 123 124 125 126 127 128 129 130 131 132 133 134 135 136 137 138 139\n",
      " 140 141 142 143 144 145 146 147 148 149]\n",
      "  Test:  index=[ 0  1  2  3  4  5  6  7  8  9 10 11 12 13 14 15 16 17 18 19 20 21 22 23\n",
      " 24 25 26 27 28 29 30 31 32 33 34 35 36 37 38 39 40 41 42 43 44 45 46 47\n",
      " 48 49]\n",
      "Fold 1:\n",
      "  Train: index=[  0   1   2   3   4   5   6   7   8   9  10  11  12  13  14  15  16  17\n",
      "  18  19  20  21  22  23  24  25  26  27  28  29  30  31  32  33  34  35\n",
      "  36  37  38  39  40  41  42  43  44  45  46  47  48  49 100 101 102 103\n",
      " 104 105 106 107 108 109 110 111 112 113 114 115 116 117 118 119 120 121\n",
      " 122 123 124 125 126 127 128 129 130 131 132 133 134 135 136 137 138 139\n",
      " 140 141 142 143 144 145 146 147 148 149]\n",
      "  Test:  index=[50 51 52 53 54 55 56 57 58 59 60 61 62 63 64 65 66 67 68 69 70 71 72 73\n",
      " 74 75 76 77 78 79 80 81 82 83 84 85 86 87 88 89 90 91 92 93 94 95 96 97\n",
      " 98 99]\n",
      "Fold 2:\n",
      "  Train: index=[ 0  1  2  3  4  5  6  7  8  9 10 11 12 13 14 15 16 17 18 19 20 21 22 23\n",
      " 24 25 26 27 28 29 30 31 32 33 34 35 36 37 38 39 40 41 42 43 44 45 46 47\n",
      " 48 49 50 51 52 53 54 55 56 57 58 59 60 61 62 63 64 65 66 67 68 69 70 71\n",
      " 72 73 74 75 76 77 78 79 80 81 82 83 84 85 86 87 88 89 90 91 92 93 94 95\n",
      " 96 97 98 99]\n",
      "  Test:  index=[100 101 102 103 104 105 106 107 108 109 110 111 112 113 114 115 116 117\n",
      " 118 119 120 121 122 123 124 125 126 127 128 129 130 131 132 133 134 135\n",
      " 136 137 138 139 140 141 142 143 144 145 146 147 148 149]\n"
     ]
    }
   ],
   "source": [
    "kf = KFold(n_splits=3)\n",
    "# kf.get_n_splits(X)\n",
    "\n",
    "print(kf)\n",
    "print('----------')\n",
    "\n",
    "for i, (train_index, test_index) in enumerate(kf.split(X)):\n",
    "    print(f\"Fold {i}:\")\n",
    "    print(f\"  Train: index={train_index}\")\n",
    "    print(f\"  Test:  index={test_index}\")"
   ]
  },
  {
   "cell_type": "markdown",
   "id": "2fc9fced-e468-4243-abe0-541263393036",
   "metadata": {},
   "source": [
    "### StratifiedKFold"
   ]
  },
  {
   "cell_type": "code",
   "execution_count": 111,
   "id": "2b3a673c-e6ed-4468-959b-33786f6b0764",
   "metadata": {
    "tags": []
   },
   "outputs": [
    {
     "name": "stdout",
     "output_type": "stream",
     "text": [
      "StratifiedKFold(n_splits=3, random_state=None, shuffle=False)\n",
      "----------\n",
      "Fold 0:\n",
      "0    17\n",
      "1    17\n",
      "2    16\n",
      "Name: target, dtype: int64\n",
      "----------\n",
      "Fold 1:\n",
      "0    17\n",
      "1    16\n",
      "2    17\n",
      "Name: target, dtype: int64\n",
      "----------\n",
      "Fold 2:\n",
      "0    16\n",
      "1    17\n",
      "2    17\n",
      "Name: target, dtype: int64\n",
      "----------\n"
     ]
    }
   ],
   "source": [
    "skf = StratifiedKFold(n_splits=3)\n",
    "# kf.get_n_splits(X)\n",
    "\n",
    "print(skf)\n",
    "print('----------')\n",
    "\n",
    "for i, (train_index, test_index) in enumerate(skf.split(X, y)):\n",
    "    print(f\"Fold {i}:\")\n",
    "    # print(f\"  Train: index={train_index}\")\n",
    "    print(y.loc[test_index].value_counts().sort_index())\n",
    "    print('----------')"
   ]
  },
  {
   "cell_type": "markdown",
   "id": "f35ea8b3-8442-4d1a-9f5e-9d3230bb43dc",
   "metadata": {},
   "source": [
    "<table border=1 width=800>\n",
    "<tr>\n",
    "    <td>\n",
    "    <img width='300' height='300' src=\"https://scikit-learn.org/stable/_images/sphx_glr_plot_cv_indices_006.png\">\n",
    "    <img width='300' height='300'  src=\"https://scikit-learn.org/stable/_images/sphx_glr_plot_cv_indices_007.png\">\n",
    "    </td>\n",
    "</tr>\n",
    "<tr>\n",
    "    <td>\n",
    "    <img width='300' height='300' src=\"https://scikit-learn.org/stable/_images/sphx_glr_plot_cv_indices_008.png\">\n",
    "    <img width='300' height='300'  src=\"https://scikit-learn.org/stable/_images/sphx_glr_plot_cv_indices_009.png\">\n",
    "    </td>\n",
    "</tr>\n",
    "<tr>\n",
    "    <td>\n",
    "    <img width='300' height='300' src=\"https://scikit-learn.org/stable/_images/sphx_glr_plot_cv_indices_010.png\">\n",
    "    <img width='300' height='300'  src=\"https://scikit-learn.org/stable/_images/sphx_glr_plot_cv_indices_011.png\">\n",
    "    </td>\n",
    "</tr>\n",
    "<tr>\n",
    "    <td>\n",
    "    <img width='300' height='300' src=\"https://scikit-learn.org/stable/_images/sphx_glr_plot_cv_indices_012.png\">\n",
    "    <img width='300' height='300'  src=\"https://scikit-learn.org/stable/_images/sphx_glr_plot_cv_indices_013.png\">\n",
    "    </td>\n",
    "</tr>    \n",
    "</table>"
   ]
  },
  {
   "cell_type": "code",
   "execution_count": 196,
   "id": "f3d487bc-41c5-46b8-9f43-72d5dd8029f1",
   "metadata": {
    "tags": []
   },
   "outputs": [
    {
     "name": "stdout",
     "output_type": "stream",
     "text": [
      "(120, 4) (30, 4) (120,) (30,)\n"
     ]
    },
    {
     "data": {
      "text/plain": [
       "1.0"
      ]
     },
     "execution_count": 196,
     "metadata": {},
     "output_type": "execute_result"
    }
   ],
   "source": [
    "X = df.drop(['target'], axis=1)\n",
    "y = df['target']\n",
    "\n",
    "X_train, X_test, y_train, y_test = train_test_split(X, y, random_state=0, test_size=0.2)\n",
    "print(X_train.shape, X_test.shape, y_train.shape, y_test.shape)\n",
    "\n",
    "model = DecisionTreeClassifier(random_state=0)\n",
    "model.fit(X_train, y_train)\n",
    "y_pred = model.predict(X_test)\n",
    "acc_scr = accuracy_score(y_test, y_pred)\n",
    "acc_scr"
   ]
  },
  {
   "cell_type": "code",
   "execution_count": 246,
   "id": "3fd3ca63-693d-4275-8f3e-f43c3b3e499c",
   "metadata": {
    "tags": []
   },
   "outputs": [
    {
     "name": "stdout",
     "output_type": "stream",
     "text": [
      "1.0\n",
      "--==---=-=\n",
      "0.9666666666666667\n",
      "--==---=-=\n",
      "0.8333333333333334\n",
      "--==---=-=\n",
      "0.9333333333333333\n",
      "--==---=-=\n",
      "0.8\n",
      "--==---=-=\n",
      "[1.0, 0.9666666666666667, 0.8333333333333334, 0.9333333333333333, 0.8]\n"
     ]
    }
   ],
   "source": [
    "X = df.drop(['target'], axis=1)\n",
    "y = df['target']\n",
    "\n",
    "kf = KFold(n_splits=5)\n",
    "acc_scr_list=[]\n",
    "for i, (train_index, test_index) in enumerate(kf.split(X)):\n",
    "    X_train = X.loc[train_index]\n",
    "    X_test = X.loc[test_index]\n",
    "    y_train = y.loc[train_index]\n",
    "    y_test = y.loc[test_index]\n",
    "    \n",
    "    # print(y_test.value_counts().sort_index())\n",
    "    \n",
    "    model = DecisionTreeClassifier(random_state=0)\n",
    "    model.fit(X_train, y_train)\n",
    "    y_pred = model.predict(X_test)\n",
    "    acc_scr = accuracy_score(y_test, y_pred)\n",
    "    acc_scr_list.append(acc_scr)\n",
    "    print(acc_scr)\n",
    "    print('--==---=-=')\n",
    "    \n",
    "print(acc_scr_list)\n",
    "# np.mean(acc_scr_list)"
   ]
  },
  {
   "cell_type": "code",
   "execution_count": 245,
   "id": "30813add-3643-4238-a536-b5263af899da",
   "metadata": {
    "tags": []
   },
   "outputs": [
    {
     "name": "stdout",
     "output_type": "stream",
     "text": [
      "[0.9666666666666667, 0.9666666666666667, 0.9, 0.9666666666666667, 1.0]\n"
     ]
    },
    {
     "data": {
      "text/plain": [
       "0.9600000000000002"
      ]
     },
     "execution_count": 245,
     "metadata": {},
     "output_type": "execute_result"
    }
   ],
   "source": [
    "X = df.drop(['target'], axis=1)\n",
    "y = df['target']\n",
    "\n",
    "skf = StratifiedKFold(n_splits=5)\n",
    "acc_scr_list=[]\n",
    "for i, (train_index, test_index) in enumerate(skf.split(X, y)):\n",
    "    X_train = X.loc[train_index]\n",
    "    X_test = X.loc[test_index]\n",
    "    y_train = y.loc[train_index]\n",
    "    y_test = y.loc[test_index]\n",
    "    \n",
    "    # print(y_test.value_counts().sort_index())\n",
    "    \n",
    "    model = DecisionTreeClassifier(random_state=0)\n",
    "    model.fit(X_train, y_train)\n",
    "    y_pred = model.predict(X_test)\n",
    "    acc_scr = accuracy_score(y_test, y_pred)\n",
    "    acc_scr_list.append(acc_scr)\n",
    "    # print(acc_scr)\n",
    "    # print('--==---=-=')\n",
    "    \n",
    "print(acc_scr_list)\n",
    "np.mean(acc_scr_list)"
   ]
  },
  {
   "cell_type": "markdown",
   "id": "7ac66b65-fcc2-46c5-8e5a-73dcb75bbd3b",
   "metadata": {},
   "source": [
    "### cross_val_score test점수만 리스트로 리턴\n",
    "<pre>\n",
    "<b>sklearn.model_selection.cross_val_score(estimator,\n",
    "    X, y=None, \n",
    "    scoring=None, # 점수방식\n",
    "    cv=None, # 몇등분? 폴드\n",
    "    fit_params=None, # 제일좋은거적용해줘?\n",
    "</b>\n",
    "n_jobs=None, verbose=0, groups=None, , pre_dispatch='2*n_jobs', error_score=nan)"
   ]
  },
  {
   "cell_type": "code",
   "execution_count": 309,
   "id": "2729f9d5-5db8-48a0-9076-f04603ca07f4",
   "metadata": {
    "tags": []
   },
   "outputs": [
    {
     "data": {
      "text/plain": [
       "array([1.        , 0.93333333, 1.        , 0.93333333, 0.93333333,\n",
       "       0.86666667, 0.93333333, 1.        , 1.        , 1.        ])"
      ]
     },
     "execution_count": 309,
     "metadata": {},
     "output_type": "execute_result"
    }
   ],
   "source": [
    "X = df.drop(['target'], axis=1)\n",
    "y = df['target']\n",
    "\n",
    "cross_val_score(DecisionTreeClassifier(random_state=0), X, y, cv=10)"
   ]
  },
  {
   "cell_type": "code",
   "execution_count": 303,
   "id": "47275594-f48d-48ad-bbfa-94acd60efb1e",
   "metadata": {
    "tags": []
   },
   "outputs": [
    {
     "name": "stdout",
     "output_type": "stream",
     "text": [
      "[0.96666667 0.96666667 0.9        0.96666667 1.        ]\n",
      "0.9600000000000002\n"
     ]
    }
   ],
   "source": [
    "X = df.drop(['target'], axis=1)\n",
    "y = df['target']\n",
    "\n",
    "res_list = cross_val_score(DecisionTreeClassifier(random_state=0), X, y, scoring='accuracy', cv=5)\n",
    "print(res_list)\n",
    "print(np.mean(res_list))"
   ]
  },
  {
   "cell_type": "markdown",
   "id": "1c2090c6-9981-4e18-9d08-deca79d0d92f",
   "metadata": {
    "tags": []
   },
   "source": [
    "### cross_validate 이것저것 딕트로 리턴\n",
    "\n",
    "점수: train_score, test_score\n",
    "\n",
    "시간: fit_time, score_time"
   ]
  },
  {
   "cell_type": "code",
   "execution_count": 302,
   "id": "9e2f9ef3-85c8-4d71-9d8c-f2830141d0a6",
   "metadata": {
    "tags": []
   },
   "outputs": [
    {
     "name": "stdout",
     "output_type": "stream",
     "text": [
      "{'fit_time': array([0.00400329, 0.00302005, 0.00199628, 0.0019989 , 0.00299239]), 'score_time': array([0.000983  , 0.00099897, 0.00099587, 0.00196505, 0.0010016 ]), 'test_score': array([0.96666667, 0.96666667, 0.9       , 0.96666667, 1.        ]), 'train_score': array([1., 1., 1., 1., 1.])}\n"
     ]
    },
    {
     "data": {
      "text/html": [
       "<div>\n",
       "<style scoped>\n",
       "    .dataframe tbody tr th:only-of-type {\n",
       "        vertical-align: middle;\n",
       "    }\n",
       "\n",
       "    .dataframe tbody tr th {\n",
       "        vertical-align: top;\n",
       "    }\n",
       "\n",
       "    .dataframe thead th {\n",
       "        text-align: right;\n",
       "    }\n",
       "</style>\n",
       "<table border=\"1\" class=\"dataframe\">\n",
       "  <thead>\n",
       "    <tr style=\"text-align: right;\">\n",
       "      <th></th>\n",
       "      <th>fit_time</th>\n",
       "      <th>score_time</th>\n",
       "      <th>test_score</th>\n",
       "      <th>train_score</th>\n",
       "    </tr>\n",
       "  </thead>\n",
       "  <tbody>\n",
       "    <tr>\n",
       "      <th>0</th>\n",
       "      <td>0.004003</td>\n",
       "      <td>0.000983</td>\n",
       "      <td>0.966667</td>\n",
       "      <td>1.0</td>\n",
       "    </tr>\n",
       "    <tr>\n",
       "      <th>1</th>\n",
       "      <td>0.003020</td>\n",
       "      <td>0.000999</td>\n",
       "      <td>0.966667</td>\n",
       "      <td>1.0</td>\n",
       "    </tr>\n",
       "    <tr>\n",
       "      <th>2</th>\n",
       "      <td>0.001996</td>\n",
       "      <td>0.000996</td>\n",
       "      <td>0.900000</td>\n",
       "      <td>1.0</td>\n",
       "    </tr>\n",
       "    <tr>\n",
       "      <th>3</th>\n",
       "      <td>0.001999</td>\n",
       "      <td>0.001965</td>\n",
       "      <td>0.966667</td>\n",
       "      <td>1.0</td>\n",
       "    </tr>\n",
       "    <tr>\n",
       "      <th>4</th>\n",
       "      <td>0.002992</td>\n",
       "      <td>0.001002</td>\n",
       "      <td>1.000000</td>\n",
       "      <td>1.0</td>\n",
       "    </tr>\n",
       "  </tbody>\n",
       "</table>\n",
       "</div>"
      ],
      "text/plain": [
       "   fit_time  score_time  test_score  train_score\n",
       "0  0.004003    0.000983    0.966667          1.0\n",
       "1  0.003020    0.000999    0.966667          1.0\n",
       "2  0.001996    0.000996    0.900000          1.0\n",
       "3  0.001999    0.001965    0.966667          1.0\n",
       "4  0.002992    0.001002    1.000000          1.0"
      ]
     },
     "execution_count": 302,
     "metadata": {},
     "output_type": "execute_result"
    }
   ],
   "source": [
    "X = df.drop(['target'], axis=1)\n",
    "y = df['target']\n",
    "\n",
    "res_dict = cross_validate(DecisionTreeClassifier(random_state=0), X, y, scoring='accuracy', cv=5, return_train_score=True)\n",
    "print(res_dict)\n",
    "pd.DataFrame(res_dict)"
   ]
  },
  {
   "cell_type": "markdown",
   "id": "fe74a245-6a18-4756-9020-8b950cc8f6bb",
   "metadata": {
    "tags": []
   },
   "source": [
    "### GridSearchCV 하이퍼파리미터 튜닝 모델로 리턴\n",
    "<pre>\n",
    "<b>GridSearchCV(\n",
    "    estimator, # 모델\n",
    "    scoring=None, # 점수방식\n",
    "    cv=None, # 몇등분? 폴드\n",
    "    param_grid, # 파라미터딕트로\n",
    "    refit=True, # 제일좋은모델이 알아서 적용되게끔 그리드서치CV를 쓰는이유\n",
    "    n_jobs=None,\n",
    "</b>verbose=0, pre_dispatch='2*n_jobs', error_score=nan, return_train_score=False)\n",
    "\n",
    "호출변수.cv_results_ # 결과보기\n",
    "호출변수.best_estimator_ # 최고모델뭐임\n",
    "호출변수.best_params_ # 최고파라미터뭐임\n",
    "호출변수.best_score_ # 최고점수뭐임\n",
    "호출변수.predict(X_test)"
   ]
  },
  {
   "cell_type": "code",
   "execution_count": 278,
   "id": "53d73f65-1a8e-4c6e-9cb0-a265103c95ab",
   "metadata": {
    "tags": []
   },
   "outputs": [
    {
     "name": "stdout",
     "output_type": "stream",
     "text": [
      "{'min_samples_leaf': 2, 'min_samples_split': 1}\n",
      "0.95\n",
      "DecisionTreeClassifier(min_samples_leaf=2, min_samples_split=1, random_state=0)\n"
     ]
    },
    {
     "data": {
      "text/plain": [
       "array([2, 1, 2, 1, 2, 2, 1, 1, 2, 1, 2, 2, 2, 1, 1, 2, 2, 2, 1, 2, 2, 2,\n",
       "       2, 2, 2, 2, 2, 2, 2, 2])"
      ]
     },
     "execution_count": 278,
     "metadata": {},
     "output_type": "execute_result"
    }
   ],
   "source": [
    "param_ = {\n",
    "    'min_samples_split':[1,2,3],\n",
    "    'min_samples_leaf':[1,2,3]\n",
    "}\n",
    "\n",
    "model = DecisionTreeClassifier(random_state=0)\n",
    "models = GridSearchCV(model, scoring='accuracy', cv=5, param_grid=param_)\n",
    "models.fit(X_train, y_train)\n",
    "print(models.best_params_)\n",
    "print(models.best_score_)\n",
    "print(models.best_estimator_)\n",
    "y_pred = models.predict(X_test)\n",
    "y_pred"
   ]
  },
  {
   "cell_type": "markdown",
   "id": "194ff00c-531b-427e-b23e-ee5e5f4ab39d",
   "metadata": {},
   "source": [
    "### K-Fold 외 교차검증(Cross Validation)\n",
    "<pre>\n",
    "K-Fold : K개의 폴드로 나누어 cv횟수만큼 반복 학습\n",
    "\n",
    "홀드아웃 (Holdout)    : 비복원추출 \n",
    "부트스트랩(Bootstrap) : 복원추출(63.2%) / 추출되지않은 데이터는 test로\n",
    "\n",
    "LOOCV(Leave One Out Cross Validation)   : test 폴드(1개데이터)\n",
    "LpOCV(Leave p     Out Cross Validation) : test 폴드(p개데이터)"
   ]
  },
  {
   "cell_type": "code",
   "execution_count": null,
   "id": "141a0bed-e1e3-4156-aa64-8f78170744c1",
   "metadata": {},
   "outputs": [],
   "source": []
  },
  {
   "cell_type": "code",
   "execution_count": null,
   "id": "96ec4f3e-418a-4435-b799-eb09fcc858fa",
   "metadata": {},
   "outputs": [],
   "source": []
  },
  {
   "cell_type": "code",
   "execution_count": null,
   "id": "ca163896-b98b-4dfe-bbf4-b1950328ffc7",
   "metadata": {},
   "outputs": [],
   "source": []
  },
  {
   "cell_type": "code",
   "execution_count": null,
   "id": "6466b825-227b-465e-93dd-b3986447debd",
   "metadata": {},
   "outputs": [],
   "source": []
  },
  {
   "cell_type": "code",
   "execution_count": null,
   "id": "81a2f08a-9a97-4bd7-a1d7-1d16259d3316",
   "metadata": {},
   "outputs": [],
   "source": []
  },
  {
   "cell_type": "code",
   "execution_count": 348,
   "id": "9e65e166-98b8-4747-8f90-911875048924",
   "metadata": {
    "tags": []
   },
   "outputs": [
    {
     "data": {
      "text/plain": [
       "array([0, 2, 1, 0, 1, 1, 0, 2, 1, 1, 2, 2, 0, 1, 2, 1, 0, 0, 1, 0, 0, 0,\n",
       "       0, 1, 1, 1, 1, 1, 1, 2, 0, 0, 1, 0, 0, 0])"
      ]
     },
     "execution_count": 348,
     "metadata": {},
     "output_type": "execute_result"
    }
   ],
   "source": [
    "df = pd.DataFrame(data.data, columns=data.feature_names)\n",
    "df['target'] = data.target\n",
    "\n",
    "y = df['target']\n",
    "X = df.drop('target', axis=1)\n",
    "\n",
    "X_train, X_test, y_train, y_test = train_test_split(X, y, random_state=0, test_size=0.2)\n",
    "model = DecisionTreeClassifier()\n",
    "model.fit(X_train, y_train)\n",
    "model.predict(X_test)"
   ]
  }
 ],
 "metadata": {
  "kernelspec": {
   "display_name": "Python 3 (ipykernel)",
   "language": "python",
   "name": "python3"
  },
  "language_info": {
   "codemirror_mode": {
    "name": "ipython",
    "version": 3
   },
   "file_extension": ".py",
   "mimetype": "text/x-python",
   "name": "python",
   "nbconvert_exporter": "python",
   "pygments_lexer": "ipython3",
   "version": "3.8.8"
  }
 },
 "nbformat": 4,
 "nbformat_minor": 5
}
