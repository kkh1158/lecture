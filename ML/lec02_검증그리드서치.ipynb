{
 "cells": [
  {
   "cell_type": "markdown",
   "id": "7548a796-812e-4434-ace8-9e00304dac60",
   "metadata": {},
   "source": [
    "# 모델 검증 및 평가 (Validation & Evaluation metrics)"
   ]
  },
  {
   "cell_type": "code",
   "execution_count": 303,
   "id": "5b1dde7a-ade1-418f-a75f-74fae1372a75",
   "metadata": {
    "tags": []
   },
   "outputs": [],
   "source": [
    "import warnings\n",
    "warnings.filterwarnings(action='ignore')\n",
    "import re\n",
    "from datetime import datetime, date, time, timedelta\n",
    "from dateutil.relativedelta import relativedelta\n",
    "\n",
    "import numpy as np\n",
    "import pandas as pd\n",
    "import matplotlib.pyplot as plt\n",
    "import seaborn as sns\n",
    "sns.set()\n",
    "plt.rcParams['font.family']= 'Malgun Gothic'\n",
    "plt.rcParams['axes.unicode_minus'] = False\n",
    "# plt.rcParams['figure.figsize'] = [6.4, 4.8]\n",
    "\n",
    "from sklearn.datasets import load_iris, load_wine, load_diabetes\n",
    "from sklearn.preprocessing import LabelEncoder, OneHotEncoder, StandardScaler, MinMaxScaler, RobustScaler\n",
    "from sklearn.model_selection import train_test_split, cross_val_score, cross_validate, GridSearchCV, KFold, StratifiedKFold\n",
    "from sklearn.linear_model import LinearRegression, Lasso, Ridge\n",
    "from sklearn.tree import DecisionTreeClassifier, DecisionTreeRegressor\n",
    "from sklearn.ensemble import AdaBoostRegressor, VotingRegressor\n",
    "from sklearn.svm import SVC\n",
    "from sklearn.metrics import accuracy_score, mean_squared_error, r2_score\n",
    "from xgboost import XGBRegressor\n",
    "from lightgbm import LGBMRegressor"
   ]
  },
  {
   "cell_type": "markdown",
   "id": "7d562853-aa7b-46a2-92b2-c824d3c08654",
   "metadata": {},
   "source": [
    "# 샘플데이터 로드"
   ]
  },
  {
   "cell_type": "code",
   "execution_count": 7,
   "id": "704f85d5-939f-46a5-83c9-8aefd1bb0ac4",
   "metadata": {
    "tags": []
   },
   "outputs": [
    {
     "name": "stdout",
     "output_type": "stream",
     "text": [
      "<class 'pandas.core.frame.DataFrame'>\n",
      "RangeIndex: 150 entries, 0 to 149\n",
      "Data columns (total 5 columns):\n",
      " #   Column  Non-Null Count  Dtype  \n",
      "---  ------  --------------  -----  \n",
      " 0   sl      150 non-null    float64\n",
      " 1   sw      150 non-null    float64\n",
      " 2   pl      150 non-null    float64\n",
      " 3   pw      150 non-null    float64\n",
      " 4   target  150 non-null    int32  \n",
      "dtypes: float64(4), int32(1)\n",
      "memory usage: 5.4 KB\n"
     ]
    }
   ],
   "source": [
    "data = load_iris()\n",
    "df = pd.DataFrame(data['data'], columns=['sl', 'sw', 'pl', 'pw'])\n",
    "df['target'] = data['target']\n",
    "df.info()"
   ]
  },
  {
   "cell_type": "code",
   "execution_count": 102,
   "id": "4d2dc3b9-9171-4cbd-9cb9-1adb2b4b4e65",
   "metadata": {
    "tags": []
   },
   "outputs": [
    {
     "data": {
      "text/plain": [
       "0    50\n",
       "1    50\n",
       "2    50\n",
       "Name: target, dtype: int64"
      ]
     },
     "execution_count": 102,
     "metadata": {},
     "output_type": "execute_result"
    }
   ],
   "source": [
    "df['target'].value_counts()"
   ]
  },
  {
   "cell_type": "code",
   "execution_count": 103,
   "id": "dc53c10f-dfab-460c-85b4-85860045394b",
   "metadata": {
    "tags": []
   },
   "outputs": [
    {
     "name": "stdout",
     "output_type": "stream",
     "text": [
      "(120, 4) (30, 4) (120,) (30,)\n"
     ]
    },
    {
     "data": {
      "text/plain": [
       "1.0"
      ]
     },
     "execution_count": 103,
     "metadata": {},
     "output_type": "execute_result"
    }
   ],
   "source": [
    "X = df.drop(['target'], axis=1)\n",
    "y = df['target']\n",
    "\n",
    "X_train, X_test, y_train, y_test = train_test_split(X, y, random_state=0, test_size=0.2)\n",
    "print(X_train.shape, X_test.shape, y_train.shape, y_test.shape)\n",
    "\n",
    "model = DecisionTreeClassifier()\n",
    "model.fit(X_train, y_train)\n",
    "y_pred = model.predict(X_test)\n",
    "acc_scr = accuracy_score(y_test, y_pred)\n",
    "acc_scr"
   ]
  },
  {
   "cell_type": "markdown",
   "id": "b6989c39-95dd-41ed-b4ec-0eea0b405430",
   "metadata": {
    "tags": []
   },
   "source": [
    "## 교차검증\n",
    "KFold, StratifiedKFold, TimeSeriesSplit\n",
    "* KFold - 회귀모델: 회귀는 골고루 개념이 없음\n",
    "* StratifiedKFold - 분류모델: 골고루 섞어야 잘학습됨\n",
    "* TimeSeriesSplit - 금융데이터 or 과거데이터로 미래예측\n",
    "\n",
    "Fold(n_splits=5, *, shuffle=False, random_state=None)"
   ]
  },
  {
   "cell_type": "markdown",
   "id": "b8cef9c4-7622-4b3e-9c89-baf438fe2bb2",
   "metadata": {},
   "source": [
    "### KFold\n",
    "\n",
    "Fold(n_splits=5, *, shuffle=False, random_state=None)"
   ]
  },
  {
   "cell_type": "code",
   "execution_count": 339,
   "id": "10891de8-29fb-47e4-99f1-c588b2e5d12d",
   "metadata": {
    "tags": []
   },
   "outputs": [
    {
     "name": "stdout",
     "output_type": "stream",
     "text": [
      "KFold(n_splits=3, random_state=None, shuffle=False)\n",
      "----------\n",
      "Fold 0:\n",
      "  Train: index=[ 50  51  52  53  54  55  56  57  58  59  60  61  62  63  64  65  66  67\n",
      "  68  69  70  71  72  73  74  75  76  77  78  79  80  81  82  83  84  85\n",
      "  86  87  88  89  90  91  92  93  94  95  96  97  98  99 100 101 102 103\n",
      " 104 105 106 107 108 109 110 111 112 113 114 115 116 117 118 119 120 121\n",
      " 122 123 124 125 126 127 128 129 130 131 132 133 134 135 136 137 138 139\n",
      " 140 141 142 143 144 145 146 147 148 149]\n",
      "  Test:  index=[ 0  1  2  3  4  5  6  7  8  9 10 11 12 13 14 15 16 17 18 19 20 21 22 23\n",
      " 24 25 26 27 28 29 30 31 32 33 34 35 36 37 38 39 40 41 42 43 44 45 46 47\n",
      " 48 49]\n",
      "Fold 1:\n",
      "  Train: index=[  0   1   2   3   4   5   6   7   8   9  10  11  12  13  14  15  16  17\n",
      "  18  19  20  21  22  23  24  25  26  27  28  29  30  31  32  33  34  35\n",
      "  36  37  38  39  40  41  42  43  44  45  46  47  48  49 100 101 102 103\n",
      " 104 105 106 107 108 109 110 111 112 113 114 115 116 117 118 119 120 121\n",
      " 122 123 124 125 126 127 128 129 130 131 132 133 134 135 136 137 138 139\n",
      " 140 141 142 143 144 145 146 147 148 149]\n",
      "  Test:  index=[50 51 52 53 54 55 56 57 58 59 60 61 62 63 64 65 66 67 68 69 70 71 72 73\n",
      " 74 75 76 77 78 79 80 81 82 83 84 85 86 87 88 89 90 91 92 93 94 95 96 97\n",
      " 98 99]\n",
      "Fold 2:\n",
      "  Train: index=[ 0  1  2  3  4  5  6  7  8  9 10 11 12 13 14 15 16 17 18 19 20 21 22 23\n",
      " 24 25 26 27 28 29 30 31 32 33 34 35 36 37 38 39 40 41 42 43 44 45 46 47\n",
      " 48 49 50 51 52 53 54 55 56 57 58 59 60 61 62 63 64 65 66 67 68 69 70 71\n",
      " 72 73 74 75 76 77 78 79 80 81 82 83 84 85 86 87 88 89 90 91 92 93 94 95\n",
      " 96 97 98 99]\n",
      "  Test:  index=[100 101 102 103 104 105 106 107 108 109 110 111 112 113 114 115 116 117\n",
      " 118 119 120 121 122 123 124 125 126 127 128 129 130 131 132 133 134 135\n",
      " 136 137 138 139 140 141 142 143 144 145 146 147 148 149]\n"
     ]
    }
   ],
   "source": [
    "kf = KFold(n_splits=3)\n",
    "# kf.get_n_splits(X)\n",
    "\n",
    "print(kf)\n",
    "print('----------')\n",
    "\n",
    "for i, (train_index, test_index) in enumerate(kf.split(X)):\n",
    "    print(f\"Fold {i}:\")\n",
    "    print(f\"  Train: index={train_index}\")\n",
    "    print(f\"  Test:  index={test_index}\")"
   ]
  },
  {
   "cell_type": "markdown",
   "id": "2fc9fced-e468-4243-abe0-541263393036",
   "metadata": {},
   "source": [
    "### StratifiedKFold"
   ]
  },
  {
   "cell_type": "code",
   "execution_count": 111,
   "id": "2b3a673c-e6ed-4468-959b-33786f6b0764",
   "metadata": {
    "tags": []
   },
   "outputs": [
    {
     "name": "stdout",
     "output_type": "stream",
     "text": [
      "StratifiedKFold(n_splits=3, random_state=None, shuffle=False)\n",
      "----------\n",
      "Fold 0:\n",
      "0    17\n",
      "1    17\n",
      "2    16\n",
      "Name: target, dtype: int64\n",
      "----------\n",
      "Fold 1:\n",
      "0    17\n",
      "1    16\n",
      "2    17\n",
      "Name: target, dtype: int64\n",
      "----------\n",
      "Fold 2:\n",
      "0    16\n",
      "1    17\n",
      "2    17\n",
      "Name: target, dtype: int64\n",
      "----------\n"
     ]
    }
   ],
   "source": [
    "skf = StratifiedKFold(n_splits=3)\n",
    "# kf.get_n_splits(X)\n",
    "\n",
    "print(skf)\n",
    "print('----------')\n",
    "\n",
    "for i, (train_index, test_index) in enumerate(skf.split(X, y)):\n",
    "    print(f\"Fold {i}:\")\n",
    "    # print(f\"  Train: index={train_index}\")\n",
    "    print(y.loc[test_index].value_counts().sort_index())\n",
    "    print('----------')"
   ]
  },
  {
   "cell_type": "markdown",
   "id": "f35ea8b3-8442-4d1a-9f5e-9d3230bb43dc",
   "metadata": {},
   "source": [
    "<table border=1 width=800>\n",
    "<tr>\n",
    "    <td>\n",
    "    <img width='300' height='300' src=\"https://scikit-learn.org/stable/_images/sphx_glr_plot_cv_indices_006.png\">\n",
    "    <img width='300' height='300'  src=\"https://scikit-learn.org/stable/_images/sphx_glr_plot_cv_indices_007.png\">\n",
    "    </td>\n",
    "</tr>\n",
    "<tr>\n",
    "    <td>\n",
    "    <img width='300' height='300' src=\"https://scikit-learn.org/stable/_images/sphx_glr_plot_cv_indices_008.png\">\n",
    "    <img width='300' height='300'  src=\"https://scikit-learn.org/stable/_images/sphx_glr_plot_cv_indices_009.png\">\n",
    "    </td>\n",
    "</tr>\n",
    "<tr>\n",
    "    <td>\n",
    "    <img width='300' height='300' src=\"https://scikit-learn.org/stable/_images/sphx_glr_plot_cv_indices_010.png\">\n",
    "    <img width='300' height='300'  src=\"https://scikit-learn.org/stable/_images/sphx_glr_plot_cv_indices_011.png\">\n",
    "    </td>\n",
    "</tr>\n",
    "<tr>\n",
    "    <td>\n",
    "    <img width='300' height='300' src=\"https://scikit-learn.org/stable/_images/sphx_glr_plot_cv_indices_012.png\">\n",
    "    <img width='300' height='300'  src=\"https://scikit-learn.org/stable/_images/sphx_glr_plot_cv_indices_013.png\">\n",
    "    </td>\n",
    "</tr>    \n",
    "</table>"
   ]
  },
  {
   "cell_type": "code",
   "execution_count": 230,
   "id": "f3d487bc-41c5-46b8-9f43-72d5dd8029f1",
   "metadata": {
    "tags": []
   },
   "outputs": [
    {
     "name": "stdout",
     "output_type": "stream",
     "text": [
      "(120, 4) (30, 4) (120,) (30,)\n"
     ]
    },
    {
     "data": {
      "text/plain": [
       "1.0"
      ]
     },
     "execution_count": 230,
     "metadata": {},
     "output_type": "execute_result"
    }
   ],
   "source": [
    "X = df.drop(['target'], axis=1)\n",
    "y = df['target']\n",
    "\n",
    "X_train, X_test, y_train, y_test = train_test_split(X, y, random_state=0, test_size=0.2)\n",
    "print(X_train.shape, X_test.shape, y_train.shape, y_test.shape)\n",
    "\n",
    "model = DecisionTreeClassifier(random_state=0)\n",
    "model.fit(X_train, y_train)\n",
    "y_pred = model.predict(X_test)\n",
    "acc_scr = accuracy_score(y_test, y_pred)\n",
    "acc_scr"
   ]
  },
  {
   "cell_type": "code",
   "execution_count": 228,
   "id": "3fd3ca63-693d-4275-8f3e-f43c3b3e499c",
   "metadata": {
    "tags": []
   },
   "outputs": [
    {
     "name": "stdout",
     "output_type": "stream",
     "text": [
      "1.0\n",
      "--==---=-=\n",
      "0.9666666666666667\n",
      "--==---=-=\n",
      "0.8333333333333334\n",
      "--==---=-=\n",
      "0.9333333333333333\n",
      "--==---=-=\n",
      "0.8\n",
      "--==---=-=\n",
      "[1.0, 0.9666666666666667, 0.8333333333333334, 0.9333333333333333, 0.8]\n"
     ]
    },
    {
     "data": {
      "text/plain": [
       "0.9066666666666666"
      ]
     },
     "execution_count": 228,
     "metadata": {},
     "output_type": "execute_result"
    }
   ],
   "source": [
    "X = df.drop(['target'], axis=1)\n",
    "y = df['target']\n",
    "\n",
    "kf = KFold(n_splits=5)\n",
    "acc_scr_list=[]\n",
    "for i, (train_index, test_index) in enumerate(kf.split(X)):\n",
    "    X_train = X.loc[train_index]\n",
    "    X_test = X.loc[test_index]\n",
    "    y_train = y.loc[train_index]\n",
    "    y_test = y.loc[test_index]\n",
    "    \n",
    "    # print(y_test.value_counts().sort_index())\n",
    "    \n",
    "    model = DecisionTreeClassifier(random_state=0)\n",
    "    model.fit(X_train, y_train)\n",
    "    y_pred = model.predict(X_test)\n",
    "    acc_scr = accuracy_score(y_test, y_pred)\n",
    "    acc_scr_list.append(acc_scr)\n",
    "    print(acc_scr)\n",
    "    print('--==---=-=')\n",
    "    \n",
    "print(acc_scr_list)\n",
    "np.mean(acc_scr_list)"
   ]
  },
  {
   "cell_type": "code",
   "execution_count": 245,
   "id": "30813add-3643-4238-a536-b5263af899da",
   "metadata": {
    "tags": []
   },
   "outputs": [
    {
     "name": "stdout",
     "output_type": "stream",
     "text": [
      "[0.9666666666666667, 0.9666666666666667, 0.9, 0.9666666666666667, 1.0]\n"
     ]
    },
    {
     "data": {
      "text/plain": [
       "0.9600000000000002"
      ]
     },
     "execution_count": 245,
     "metadata": {},
     "output_type": "execute_result"
    }
   ],
   "source": [
    "X = df.drop(['target'], axis=1)\n",
    "y = df['target']\n",
    "\n",
    "skf = StratifiedKFold(n_splits=5)\n",
    "acc_scr_list=[]\n",
    "for i, (train_index, test_index) in enumerate(skf.split(X, y)):\n",
    "    X_train = X.loc[train_index]\n",
    "    X_test = X.loc[test_index]\n",
    "    y_train = y.loc[train_index]\n",
    "    y_test = y.loc[test_index]\n",
    "    \n",
    "    # print(y_test.value_counts().sort_index())\n",
    "    \n",
    "    model = DecisionTreeClassifier(random_state=0)\n",
    "    model.fit(X_train, y_train)\n",
    "    y_pred = model.predict(X_test)\n",
    "    acc_scr = accuracy_score(y_test, y_pred)\n",
    "    acc_scr_list.append(acc_scr)\n",
    "    # print(acc_scr)\n",
    "    # print('--==---=-=')\n",
    "    \n",
    "print(acc_scr_list)\n",
    "np.mean(acc_scr_list)"
   ]
  },
  {
   "cell_type": "markdown",
   "id": "7ac66b65-fcc2-46c5-8e5a-73dcb75bbd3b",
   "metadata": {},
   "source": [
    "### cross_val_score test점수만 리스트로 리턴\n",
    "<pre>\n",
    "<b>sklearn.model_selection.cross_val_score(estimator,\n",
    "    X, y=None, \n",
    "    scoring=None, # 점수방식\n",
    "    cv=None, # 몇등분? 폴드\n",
    "    fit_params=None, # 제일좋은거적용해줘?\n",
    "</b>\n",
    "n_jobs=None, verbose=0, groups=None, , pre_dispatch='2*n_jobs', error_score=nan)"
   ]
  },
  {
   "cell_type": "code",
   "execution_count": 303,
   "id": "47275594-f48d-48ad-bbfa-94acd60efb1e",
   "metadata": {
    "tags": []
   },
   "outputs": [
    {
     "name": "stdout",
     "output_type": "stream",
     "text": [
      "[0.96666667 0.96666667 0.9        0.96666667 1.        ]\n",
      "0.9600000000000002\n"
     ]
    }
   ],
   "source": [
    "X = df.drop(['target'], axis=1)\n",
    "y = df['target']\n",
    "\n",
    "res_list = cross_val_score(DecisionTreeClassifier(random_state=0), X, y, scoring='accuracy', cv=5)\n",
    "print(res_list)\n",
    "print(np.mean(res_list))"
   ]
  },
  {
   "cell_type": "markdown",
   "id": "1c2090c6-9981-4e18-9d08-deca79d0d92f",
   "metadata": {
    "tags": []
   },
   "source": [
    "### cross_validate 이것저것 딕트로 리턴\n",
    "\n",
    "점수: train_score, test_score\n",
    "\n",
    "시간: fit_time, score_time"
   ]
  },
  {
   "cell_type": "code",
   "execution_count": 302,
   "id": "9e2f9ef3-85c8-4d71-9d8c-f2830141d0a6",
   "metadata": {
    "tags": []
   },
   "outputs": [
    {
     "name": "stdout",
     "output_type": "stream",
     "text": [
      "{'fit_time': array([0.00400329, 0.00302005, 0.00199628, 0.0019989 , 0.00299239]), 'score_time': array([0.000983  , 0.00099897, 0.00099587, 0.00196505, 0.0010016 ]), 'test_score': array([0.96666667, 0.96666667, 0.9       , 0.96666667, 1.        ]), 'train_score': array([1., 1., 1., 1., 1.])}\n"
     ]
    },
    {
     "data": {
      "text/html": [
       "<div>\n",
       "<style scoped>\n",
       "    .dataframe tbody tr th:only-of-type {\n",
       "        vertical-align: middle;\n",
       "    }\n",
       "\n",
       "    .dataframe tbody tr th {\n",
       "        vertical-align: top;\n",
       "    }\n",
       "\n",
       "    .dataframe thead th {\n",
       "        text-align: right;\n",
       "    }\n",
       "</style>\n",
       "<table border=\"1\" class=\"dataframe\">\n",
       "  <thead>\n",
       "    <tr style=\"text-align: right;\">\n",
       "      <th></th>\n",
       "      <th>fit_time</th>\n",
       "      <th>score_time</th>\n",
       "      <th>test_score</th>\n",
       "      <th>train_score</th>\n",
       "    </tr>\n",
       "  </thead>\n",
       "  <tbody>\n",
       "    <tr>\n",
       "      <th>0</th>\n",
       "      <td>0.004003</td>\n",
       "      <td>0.000983</td>\n",
       "      <td>0.966667</td>\n",
       "      <td>1.0</td>\n",
       "    </tr>\n",
       "    <tr>\n",
       "      <th>1</th>\n",
       "      <td>0.003020</td>\n",
       "      <td>0.000999</td>\n",
       "      <td>0.966667</td>\n",
       "      <td>1.0</td>\n",
       "    </tr>\n",
       "    <tr>\n",
       "      <th>2</th>\n",
       "      <td>0.001996</td>\n",
       "      <td>0.000996</td>\n",
       "      <td>0.900000</td>\n",
       "      <td>1.0</td>\n",
       "    </tr>\n",
       "    <tr>\n",
       "      <th>3</th>\n",
       "      <td>0.001999</td>\n",
       "      <td>0.001965</td>\n",
       "      <td>0.966667</td>\n",
       "      <td>1.0</td>\n",
       "    </tr>\n",
       "    <tr>\n",
       "      <th>4</th>\n",
       "      <td>0.002992</td>\n",
       "      <td>0.001002</td>\n",
       "      <td>1.000000</td>\n",
       "      <td>1.0</td>\n",
       "    </tr>\n",
       "  </tbody>\n",
       "</table>\n",
       "</div>"
      ],
      "text/plain": [
       "   fit_time  score_time  test_score  train_score\n",
       "0  0.004003    0.000983    0.966667          1.0\n",
       "1  0.003020    0.000999    0.966667          1.0\n",
       "2  0.001996    0.000996    0.900000          1.0\n",
       "3  0.001999    0.001965    0.966667          1.0\n",
       "4  0.002992    0.001002    1.000000          1.0"
      ]
     },
     "execution_count": 302,
     "metadata": {},
     "output_type": "execute_result"
    }
   ],
   "source": [
    "X = df.drop(['target'], axis=1)\n",
    "y = df['target']\n",
    "\n",
    "res_dict = cross_validate(DecisionTreeClassifier(random_state=0), X, y, scoring='accuracy', cv=5, return_train_score=True)\n",
    "print(res_dict)\n",
    "pd.DataFrame(res_dict)"
   ]
  },
  {
   "cell_type": "markdown",
   "id": "fe74a245-6a18-4756-9020-8b950cc8f6bb",
   "metadata": {
    "tags": []
   },
   "source": [
    "### GridSearchCV 하이퍼파리미터 튜닝 모델로 리턴\n",
    "<pre>\n",
    "<b>GridSearchCV(\n",
    "    estimator, # 모델\n",
    "    scoring=None, # 점수방식\n",
    "    cv=None, # 몇등분? 폴드\n",
    "    param_grid, # 파라미터딕트로\n",
    "    refit=True, # 제일좋은모델이 알아서 적용되게끔 그리드서치CV를 쓰는이유\n",
    "    n_jobs=None,\n",
    "</b>verbose=0, pre_dispatch='2*n_jobs', error_score=nan, return_train_score=False)\n",
    "\n",
    "호출변수.cv_results_ # 결과보기\n",
    "호출변수.best_estimator_ # 최고모델뭐임\n",
    "호출변수.best_params_ # 최고파라미터뭐임\n",
    "호출변수.best_score_ # 최고점수뭐임\n",
    "호출변수.predict(X_test)"
   ]
  },
  {
   "cell_type": "code",
   "execution_count": 278,
   "id": "53d73f65-1a8e-4c6e-9cb0-a265103c95ab",
   "metadata": {
    "tags": []
   },
   "outputs": [
    {
     "name": "stdout",
     "output_type": "stream",
     "text": [
      "{'min_samples_leaf': 2, 'min_samples_split': 1}\n",
      "0.95\n",
      "DecisionTreeClassifier(min_samples_leaf=2, min_samples_split=1, random_state=0)\n"
     ]
    },
    {
     "data": {
      "text/plain": [
       "array([2, 1, 2, 1, 2, 2, 1, 1, 2, 1, 2, 2, 2, 1, 1, 2, 2, 2, 1, 2, 2, 2,\n",
       "       2, 2, 2, 2, 2, 2, 2, 2])"
      ]
     },
     "execution_count": 278,
     "metadata": {},
     "output_type": "execute_result"
    }
   ],
   "source": [
    "param_ = {\n",
    "    'min_samples_split':[1,2,3],\n",
    "    'min_samples_leaf':[1,2,3]\n",
    "}\n",
    "\n",
    "model = DecisionTreeClassifier(random_state=0)\n",
    "models = GridSearchCV(model, scoring='accuracy', cv=5, param_grid=param_)\n",
    "models.fit(X_train, y_train)\n",
    "print(models.best_params_)\n",
    "print(models.best_score_)\n",
    "print(models.best_estimator_)\n",
    "y_pred = models.predict(X_test)\n",
    "y_pred"
   ]
  },
  {
   "cell_type": "markdown",
   "id": "194ff00c-531b-427e-b23e-ee5e5f4ab39d",
   "metadata": {},
   "source": [
    "### K-Fold 외 교차검증(Cross Validation)\n",
    "<pre>\n",
    "K-Fold : K개의 폴드로 나누어 cv횟수만큼 반복 학습\n",
    "\n",
    "홀드아웃 (Holdout)    : 비복원추출 \n",
    "부트스트랩(Bootstrap) : 복원추출(63.2%) / 추출되지않은 데이터는 test로\n",
    "\n",
    "LOOCV(Leave One Out Cross Validation)   : test 폴드(1개데이터)\n",
    "LpOCV(Leave p     Out Cross Validation) : test 폴드(p개데이터)"
   ]
  },
  {
   "cell_type": "markdown",
   "id": "0c480915-e92e-41b8-b06e-94700795f49a",
   "metadata": {},
   "source": [
    "# 연습 분류"
   ]
  },
  {
   "cell_type": "code",
   "execution_count": 396,
   "id": "96ec4f3e-418a-4435-b799-eb09fcc858fa",
   "metadata": {
    "tags": []
   },
   "outputs": [
    {
     "data": {
      "text/plain": [
       "0.9722222222222222"
      ]
     },
     "execution_count": 396,
     "metadata": {},
     "output_type": "execute_result"
    }
   ],
   "source": [
    "data = load_wine()\n",
    "X = pd.DataFrame(data['data'], columns=data['feature_names'])\n",
    "y = pd.DataFrame(data['target'], columns=['target'])\n",
    "\n",
    "X_train, X_test, y_train, y_test = train_test_split(X, y, random_state=0, test_size=0.2)\n",
    "model = DecisionTreeClassifier(random_state=0)\n",
    "model.fit(X_train, y_train)\n",
    "y_pred = model.predict(X_test)\n",
    "scr = accuracy_score(y_test, y_pred)\n",
    "scr"
   ]
  },
  {
   "cell_type": "code",
   "execution_count": 395,
   "id": "9e65e166-98b8-4747-8f90-911875048924",
   "metadata": {
    "tags": []
   },
   "outputs": [
    {
     "data": {
      "text/plain": [
       "[0.9166666666666666,\n",
       " 0.8333333333333334,\n",
       " 0.8055555555555556,\n",
       " 0.7142857142857143,\n",
       " 0.9142857142857143]"
      ]
     },
     "execution_count": 395,
     "metadata": {},
     "output_type": "execute_result"
    }
   ],
   "source": [
    "data = load_wine()\n",
    "X = pd.DataFrame(data['data'], columns=data['feature_names'])\n",
    "y = pd.DataFrame(data['target'], columns=['target'])\n",
    "\n",
    "scr_list = []\n",
    "kf = KFold()\n",
    "for (train_idx, test_idx) in kf.split(X):\n",
    "    X_train, y_train = X.loc[train_idx], y.loc[train_idx]\n",
    "    X_test , y_test  = X.loc[test_idx],  y.loc[test_idx]\n",
    "\n",
    "    model = DecisionTreeClassifier(random_state=0)\n",
    "    model.fit(X_train, y_train)\n",
    "    y_pred = model.predict(X_test)\n",
    "    scr = accuracy_score(y_test, y_pred)\n",
    "    scr_list.append(scr)\n",
    "\n",
    "scr_list"
   ]
  },
  {
   "cell_type": "code",
   "execution_count": 394,
   "id": "4f460b12-c9c5-4e4f-a956-13bcfde54337",
   "metadata": {
    "tags": []
   },
   "outputs": [
    {
     "data": {
      "text/plain": [
       "[0.9444444444444444,\n",
       " 0.8333333333333334,\n",
       " 0.8888888888888888,\n",
       " 0.9142857142857143,\n",
       " 0.8571428571428571]"
      ]
     },
     "execution_count": 394,
     "metadata": {},
     "output_type": "execute_result"
    }
   ],
   "source": [
    "data = load_wine()\n",
    "X = pd.DataFrame(data['data'], columns=data['feature_names'])\n",
    "y = pd.DataFrame(data['target'], columns=['target'])\n",
    "\n",
    "scr_list = []\n",
    "skf = StratifiedKFold()\n",
    "for (train_idx, test_idx) in skf.split(X, y):\n",
    "    X_train, y_train = X.loc[train_idx], y.loc[train_idx]\n",
    "    X_test,  y_test  = X.loc[test_idx],  y.loc[test_idx]\n",
    "    \n",
    "    model = DecisionTreeClassifier(random_state=0)\n",
    "    model.fit(X_train, y_train)\n",
    "    y_pred = model.predict(X_test)\n",
    "    scr = accuracy_score(y_test, y_pred)\n",
    "    scr_list.append(scr)\n",
    "    \n",
    "scr_list"
   ]
  },
  {
   "cell_type": "code",
   "execution_count": 397,
   "id": "47395ff8-8bf7-482a-bba0-04906c3c677b",
   "metadata": {
    "tags": []
   },
   "outputs": [
    {
     "data": {
      "text/plain": [
       "array([0.94444444, 0.83333333, 0.88888889, 0.91428571, 0.85714286])"
      ]
     },
     "execution_count": 397,
     "metadata": {},
     "output_type": "execute_result"
    }
   ],
   "source": [
    "data = load_wine()\n",
    "X = pd.DataFrame(data['data'], columns=data['feature_names'])\n",
    "y = pd.DataFrame(data['target'], columns=['target'])\n",
    "\n",
    "model = DecisionTreeClassifier(random_state=0)\n",
    "res_list = cross_val_score(model, X, y, scoring='accuracy')\n",
    "res_list"
   ]
  },
  {
   "cell_type": "code",
   "execution_count": 406,
   "id": "a67a1044-8d63-47f4-9858-7636acbb4512",
   "metadata": {
    "tags": []
   },
   "outputs": [],
   "source": [
    "data = load_wine()\n",
    "X = pd.DataFrame(data['data'], columns=data['feature_names'])\n",
    "y = pd.DataFrame(data['target'], columns=['target'])"
   ]
  },
  {
   "cell_type": "markdown",
   "id": "a128f5e6-5fc4-4342-ad0a-7f8caddf5975",
   "metadata": {},
   "source": [
    "# 연습 회귀"
   ]
  },
  {
   "cell_type": "code",
   "execution_count": 419,
   "id": "d5f4d88a-4630-4533-8e6b-73f57bec6183",
   "metadata": {
    "tags": []
   },
   "outputs": [
    {
     "data": {
      "text/plain": [
       "0.26132445466089016"
      ]
     },
     "execution_count": 419,
     "metadata": {},
     "output_type": "execute_result"
    }
   ],
   "source": [
    "data = load_diabetes()\n",
    "X = pd.DataFrame(data['data'], columns=data['feature_names'])\n",
    "y = pd.DataFrame(data['target'], columns=['target'])\n",
    "\n",
    "X_train, X_test, y_train, y_test = train_test_split(X, y, random_state=0, test_size=0.2)\n",
    "model = Lasso()\n",
    "model.fit(X_train, y_train)\n",
    "y_pred = model.predict(X_test)\n",
    "scr = r2_score(y_test, y_pred)\n",
    "scr"
   ]
  },
  {
   "cell_type": "code",
   "execution_count": 420,
   "id": "8188cd4e-c4fa-4d40-8c21-7583fb32fac7",
   "metadata": {
    "tags": []
   },
   "outputs": [
    {
     "data": {
      "text/plain": [
       "[0.28349005948757444,\n",
       " 0.3515795156052952,\n",
       " 0.35338233459786006,\n",
       " 0.3348125342212116,\n",
       " 0.3645323934151956]"
      ]
     },
     "execution_count": 420,
     "metadata": {},
     "output_type": "execute_result"
    }
   ],
   "source": [
    "data = load_diabetes()\n",
    "X = pd.DataFrame(data['data'], columns=data['feature_names'])\n",
    "y = pd.DataFrame(data['target'], columns=['target'])\n",
    "\n",
    "scr_list = []\n",
    "kf = KFold()\n",
    "for (train_idx, test_idx) in kf.split(X):\n",
    "    X_train, y_train = X.loc[train_idx], y.loc[train_idx]\n",
    "    X_test , y_test  = X.loc[test_idx],  y.loc[test_idx]\n",
    "\n",
    "    model = Lasso()\n",
    "    model.fit(X_train, y_train)\n",
    "    y_pred = model.predict(X_test)\n",
    "    scr = r2_score(y_test, y_pred)\n",
    "    scr_list.append(scr)\n",
    "\n",
    "scr_list"
   ]
  },
  {
   "cell_type": "code",
   "execution_count": 435,
   "id": "12bde0e8-27db-4c40-afa0-c699aca9bd68",
   "metadata": {
    "tags": []
   },
   "outputs": [
    {
     "data": {
      "text/plain": [
       "[0.3528037615521531,\n",
       " 0.3765696932544621,\n",
       " 0.3507247730094498,\n",
       " 0.290970077834255,\n",
       " 0.34686790169838577]"
      ]
     },
     "execution_count": 435,
     "metadata": {},
     "output_type": "execute_result"
    }
   ],
   "source": [
    "data = load_diabetes()\n",
    "X = pd.DataFrame(data['data'], columns=data['feature_names'])\n",
    "y = pd.DataFrame(data['target'], columns=['target'])\n",
    "\n",
    "scr_list = []\n",
    "skf = StratifiedKFold()\n",
    "for (train_idx, test_idx) in skf.split(X, y):\n",
    "    X_train, y_train = X.loc[train_idx], y.loc[train_idx]\n",
    "    X_test,  y_test  = X.loc[test_idx],  y.loc[test_idx]\n",
    "    \n",
    "    model = Lasso()\n",
    "    model.fit(X_train, y_train)\n",
    "    y_pred = model.predict(X_test)\n",
    "    scr = r2_score(y_test, y_pred)\n",
    "    scr_list.append(scr)\n",
    "    \n",
    "scr_list"
   ]
  },
  {
   "cell_type": "code",
   "execution_count": 424,
   "id": "e055ec23-9d00-4dcc-9b27-f128e8db0814",
   "metadata": {
    "tags": []
   },
   "outputs": [
    {
     "data": {
      "text/plain": [
       "array([0.28349006, 0.35157952, 0.35338233, 0.33481253, 0.36453239])"
      ]
     },
     "execution_count": 424,
     "metadata": {},
     "output_type": "execute_result"
    }
   ],
   "source": [
    "data = load_diabetes()\n",
    "X = pd.DataFrame(data['data'], columns=data['feature_names'])\n",
    "y = pd.DataFrame(data['target'], columns=['target'])\n",
    "\n",
    "res_list = cross_val_score(Lasso(), X, y, scoring='r2')\n",
    "res_list"
   ]
  },
  {
   "cell_type": "code",
   "execution_count": 448,
   "id": "80db1495-61a4-4f01-bd4e-1dcc21192ff9",
   "metadata": {
    "tags": []
   },
   "outputs": [
    {
     "data": {
      "text/plain": [
       "{'mean_fit_time': array([0.00459089, 0.00398941, 0.00339098, 0.00359001, 0.00379114,\n",
       "        0.00339117, 0.00319114, 0.00379171, 0.0031981 , 0.00357847,\n",
       "        0.00279179, 0.00299826, 0.0027884 , 0.00339694, 0.00259285,\n",
       "        0.00279126, 0.00259295, 0.00239387, 0.00239549, 0.00239625,\n",
       "        0.00219913, 0.00259113, 0.00218859, 0.00259309, 0.00260143,\n",
       "        0.00219407, 0.00297985, 0.00219398, 0.00219674, 0.00239339]),\n",
       " 'std_fit_time': array([4.91776302e-04, 6.30148061e-04, 4.89142276e-04, 4.88441472e-04,\n",
       "        9.81495450e-04, 4.88694526e-04, 3.99041614e-04, 7.50028300e-04,\n",
       "        3.96100376e-04, 4.91435542e-04, 3.99422998e-04, 6.30845768e-04,\n",
       "        3.99544430e-04, 1.34655836e-03, 4.88363744e-04, 3.98348620e-04,\n",
       "        4.88928081e-04, 4.88694550e-04, 4.86803183e-04, 4.91538689e-04,\n",
       "        3.96392679e-04, 7.88893336e-04, 3.89031318e-04, 4.88461228e-04,\n",
       "        4.89467580e-04, 3.98448040e-04, 1.61602076e-05, 3.85181294e-04,\n",
       "        4.05336839e-04, 4.88505824e-04]),\n",
       " 'mean_score_time': array([0.00219073, 0.00219407, 0.00199466, 0.00119724, 0.00199332,\n",
       "        0.00139599, 0.00139637, 0.00179315, 0.00159793, 0.00120869,\n",
       "        0.00198913, 0.00159564, 0.0017909 , 0.00139627, 0.0014029 ,\n",
       "        0.00159688, 0.00159564, 0.00199437, 0.00219226, 0.00179253,\n",
       "        0.00179591, 0.00199666, 0.00160122, 0.00138936, 0.00119395,\n",
       "        0.00199547, 0.00160804, 0.00179901, 0.00179152, 0.00140162]),\n",
       " 'std_score_time': array([3.93439336e-04, 4.00114301e-04, 1.78416128e-07, 3.99398832e-04,\n",
       "        8.90577523e-04, 4.88383066e-04, 4.88558179e-04, 3.98065733e-04,\n",
       "        4.90530323e-04, 3.92976502e-04, 6.22322292e-04, 4.88928128e-04,\n",
       "        7.38208707e-04, 4.88538753e-04, 4.96952206e-04, 4.89567607e-04,\n",
       "        4.88733398e-04, 2.61174468e-07, 3.94821484e-04, 3.97517596e-04,\n",
       "        3.99908477e-04, 6.33545588e-04, 4.94002283e-04, 4.81156848e-04,\n",
       "        3.92699252e-04, 6.31661193e-04, 5.00346178e-04, 4.01155158e-04,\n",
       "        3.96834225e-04, 4.85480657e-04]),\n",
       " 'param_alpha': masked_array(data=[0.0001, 0.00013203517797162948, 0.00017433288221999874,\n",
       "                    0.00023018073130224678, 0.0003039195382313198,\n",
       "                    0.0004012807031942776, 0.0005298316906283707,\n",
       "                    0.0006995642156712634, 0.0009236708571873865,\n",
       "                    0.0012195704601594415, 0.0016102620275609393,\n",
       "                    0.0021261123338996556, 0.0028072162039411755,\n",
       "                    0.0037065129109221566, 0.004893900918477494,\n",
       "                    0.006461670787466976, 0.008531678524172814,\n",
       "                    0.011264816923358867, 0.014873521072935119,\n",
       "                    0.0196382800192977, 0.02592943797404667,\n",
       "                    0.03423597957607583, 0.04520353656360245,\n",
       "                    0.05968456995122311, 0.07880462815669913,\n",
       "                    0.10404983103657853, 0.1373823795883264,\n",
       "                    0.1813930693911063, 0.2395026619987486,\n",
       "                    0.31622776601683794],\n",
       "              mask=[False, False, False, False, False, False, False, False,\n",
       "                    False, False, False, False, False, False, False, False,\n",
       "                    False, False, False, False, False, False, False, False,\n",
       "                    False, False, False, False, False, False],\n",
       "        fill_value='?',\n",
       "             dtype=object),\n",
       " 'params': [{'alpha': 0.0001},\n",
       "  {'alpha': 0.00013203517797162948},\n",
       "  {'alpha': 0.00017433288221999874},\n",
       "  {'alpha': 0.00023018073130224678},\n",
       "  {'alpha': 0.0003039195382313198},\n",
       "  {'alpha': 0.0004012807031942776},\n",
       "  {'alpha': 0.0005298316906283707},\n",
       "  {'alpha': 0.0006995642156712634},\n",
       "  {'alpha': 0.0009236708571873865},\n",
       "  {'alpha': 0.0012195704601594415},\n",
       "  {'alpha': 0.0016102620275609393},\n",
       "  {'alpha': 0.0021261123338996556},\n",
       "  {'alpha': 0.0028072162039411755},\n",
       "  {'alpha': 0.0037065129109221566},\n",
       "  {'alpha': 0.004893900918477494},\n",
       "  {'alpha': 0.006461670787466976},\n",
       "  {'alpha': 0.008531678524172814},\n",
       "  {'alpha': 0.011264816923358867},\n",
       "  {'alpha': 0.014873521072935119},\n",
       "  {'alpha': 0.0196382800192977},\n",
       "  {'alpha': 0.02592943797404667},\n",
       "  {'alpha': 0.03423597957607583},\n",
       "  {'alpha': 0.04520353656360245},\n",
       "  {'alpha': 0.05968456995122311},\n",
       "  {'alpha': 0.07880462815669913},\n",
       "  {'alpha': 0.10404983103657853},\n",
       "  {'alpha': 0.1373823795883264},\n",
       "  {'alpha': 0.1813930693911063},\n",
       "  {'alpha': 0.2395026619987486},\n",
       "  {'alpha': 0.31622776601683794}],\n",
       " 'split0_test_score': array([0.42949652, 0.42947722, 0.4294516 , 0.42941753, 0.42937211,\n",
       "        0.42931138, 0.42922991, 0.42912001, 0.42897097, 0.42903026,\n",
       "        0.42916336, 0.42902641, 0.42881915, 0.42851801, 0.42807205,\n",
       "        0.42739867, 0.4263663 , 0.42475566, 0.42288028, 0.42157287,\n",
       "        0.41984992, 0.41836267, 0.41604024, 0.41273374, 0.40795186,\n",
       "        0.40091234, 0.3970133 , 0.39097746, 0.38094121, 0.37857095]),\n",
       " 'split1_test_score': array([0.52258358, 0.52257839, 0.52257145, 0.52256213, 0.52254955,\n",
       "        0.52253243, 0.522509  , 0.52247659, 0.52243123, 0.52236684,\n",
       "        0.522274  , 0.52213785, 0.5221016 , 0.52215839, 0.52199226,\n",
       "        0.52166066, 0.52112019, 0.52057991, 0.52057473, 0.5205196 ,\n",
       "        0.52037693, 0.52006718, 0.51944584, 0.51891732, 0.51751414,\n",
       "        0.51456471, 0.50942428, 0.50292625, 0.49320413, 0.48071561]),\n",
       " 'split2_test_score': array([0.48277426, 0.4828042 , 0.48284362, 0.48289555, 0.4829639 ,\n",
       "        0.4830537 , 0.48317162, 0.48332608, 0.48352786, 0.48379063,\n",
       "        0.48413101, 0.48456929, 0.48512845, 0.48583284, 0.4867034 ,\n",
       "        0.48731341, 0.48806582, 0.48943773, 0.49098583, 0.49207982,\n",
       "        0.4921719 , 0.49213899, 0.49162674, 0.49121336, 0.49030686,\n",
       "        0.48846471, 0.48631882, 0.48566579, 0.48281911, 0.47560037]),\n",
       " 'split3_test_score': array([0.42655896, 0.42657831, 0.42660365, 0.42663677, 0.4266799 ,\n",
       "        0.42673581, 0.42680783, 0.42689978, 0.42701567, 0.42715911,\n",
       "        0.42733184, 0.42753088, 0.42774309, 0.42793515, 0.42803527,\n",
       "        0.42723226, 0.42600269, 0.42614965, 0.42778481, 0.42987053,\n",
       "        0.4324967 , 0.43574574, 0.43964102, 0.44410963, 0.44842121,\n",
       "        0.45332917, 0.45559547, 0.45499091, 0.4524153 , 0.44346968]),\n",
       " 'split4_test_score': array([0.55017762, 0.55015481, 0.55012458, 0.55008447, 0.55003116,\n",
       "        0.54996019, 0.5498654 , 0.54973843, 0.54956762, 0.5494643 ,\n",
       "        0.5493942 , 0.54912895, 0.54873994, 0.54820361, 0.54746961,\n",
       "        0.5464467 , 0.54498446, 0.54486862, 0.54481736, 0.54471696,\n",
       "        0.54452742, 0.54417836, 0.54354465, 0.54269443, 0.54121099,\n",
       "        0.53848328, 0.5334177 , 0.52721362, 0.51839436, 0.50481085]),\n",
       " 'mean_test_score': array([0.48231819, 0.48231859, 0.48231898, 0.48231929, 0.48231932,\n",
       "        0.4823187 , 0.48231675, 0.48231218, 0.48230267, 0.48236223,\n",
       "        0.48245888, 0.48247867, 0.48250645, 0.4825296 , 0.48245452,\n",
       "        0.48201034, 0.48130789, 0.48115831, 0.4814086 , 0.48175196,\n",
       "        0.48188457, 0.48209859, 0.4820597 , 0.4819337 , 0.48108101,\n",
       "        0.47915084, 0.47635391, 0.47235481, 0.46555482, 0.45663349]),\n",
       " 'std_test_score': array([0.04924557, 0.04923826, 0.04922864, 0.04921601, 0.04919946,\n",
       "        0.04917782, 0.04914961, 0.04911303, 0.04906587, 0.04898322,\n",
       "        0.04888308, 0.04877681, 0.04866801, 0.04856384, 0.04842965,\n",
       "        0.04844665, 0.04850286, 0.04876233, 0.04888242, 0.04875939,\n",
       "        0.04857793, 0.04818127, 0.04780704, 0.04767612, 0.04783856,\n",
       "        0.04826852, 0.04727593, 0.04700013, 0.04730046, 0.04365271]),\n",
       " 'rank_test_score': array([12, 11,  9,  8,  7, 10, 13, 14, 15,  6,  4,  3,  2,  1,  5, 18, 23,\n",
       "        24, 22, 21, 20, 16, 17, 19, 25, 26, 27, 28, 29, 30])}"
      ]
     },
     "execution_count": 448,
     "metadata": {},
     "output_type": "execute_result"
    }
   ],
   "source": [
    "data = load_diabetes()\n",
    "X = pd.DataFrame(data['data'], columns=data['feature_names'])\n",
    "y = pd.DataFrame(data['target'], columns=['target'])\n",
    "\n",
    "param_ = {'alpha':np.logspace(-4, -0.5, 30)}\n",
    "model = Lasso()\n",
    "models = GridSearchCV(model, param_)\n",
    "models.fit(X, y)\n",
    "models.cv_results_"
   ]
  }
 ],
 "metadata": {
  "kernelspec": {
   "display_name": "Python 3 (ipykernel)",
   "language": "python",
   "name": "python3"
  },
  "language_info": {
   "codemirror_mode": {
    "name": "ipython",
    "version": 3
   },
   "file_extension": ".py",
   "mimetype": "text/x-python",
   "name": "python",
   "nbconvert_exporter": "python",
   "pygments_lexer": "ipython3",
   "version": "3.9.1"
  }
 },
 "nbformat": 4,
 "nbformat_minor": 5
}
