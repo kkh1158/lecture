{
 "cells": [
  {
   "cell_type": "code",
   "execution_count": 6,
   "id": "34b6ccc5-2a57-4425-8d54-3385a8ca25cf",
   "metadata": {
    "tags": []
   },
   "outputs": [],
   "source": [
    "from sklearn.preprocessing import add_dummy_feature\n",
    "from sklearn.linear_model import ARDRegression\n",
    "from sklearn.tree import BaseDecisionTree"
   ]
  },
  {
   "cell_type": "code",
   "execution_count": 9,
   "id": "49820aad-aecf-4e93-9e79-49291aba52c1",
   "metadata": {
    "tags": []
   },
   "outputs": [],
   "source": [
    "from tensorflow.tools.docs import tf_doctest_lib"
   ]
  },
  {
   "cell_type": "code",
   "execution_count": 10,
   "id": "950aa4fe-1ac3-4d34-ad4d-d949931d34b3",
   "metadata": {
    "tags": []
   },
   "outputs": [],
   "source": [
    "from keras.preprocessing import image"
   ]
  },
  {
   "cell_type": "code",
   "execution_count": null,
   "id": "21e9d530-c690-40c3-905f-ce8bf97fba06",
   "metadata": {},
   "outputs": [],
   "source": []
  },
  {
   "cell_type": "code",
   "execution_count": null,
   "id": "4f676510-aa31-4379-850b-80e9531ece48",
   "metadata": {},
   "outputs": [],
   "source": []
  }
 ],
 "metadata": {
  "kernelspec": {
   "display_name": "Python 3 (ipykernel)",
   "language": "python",
   "name": "python3"
  },
  "language_info": {
   "codemirror_mode": {
    "name": "ipython",
    "version": 3
   },
   "file_extension": ".py",
   "mimetype": "text/x-python",
   "name": "python",
   "nbconvert_exporter": "python",
   "pygments_lexer": "ipython3",
   "version": "3.8.8"
  }
 },
 "nbformat": 4,
 "nbformat_minor": 5
}
