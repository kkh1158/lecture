{
 "cells": [
  {
   "cell_type": "markdown",
   "id": "54d07e06-8f49-460b-a177-d06818c237b9",
   "metadata": {
    "tags": []
   },
   "source": [
    "BIKE"
   ]
  },
  {
   "cell_type": "markdown",
   "id": "0423a851-0eae-44fd-b72a-9ea1ce54b721",
   "metadata": {},
   "source": [
    "https://www.kaggle.com/competitions/bike-sharing-demand/\n",
    "```\n",
    "datetime - hourly date + timestamp  \n",
    "season -  1 = spring, 2 = summer, 3 = fall, 4 = winter \n",
    "holiday - whether the day is considered a holiday\n",
    "workingday - whether the day is neither a weekend nor holiday\n",
    "weather - 1: Clear, Few clouds, Partly cloudy, Partly cloudy\n",
    "2: Mist + Cloudy, Mist + Broken clouds, Mist + Few clouds, Mist\n",
    "3: Light Snow, Light Rain + Thunderstorm + Scattered clouds, Light Rain + Scattered clouds\n",
    "4: Heavy Rain + Ice Pallets + Thunderstorm + Mist, Snow + Fog \n",
    "temp - temperature in Celsius\n",
    "atemp - \"feels like\" temperature in Celsius\n",
    "humidity - relative humidity\n",
    "windspeed - wind speed\n",
    "casual - number of non-registered user rentals initiated\n",
    "registered - number of registered user rentals initiated\n",
    "count - number of total rentals\n",
    "```"
   ]
  },
  {
   "cell_type": "code",
   "execution_count": 81,
   "id": "69018977-e84b-41b6-a40e-24b62bf4bab5",
   "metadata": {
    "tags": []
   },
   "outputs": [],
   "source": [
    "import warnings\n",
    "warnings.filterwarnings(action='ignore')\n",
    "import re\n",
    "from datetime import datetime, date, time, timedelta\n",
    "from dateutil.relativedelta import relativedelta\n",
    "\n",
    "import numpy as np\n",
    "import pandas as pd\n",
    "import matplotlib.pyplot as plt\n",
    "import seaborn as sns\n",
    "sns.set()\n",
    "plt.rcParams['font.family']= 'Malgun Gothic'\n",
    "plt.rcParams['axes.unicode_minus'] = False\n",
    "# plt.rcParams['figure.figsize'] = [6.4, 4.8]\n",
    "\n",
    "from sklearn.preprocessing import LabelEncoder, OneHotEncoder, StandardScaler, MinMaxScaler, RobustScaler\n",
    "from sklearn.model_selection import train_test_split\n",
    "from sklearn.linear_model import LinearRegression\n",
    "from sklearn.tree import DecisionTreeClassifier, DecisionTreeRegressor\n",
    "from sklearn.ensemble import AdaBoostRegressor, VotingRegressor\n",
    "from sklearn.metrics import accuracy_score, mean_squared_error\n",
    "from xgboost import XGBRegressor\n",
    "from lightgbm import LGBMRegressor"
   ]
  },
  {
   "cell_type": "markdown",
   "id": "ed678975-d223-4071-aa5e-b65afd28271f",
   "metadata": {},
   "source": [
    "<pre>\n",
    "workingday  holiday\n",
    "1           0          7412  [1]일하는날\n",
    "0           0          3163  [0]주말\n",
    "            1           311  [2]공휴일"
   ]
  },
  {
   "cell_type": "code",
   "execution_count": 80,
   "id": "011c5662-468f-469a-9086-1b562e06d973",
   "metadata": {
    "tags": []
   },
   "outputs": [
    {
     "data": {
      "text/html": [
       "<div>\n",
       "<style scoped>\n",
       "    .dataframe tbody tr th:only-of-type {\n",
       "        vertical-align: middle;\n",
       "    }\n",
       "\n",
       "    .dataframe tbody tr th {\n",
       "        vertical-align: top;\n",
       "    }\n",
       "\n",
       "    .dataframe thead th {\n",
       "        text-align: right;\n",
       "    }\n",
       "</style>\n",
       "<table border=\"1\" class=\"dataframe\">\n",
       "  <thead>\n",
       "    <tr style=\"text-align: right;\">\n",
       "      <th></th>\n",
       "      <th>season</th>\n",
       "      <th>holiday</th>\n",
       "      <th>workingday</th>\n",
       "      <th>weather</th>\n",
       "      <th>temp</th>\n",
       "      <th>atemp</th>\n",
       "      <th>humidity</th>\n",
       "      <th>windspeed</th>\n",
       "      <th>y</th>\n",
       "      <th>m</th>\n",
       "      <th>d</th>\n",
       "      <th>h</th>\n",
       "      <th>w</th>\n",
       "      <th>date_type</th>\n",
       "    </tr>\n",
       "    <tr>\n",
       "      <th>regdate</th>\n",
       "      <th></th>\n",
       "      <th></th>\n",
       "      <th></th>\n",
       "      <th></th>\n",
       "      <th></th>\n",
       "      <th></th>\n",
       "      <th></th>\n",
       "      <th></th>\n",
       "      <th></th>\n",
       "      <th></th>\n",
       "      <th></th>\n",
       "      <th></th>\n",
       "      <th></th>\n",
       "      <th></th>\n",
       "    </tr>\n",
       "  </thead>\n",
       "  <tbody>\n",
       "    <tr>\n",
       "      <th>2011-01-26 16:00:00</th>\n",
       "      <td>1</td>\n",
       "      <td>0</td>\n",
       "      <td>1</td>\n",
       "      <td>4</td>\n",
       "      <td>9.02</td>\n",
       "      <td>9.85</td>\n",
       "      <td>93</td>\n",
       "      <td>22.0028</td>\n",
       "      <td>2011</td>\n",
       "      <td>1</td>\n",
       "      <td>26</td>\n",
       "      <td>16</td>\n",
       "      <td>2</td>\n",
       "      <td>1</td>\n",
       "    </tr>\n",
       "    <tr>\n",
       "      <th>2012-01-21 01:00:00</th>\n",
       "      <td>1</td>\n",
       "      <td>0</td>\n",
       "      <td>0</td>\n",
       "      <td>4</td>\n",
       "      <td>5.74</td>\n",
       "      <td>6.82</td>\n",
       "      <td>86</td>\n",
       "      <td>12.9980</td>\n",
       "      <td>2012</td>\n",
       "      <td>1</td>\n",
       "      <td>21</td>\n",
       "      <td>1</td>\n",
       "      <td>5</td>\n",
       "      <td>0</td>\n",
       "    </tr>\n",
       "  </tbody>\n",
       "</table>\n",
       "</div>"
      ],
      "text/plain": [
       "                     season  holiday  workingday  weather  temp  atemp  \\\n",
       "regdate                                                                  \n",
       "2011-01-26 16:00:00       1        0           1        4  9.02   9.85   \n",
       "2012-01-21 01:00:00       1        0           0        4  5.74   6.82   \n",
       "\n",
       "                     humidity  windspeed     y  m   d   h  w  date_type  \n",
       "regdate                                                                  \n",
       "2011-01-26 16:00:00        93    22.0028  2011  1  26  16  2          1  \n",
       "2012-01-21 01:00:00        86    12.9980  2012  1  21   1  5          0  "
      ]
     },
     "execution_count": 80,
     "metadata": {},
     "output_type": "execute_result"
    }
   ],
   "source": [
    "test[test['weather'].values==4]"
   ]
  },
  {
   "cell_type": "code",
   "execution_count": 79,
   "id": "9dadb02c-b1fb-4fef-819a-b990f2f814c5",
   "metadata": {
    "tags": []
   },
   "outputs": [
    {
     "name": "stdout",
     "output_type": "stream",
     "text": [
      "<class 'pandas.core.frame.DataFrame'>\n",
      "DatetimeIndex: 10886 entries, 2011-01-01 00:00:00 to 2012-12-19 23:00:00\n",
      "Data columns (total 17 columns):\n",
      " #   Column      Non-Null Count  Dtype  \n",
      "---  ------      --------------  -----  \n",
      " 0   season      10886 non-null  int64  \n",
      " 1   holiday     10886 non-null  int64  \n",
      " 2   workingday  10886 non-null  int64  \n",
      " 3   weather     10886 non-null  int64  \n",
      " 4   temp        10886 non-null  float64\n",
      " 5   atemp       10886 non-null  float64\n",
      " 6   humidity    10886 non-null  int64  \n",
      " 7   windspeed   10886 non-null  float64\n",
      " 8   casual      10886 non-null  int64  \n",
      " 9   registered  10886 non-null  int64  \n",
      " 10  count       10886 non-null  int64  \n",
      " 11  y           10886 non-null  int64  \n",
      " 12  m           10886 non-null  int64  \n",
      " 13  d           10886 non-null  int64  \n",
      " 14  h           10886 non-null  int64  \n",
      " 15  w           10886 non-null  int64  \n",
      " 16  date_type   10886 non-null  int64  \n",
      "dtypes: float64(3), int64(14)\n",
      "memory usage: 1.5 MB\n",
      "<class 'pandas.core.frame.DataFrame'>\n",
      "DatetimeIndex: 6493 entries, 2011-01-20 00:00:00 to 2012-12-31 23:00:00\n",
      "Data columns (total 14 columns):\n",
      " #   Column      Non-Null Count  Dtype  \n",
      "---  ------      --------------  -----  \n",
      " 0   season      6493 non-null   int64  \n",
      " 1   holiday     6493 non-null   int64  \n",
      " 2   workingday  6493 non-null   int64  \n",
      " 3   weather     6493 non-null   int64  \n",
      " 4   temp        6493 non-null   float64\n",
      " 5   atemp       6493 non-null   float64\n",
      " 6   humidity    6493 non-null   int64  \n",
      " 7   windspeed   6493 non-null   float64\n",
      " 8   y           6493 non-null   int64  \n",
      " 9   m           6493 non-null   int64  \n",
      " 10  d           6493 non-null   int64  \n",
      " 11  h           6493 non-null   int64  \n",
      " 12  w           6493 non-null   int64  \n",
      " 13  date_type   6493 non-null   int64  \n",
      "dtypes: float64(3), int64(11)\n",
      "memory usage: 760.9 KB\n"
     ]
    }
   ],
   "source": [
    "train = pd.read_csv('./train.csv', parse_dates=['datetime'])\n",
    "test = pd.read_csv('./test.csv', parse_dates=['datetime'])\n",
    "\n",
    "df_list = [train, test]\n",
    "for df in df_list:\n",
    "    df.rename(columns={'datetime':'regdate'}, inplace=True)\n",
    "    df['y'] = df['regdate'].dt.year\n",
    "    df['m'] = df['regdate'].dt.month\n",
    "    df['d'] = df['regdate'].dt.day\n",
    "    df['h'] = df['regdate'].dt.hour\n",
    "    df['w'] = df['regdate'].dt.dayofweek\n",
    "    df.set_index('regdate', inplace=True)\n",
    "    \n",
    "    df['date_type'] = 0\n",
    "    df['date_type'] = np.where( (df['holiday']==0) & (df['workingday'] == 1), 1, df['date_type'] )\n",
    "    df['date_type'] = np.where( (df['holiday']==1) & (df['workingday'] == 0), 2, df['date_type'] )\n",
    "    \n",
    "    df.info()"
   ]
  },
  {
   "cell_type": "code",
   "execution_count": 3,
   "id": "d967bc85-c105-404a-95a7-e857827e42fd",
   "metadata": {
    "tags": []
   },
   "outputs": [
    {
     "data": {
      "text/html": [
       "<div>\n",
       "<style scoped>\n",
       "    .dataframe tbody tr th:only-of-type {\n",
       "        vertical-align: middle;\n",
       "    }\n",
       "\n",
       "    .dataframe tbody tr th {\n",
       "        vertical-align: top;\n",
       "    }\n",
       "\n",
       "    .dataframe thead th {\n",
       "        text-align: right;\n",
       "    }\n",
       "</style>\n",
       "<table border=\"1\" class=\"dataframe\">\n",
       "  <thead>\n",
       "    <tr style=\"text-align: right;\">\n",
       "      <th></th>\n",
       "      <th>season</th>\n",
       "      <th>holiday</th>\n",
       "      <th>workingday</th>\n",
       "      <th>weather</th>\n",
       "      <th>temp</th>\n",
       "      <th>atemp</th>\n",
       "      <th>humidity</th>\n",
       "      <th>windspeed</th>\n",
       "      <th>casual</th>\n",
       "      <th>registered</th>\n",
       "      <th>count</th>\n",
       "      <th>y</th>\n",
       "      <th>m</th>\n",
       "      <th>d</th>\n",
       "      <th>h</th>\n",
       "      <th>w</th>\n",
       "      <th>date_type</th>\n",
       "    </tr>\n",
       "    <tr>\n",
       "      <th>regdate</th>\n",
       "      <th></th>\n",
       "      <th></th>\n",
       "      <th></th>\n",
       "      <th></th>\n",
       "      <th></th>\n",
       "      <th></th>\n",
       "      <th></th>\n",
       "      <th></th>\n",
       "      <th></th>\n",
       "      <th></th>\n",
       "      <th></th>\n",
       "      <th></th>\n",
       "      <th></th>\n",
       "      <th></th>\n",
       "      <th></th>\n",
       "      <th></th>\n",
       "      <th></th>\n",
       "    </tr>\n",
       "  </thead>\n",
       "  <tbody>\n",
       "    <tr>\n",
       "      <th>2012-01-09 18:00:00</th>\n",
       "      <td>1</td>\n",
       "      <td>0</td>\n",
       "      <td>1</td>\n",
       "      <td>4</td>\n",
       "      <td>8.2</td>\n",
       "      <td>11.365</td>\n",
       "      <td>86</td>\n",
       "      <td>6.0032</td>\n",
       "      <td>6</td>\n",
       "      <td>158</td>\n",
       "      <td>164</td>\n",
       "      <td>2012</td>\n",
       "      <td>1</td>\n",
       "      <td>9</td>\n",
       "      <td>18</td>\n",
       "      <td>0</td>\n",
       "      <td>1</td>\n",
       "    </tr>\n",
       "  </tbody>\n",
       "</table>\n",
       "</div>"
      ],
      "text/plain": [
       "                     season  holiday  workingday  weather  temp   atemp  \\\n",
       "regdate                                                                   \n",
       "2012-01-09 18:00:00       1        0           1        4   8.2  11.365   \n",
       "\n",
       "                     humidity  windspeed  casual  registered  count     y  m  \\\n",
       "regdate                                                                        \n",
       "2012-01-09 18:00:00        86     6.0032       6         158    164  2012  1   \n",
       "\n",
       "                     d   h  w  date_type  \n",
       "regdate                                   \n",
       "2012-01-09 18:00:00  9  18  0          1  "
      ]
     },
     "execution_count": 3,
     "metadata": {},
     "output_type": "execute_result"
    }
   ],
   "source": [
    "train[train['weather']==4]"
   ]
  },
  {
   "cell_type": "code",
   "execution_count": 4,
   "id": "d8ba55d9-8ff6-4201-bf33-7201e3ee9714",
   "metadata": {
    "tags": []
   },
   "outputs": [
    {
     "data": {
      "text/html": [
       "<div>\n",
       "<style scoped>\n",
       "    .dataframe tbody tr th:only-of-type {\n",
       "        vertical-align: middle;\n",
       "    }\n",
       "\n",
       "    .dataframe tbody tr th {\n",
       "        vertical-align: top;\n",
       "    }\n",
       "\n",
       "    .dataframe thead th {\n",
       "        text-align: right;\n",
       "    }\n",
       "</style>\n",
       "<table border=\"1\" class=\"dataframe\">\n",
       "  <thead>\n",
       "    <tr style=\"text-align: right;\">\n",
       "      <th></th>\n",
       "      <th>season</th>\n",
       "      <th>holiday</th>\n",
       "      <th>workingday</th>\n",
       "      <th>weather</th>\n",
       "      <th>temp</th>\n",
       "      <th>atemp</th>\n",
       "      <th>humidity</th>\n",
       "      <th>windspeed</th>\n",
       "      <th>y</th>\n",
       "      <th>m</th>\n",
       "      <th>d</th>\n",
       "      <th>h</th>\n",
       "      <th>w</th>\n",
       "      <th>date_type</th>\n",
       "    </tr>\n",
       "    <tr>\n",
       "      <th>regdate</th>\n",
       "      <th></th>\n",
       "      <th></th>\n",
       "      <th></th>\n",
       "      <th></th>\n",
       "      <th></th>\n",
       "      <th></th>\n",
       "      <th></th>\n",
       "      <th></th>\n",
       "      <th></th>\n",
       "      <th></th>\n",
       "      <th></th>\n",
       "      <th></th>\n",
       "      <th></th>\n",
       "      <th></th>\n",
       "    </tr>\n",
       "  </thead>\n",
       "  <tbody>\n",
       "    <tr>\n",
       "      <th>2011-01-26 16:00:00</th>\n",
       "      <td>1</td>\n",
       "      <td>0</td>\n",
       "      <td>1</td>\n",
       "      <td>4</td>\n",
       "      <td>9.02</td>\n",
       "      <td>9.85</td>\n",
       "      <td>93</td>\n",
       "      <td>22.0028</td>\n",
       "      <td>2011</td>\n",
       "      <td>1</td>\n",
       "      <td>26</td>\n",
       "      <td>16</td>\n",
       "      <td>2</td>\n",
       "      <td>1</td>\n",
       "    </tr>\n",
       "    <tr>\n",
       "      <th>2012-01-21 01:00:00</th>\n",
       "      <td>1</td>\n",
       "      <td>0</td>\n",
       "      <td>0</td>\n",
       "      <td>4</td>\n",
       "      <td>5.74</td>\n",
       "      <td>6.82</td>\n",
       "      <td>86</td>\n",
       "      <td>12.9980</td>\n",
       "      <td>2012</td>\n",
       "      <td>1</td>\n",
       "      <td>21</td>\n",
       "      <td>1</td>\n",
       "      <td>5</td>\n",
       "      <td>0</td>\n",
       "    </tr>\n",
       "  </tbody>\n",
       "</table>\n",
       "</div>"
      ],
      "text/plain": [
       "                     season  holiday  workingday  weather  temp  atemp  \\\n",
       "regdate                                                                  \n",
       "2011-01-26 16:00:00       1        0           1        4  9.02   9.85   \n",
       "2012-01-21 01:00:00       1        0           0        4  5.74   6.82   \n",
       "\n",
       "                     humidity  windspeed     y  m   d   h  w  date_type  \n",
       "regdate                                                                  \n",
       "2011-01-26 16:00:00        93    22.0028  2011  1  26  16  2          1  \n",
       "2012-01-21 01:00:00        86    12.9980  2012  1  21   1  5          0  "
      ]
     },
     "execution_count": 4,
     "metadata": {},
     "output_type": "execute_result"
    }
   ],
   "source": [
    "test[test['weather']==4]"
   ]
  },
  {
   "cell_type": "markdown",
   "id": "1774aa0a-f204-444c-a427-677e593a480a",
   "metadata": {},
   "source": [
    "## 이상치 제거"
   ]
  },
  {
   "cell_type": "code",
   "execution_count": 5,
   "id": "ef7c63e9-f8f4-4ab9-9fec-a978176f5105",
   "metadata": {
    "tags": []
   },
   "outputs": [
    {
     "data": {
      "text/plain": [
       "[Timestamp('2011-02-15 01:00:00'),\n",
       " Timestamp('2011-02-19 15:00:00'),\n",
       " Timestamp('2011-07-03 17:00:00'),\n",
       " Timestamp('2011-07-03 18:00:00')]"
      ]
     },
     "execution_count": 5,
     "metadata": {},
     "output_type": "execute_result"
    }
   ],
   "source": [
    "del_idx_list = []\n",
    "idx = train[train['windspeed']>=50].index\n",
    "del_idx_list.extend(idx)\n",
    "del_idx_list"
   ]
  },
  {
   "cell_type": "code",
   "execution_count": 6,
   "id": "8679a997-30fb-4d33-83e5-5d8e67c82cde",
   "metadata": {
    "tags": []
   },
   "outputs": [
    {
     "data": {
      "text/plain": [
       "[Timestamp('2011-02-15 01:00:00'),\n",
       " Timestamp('2011-02-19 15:00:00'),\n",
       " Timestamp('2011-07-03 17:00:00'),\n",
       " Timestamp('2011-07-03 18:00:00'),\n",
       " Timestamp('2012-01-09 18:00:00')]"
      ]
     },
     "execution_count": 6,
     "metadata": {},
     "output_type": "execute_result"
    }
   ],
   "source": [
    "idx = train[train['weather']==4].index\n",
    "del_idx_list.extend(idx)\n",
    "del_idx_list"
   ]
  },
  {
   "cell_type": "code",
   "execution_count": 7,
   "id": "c2019751-084e-466c-be82-e79303e0d6c6",
   "metadata": {
    "tags": []
   },
   "outputs": [
    {
     "data": {
      "text/plain": [
       "[Timestamp('2011-02-15 01:00:00'),\n",
       " Timestamp('2011-02-19 15:00:00'),\n",
       " Timestamp('2011-07-03 17:00:00'),\n",
       " Timestamp('2011-07-03 18:00:00'),\n",
       " Timestamp('2012-01-09 18:00:00'),\n",
       " Timestamp('2012-07-07 16:00:00')]"
      ]
     },
     "execution_count": 7,
     "metadata": {},
     "output_type": "execute_result"
    }
   ],
   "source": [
    "idx = train[train['temp']>=40].index\n",
    "del_idx_list.extend(idx)\n",
    "del_idx_list"
   ]
  },
  {
   "cell_type": "code",
   "execution_count": 8,
   "id": "cdd745f8-1267-44d5-8af2-b8242f21a2db",
   "metadata": {},
   "outputs": [
    {
     "name": "stdout",
     "output_type": "stream",
     "text": [
      "(10886, 17)\n",
      "(10880, 17)\n"
     ]
    }
   ],
   "source": [
    "print(train.shape)\n",
    "train = train.drop(del_idx_list, axis=0)\n",
    "print(train.shape)"
   ]
  },
  {
   "cell_type": "code",
   "execution_count": 9,
   "id": "37d223e5-3b7c-4833-8fdb-e962f71fecae",
   "metadata": {
    "tags": []
   },
   "outputs": [],
   "source": [
    "from sklearn.model_selection import train_test_split\n",
    "from sklearn.ensemble import RandomForestRegressor\n",
    "from sklearn.metrics import mean_squared_error"
   ]
  },
  {
   "cell_type": "code",
   "execution_count": 10,
   "id": "463b26c0-f34d-4c0b-a724-2a6291efda79",
   "metadata": {
    "tags": []
   },
   "outputs": [
    {
     "data": {
      "text/plain": [
       "((1313, 17), (9567, 17))"
      ]
     },
     "execution_count": 10,
     "metadata": {},
     "output_type": "execute_result"
    }
   ],
   "source": [
    "ws0 = train[train['windspeed']==0]\n",
    "ws1 = train[train['windspeed']!=0]\n",
    "ws0.shape, ws1.shape"
   ]
  },
  {
   "cell_type": "code",
   "execution_count": 11,
   "id": "dd9bada7-44b2-4dd8-a4ba-9f3cf6029857",
   "metadata": {
    "tags": []
   },
   "outputs": [
    {
     "data": {
      "text/html": [
       "<div>\n",
       "<style scoped>\n",
       "    .dataframe tbody tr th:only-of-type {\n",
       "        vertical-align: middle;\n",
       "    }\n",
       "\n",
       "    .dataframe tbody tr th {\n",
       "        vertical-align: top;\n",
       "    }\n",
       "\n",
       "    .dataframe thead th {\n",
       "        text-align: right;\n",
       "    }\n",
       "</style>\n",
       "<table border=\"1\" class=\"dataframe\">\n",
       "  <thead>\n",
       "    <tr style=\"text-align: right;\">\n",
       "      <th></th>\n",
       "      <th>season</th>\n",
       "      <th>holiday</th>\n",
       "      <th>workingday</th>\n",
       "      <th>weather</th>\n",
       "      <th>temp</th>\n",
       "      <th>atemp</th>\n",
       "      <th>humidity</th>\n",
       "      <th>y</th>\n",
       "      <th>m</th>\n",
       "      <th>d</th>\n",
       "      <th>h</th>\n",
       "      <th>w</th>\n",
       "      <th>date_type</th>\n",
       "    </tr>\n",
       "    <tr>\n",
       "      <th>regdate</th>\n",
       "      <th></th>\n",
       "      <th></th>\n",
       "      <th></th>\n",
       "      <th></th>\n",
       "      <th></th>\n",
       "      <th></th>\n",
       "      <th></th>\n",
       "      <th></th>\n",
       "      <th></th>\n",
       "      <th></th>\n",
       "      <th></th>\n",
       "      <th></th>\n",
       "      <th></th>\n",
       "    </tr>\n",
       "  </thead>\n",
       "  <tbody>\n",
       "    <tr>\n",
       "      <th>2011-01-01 00:00:00</th>\n",
       "      <td>1</td>\n",
       "      <td>0</td>\n",
       "      <td>0</td>\n",
       "      <td>1</td>\n",
       "      <td>9.84</td>\n",
       "      <td>14.395</td>\n",
       "      <td>81</td>\n",
       "      <td>2011</td>\n",
       "      <td>1</td>\n",
       "      <td>1</td>\n",
       "      <td>0</td>\n",
       "      <td>5</td>\n",
       "      <td>0</td>\n",
       "    </tr>\n",
       "    <tr>\n",
       "      <th>2011-01-01 01:00:00</th>\n",
       "      <td>1</td>\n",
       "      <td>0</td>\n",
       "      <td>0</td>\n",
       "      <td>1</td>\n",
       "      <td>9.02</td>\n",
       "      <td>13.635</td>\n",
       "      <td>80</td>\n",
       "      <td>2011</td>\n",
       "      <td>1</td>\n",
       "      <td>1</td>\n",
       "      <td>1</td>\n",
       "      <td>5</td>\n",
       "      <td>0</td>\n",
       "    </tr>\n",
       "    <tr>\n",
       "      <th>2011-01-01 02:00:00</th>\n",
       "      <td>1</td>\n",
       "      <td>0</td>\n",
       "      <td>0</td>\n",
       "      <td>1</td>\n",
       "      <td>9.02</td>\n",
       "      <td>13.635</td>\n",
       "      <td>80</td>\n",
       "      <td>2011</td>\n",
       "      <td>1</td>\n",
       "      <td>1</td>\n",
       "      <td>2</td>\n",
       "      <td>5</td>\n",
       "      <td>0</td>\n",
       "    </tr>\n",
       "    <tr>\n",
       "      <th>2011-01-01 03:00:00</th>\n",
       "      <td>1</td>\n",
       "      <td>0</td>\n",
       "      <td>0</td>\n",
       "      <td>1</td>\n",
       "      <td>9.84</td>\n",
       "      <td>14.395</td>\n",
       "      <td>75</td>\n",
       "      <td>2011</td>\n",
       "      <td>1</td>\n",
       "      <td>1</td>\n",
       "      <td>3</td>\n",
       "      <td>5</td>\n",
       "      <td>0</td>\n",
       "    </tr>\n",
       "    <tr>\n",
       "      <th>2011-01-01 04:00:00</th>\n",
       "      <td>1</td>\n",
       "      <td>0</td>\n",
       "      <td>0</td>\n",
       "      <td>1</td>\n",
       "      <td>9.84</td>\n",
       "      <td>14.395</td>\n",
       "      <td>75</td>\n",
       "      <td>2011</td>\n",
       "      <td>1</td>\n",
       "      <td>1</td>\n",
       "      <td>4</td>\n",
       "      <td>5</td>\n",
       "      <td>0</td>\n",
       "    </tr>\n",
       "    <tr>\n",
       "      <th>...</th>\n",
       "      <td>...</td>\n",
       "      <td>...</td>\n",
       "      <td>...</td>\n",
       "      <td>...</td>\n",
       "      <td>...</td>\n",
       "      <td>...</td>\n",
       "      <td>...</td>\n",
       "      <td>...</td>\n",
       "      <td>...</td>\n",
       "      <td>...</td>\n",
       "      <td>...</td>\n",
       "      <td>...</td>\n",
       "      <td>...</td>\n",
       "    </tr>\n",
       "    <tr>\n",
       "      <th>2012-12-29 12:00:00</th>\n",
       "      <td>1</td>\n",
       "      <td>0</td>\n",
       "      <td>0</td>\n",
       "      <td>3</td>\n",
       "      <td>8.20</td>\n",
       "      <td>12.120</td>\n",
       "      <td>100</td>\n",
       "      <td>2012</td>\n",
       "      <td>12</td>\n",
       "      <td>29</td>\n",
       "      <td>12</td>\n",
       "      <td>5</td>\n",
       "      <td>0</td>\n",
       "    </tr>\n",
       "    <tr>\n",
       "      <th>2012-12-29 13:00:00</th>\n",
       "      <td>1</td>\n",
       "      <td>0</td>\n",
       "      <td>0</td>\n",
       "      <td>3</td>\n",
       "      <td>8.20</td>\n",
       "      <td>12.120</td>\n",
       "      <td>100</td>\n",
       "      <td>2012</td>\n",
       "      <td>12</td>\n",
       "      <td>29</td>\n",
       "      <td>13</td>\n",
       "      <td>5</td>\n",
       "      <td>0</td>\n",
       "    </tr>\n",
       "    <tr>\n",
       "      <th>2012-12-29 15:00:00</th>\n",
       "      <td>1</td>\n",
       "      <td>0</td>\n",
       "      <td>0</td>\n",
       "      <td>2</td>\n",
       "      <td>9.84</td>\n",
       "      <td>12.120</td>\n",
       "      <td>87</td>\n",
       "      <td>2012</td>\n",
       "      <td>12</td>\n",
       "      <td>29</td>\n",
       "      <td>15</td>\n",
       "      <td>5</td>\n",
       "      <td>0</td>\n",
       "    </tr>\n",
       "    <tr>\n",
       "      <th>2012-12-29 23:00:00</th>\n",
       "      <td>1</td>\n",
       "      <td>0</td>\n",
       "      <td>0</td>\n",
       "      <td>2</td>\n",
       "      <td>10.66</td>\n",
       "      <td>12.120</td>\n",
       "      <td>60</td>\n",
       "      <td>2012</td>\n",
       "      <td>12</td>\n",
       "      <td>29</td>\n",
       "      <td>23</td>\n",
       "      <td>5</td>\n",
       "      <td>0</td>\n",
       "    </tr>\n",
       "    <tr>\n",
       "      <th>2012-12-30 19:00:00</th>\n",
       "      <td>1</td>\n",
       "      <td>0</td>\n",
       "      <td>0</td>\n",
       "      <td>1</td>\n",
       "      <td>13.94</td>\n",
       "      <td>18.180</td>\n",
       "      <td>61</td>\n",
       "      <td>2012</td>\n",
       "      <td>12</td>\n",
       "      <td>30</td>\n",
       "      <td>19</td>\n",
       "      <td>6</td>\n",
       "      <td>0</td>\n",
       "    </tr>\n",
       "  </tbody>\n",
       "</table>\n",
       "<p>2180 rows × 13 columns</p>\n",
       "</div>"
      ],
      "text/plain": [
       "                     season  holiday  workingday  weather   temp   atemp  \\\n",
       "regdate                                                                    \n",
       "2011-01-01 00:00:00       1        0           0        1   9.84  14.395   \n",
       "2011-01-01 01:00:00       1        0           0        1   9.02  13.635   \n",
       "2011-01-01 02:00:00       1        0           0        1   9.02  13.635   \n",
       "2011-01-01 03:00:00       1        0           0        1   9.84  14.395   \n",
       "2011-01-01 04:00:00       1        0           0        1   9.84  14.395   \n",
       "...                     ...      ...         ...      ...    ...     ...   \n",
       "2012-12-29 12:00:00       1        0           0        3   8.20  12.120   \n",
       "2012-12-29 13:00:00       1        0           0        3   8.20  12.120   \n",
       "2012-12-29 15:00:00       1        0           0        2   9.84  12.120   \n",
       "2012-12-29 23:00:00       1        0           0        2  10.66  12.120   \n",
       "2012-12-30 19:00:00       1        0           0        1  13.94  18.180   \n",
       "\n",
       "                     humidity     y   m   d   h  w  date_type  \n",
       "regdate                                                        \n",
       "2011-01-01 00:00:00        81  2011   1   1   0  5          0  \n",
       "2011-01-01 01:00:00        80  2011   1   1   1  5          0  \n",
       "2011-01-01 02:00:00        80  2011   1   1   2  5          0  \n",
       "2011-01-01 03:00:00        75  2011   1   1   3  5          0  \n",
       "2011-01-01 04:00:00        75  2011   1   1   4  5          0  \n",
       "...                       ...   ...  ..  ..  .. ..        ...  \n",
       "2012-12-29 12:00:00       100  2012  12  29  12  5          0  \n",
       "2012-12-29 13:00:00       100  2012  12  29  13  5          0  \n",
       "2012-12-29 15:00:00        87  2012  12  29  15  5          0  \n",
       "2012-12-29 23:00:00        60  2012  12  29  23  5          0  \n",
       "2012-12-30 19:00:00        61  2012  12  30  19  6          0  \n",
       "\n",
       "[2180 rows x 13 columns]"
      ]
     },
     "execution_count": 11,
     "metadata": {},
     "output_type": "execute_result"
    }
   ],
   "source": [
    "train_test_w0 = pd.concat([train[train['windspeed']==0], test[test['windspeed']==0]], axis=0)\n",
    "train_test_w0.drop(['windspeed', 'casual', 'registered', 'count'], axis=1)"
   ]
  },
  {
   "cell_type": "code",
   "execution_count": 78,
   "id": "841516c2-5472-4f63-90f2-275800716763",
   "metadata": {
    "tags": []
   },
   "outputs": [
    {
     "data": {
      "text/html": [
       "<div>\n",
       "<style scoped>\n",
       "    .dataframe tbody tr th:only-of-type {\n",
       "        vertical-align: middle;\n",
       "    }\n",
       "\n",
       "    .dataframe tbody tr th {\n",
       "        vertical-align: top;\n",
       "    }\n",
       "\n",
       "    .dataframe thead th {\n",
       "        text-align: right;\n",
       "    }\n",
       "</style>\n",
       "<table border=\"1\" class=\"dataframe\">\n",
       "  <thead>\n",
       "    <tr style=\"text-align: right;\">\n",
       "      <th></th>\n",
       "      <th>season</th>\n",
       "      <th>holiday</th>\n",
       "      <th>workingday</th>\n",
       "      <th>weather</th>\n",
       "      <th>temp</th>\n",
       "      <th>atemp</th>\n",
       "      <th>humidity</th>\n",
       "      <th>windspeed</th>\n",
       "      <th>y</th>\n",
       "      <th>m</th>\n",
       "      <th>d</th>\n",
       "      <th>h</th>\n",
       "      <th>w</th>\n",
       "      <th>date_type</th>\n",
       "    </tr>\n",
       "    <tr>\n",
       "      <th>regdate</th>\n",
       "      <th></th>\n",
       "      <th></th>\n",
       "      <th></th>\n",
       "      <th></th>\n",
       "      <th></th>\n",
       "      <th></th>\n",
       "      <th></th>\n",
       "      <th></th>\n",
       "      <th></th>\n",
       "      <th></th>\n",
       "      <th></th>\n",
       "      <th></th>\n",
       "      <th></th>\n",
       "      <th></th>\n",
       "    </tr>\n",
       "  </thead>\n",
       "  <tbody>\n",
       "    <tr>\n",
       "      <th>2011-01-26 16:00:00</th>\n",
       "      <td>1</td>\n",
       "      <td>0</td>\n",
       "      <td>1</td>\n",
       "      <td>4</td>\n",
       "      <td>9.02</td>\n",
       "      <td>9.85</td>\n",
       "      <td>93</td>\n",
       "      <td>22.0028</td>\n",
       "      <td>2011</td>\n",
       "      <td>1</td>\n",
       "      <td>26</td>\n",
       "      <td>16</td>\n",
       "      <td>2</td>\n",
       "      <td>1</td>\n",
       "    </tr>\n",
       "    <tr>\n",
       "      <th>2012-01-21 01:00:00</th>\n",
       "      <td>1</td>\n",
       "      <td>0</td>\n",
       "      <td>0</td>\n",
       "      <td>4</td>\n",
       "      <td>5.74</td>\n",
       "      <td>6.82</td>\n",
       "      <td>86</td>\n",
       "      <td>12.9980</td>\n",
       "      <td>2012</td>\n",
       "      <td>1</td>\n",
       "      <td>21</td>\n",
       "      <td>1</td>\n",
       "      <td>5</td>\n",
       "      <td>0</td>\n",
       "    </tr>\n",
       "  </tbody>\n",
       "</table>\n",
       "</div>"
      ],
      "text/plain": [
       "                     season  holiday  workingday  weather  temp  atemp  \\\n",
       "regdate                                                                  \n",
       "2011-01-26 16:00:00       1        0           1        4  9.02   9.85   \n",
       "2012-01-21 01:00:00       1        0           0        4  5.74   6.82   \n",
       "\n",
       "                     humidity  windspeed     y  m   d   h  w  date_type  \n",
       "regdate                                                                  \n",
       "2011-01-26 16:00:00        93    22.0028  2011  1  26  16  2          1  \n",
       "2012-01-21 01:00:00        86    12.9980  2012  1  21   1  5          0  "
      ]
     },
     "execution_count": 78,
     "metadata": {},
     "output_type": "execute_result"
    }
   ],
   "source": [
    "test[test['weather'].values==4]"
   ]
  },
  {
   "cell_type": "code",
   "execution_count": 21,
   "id": "cda83f6b-a08c-47ed-b1e1-131b2b17914d",
   "metadata": {
    "tags": []
   },
   "outputs": [],
   "source": [
    "train_test_w1 = pd.concat([train[train['windspeed']!=0], test[test['windspeed']!=0]], axis=0)\n",
    "train_test_w0 = pd.concat([train[train['windspeed']==0], test[test['windspeed']==0]], axis=0)\n",
    "\n",
    "X_train = train_test_w1.drop(['windspeed', 'casual', 'registered', 'count'], axis=1)\n",
    "y_train = train_test_w1['windspeed']\n",
    "X_test = train_test_w0.drop(['windspeed', 'casual', 'registered', 'count'], axis=1)\n",
    "y_test_idx = train_test_w0['windspeed'].index\n",
    "\n",
    "model = RandomForestRegressor(random_state=0)\n",
    "model.fit(X_train, y_train)\n",
    "y_pred = model.predict(X_test)\n",
    "# train_test_w0['windspeed'] = y_pred\n"
   ]
  },
  {
   "cell_type": "code",
   "execution_count": 68,
   "id": "9bcc0db4-7649-4fb7-a1b2-586603556adf",
   "metadata": {
    "tags": []
   },
   "outputs": [
    {
     "name": "stdout",
     "output_type": "stream",
     "text": [
      "<class 'pandas.core.frame.DataFrame'>\n",
      "DatetimeIndex: 6493 entries, 2011-01-20 00:00:00 to 2012-12-31 23:00:00\n",
      "Data columns (total 14 columns):\n",
      " #   Column      Non-Null Count  Dtype  \n",
      "---  ------      --------------  -----  \n",
      " 0   season      6493 non-null   int64  \n",
      " 1   holiday     6493 non-null   int64  \n",
      " 2   workingday  6493 non-null   int64  \n",
      " 3   weather     6493 non-null   int64  \n",
      " 4   temp        6493 non-null   float64\n",
      " 5   atemp       6493 non-null   float64\n",
      " 6   humidity    6493 non-null   int64  \n",
      " 7   windspeed   6493 non-null   float64\n",
      " 8   y           6493 non-null   int64  \n",
      " 9   m           6493 non-null   int64  \n",
      " 10  d           6493 non-null   int64  \n",
      " 11  h           6493 non-null   int64  \n",
      " 12  w           6493 non-null   int64  \n",
      " 13  date_type   6493 non-null   int64  \n",
      "dtypes: float64(3), int64(11)\n",
      "memory usage: 1018.9 KB\n"
     ]
    }
   ],
   "source": [
    "test.info()"
   ]
  },
  {
   "cell_type": "code",
   "execution_count": 22,
   "id": "4d0ac9ee-f175-4cfe-8423-ca015b9a831d",
   "metadata": {
    "tags": []
   },
   "outputs": [
    {
     "data": {
      "text/plain": [
       "DatetimeIndex(['2011-01-01 00:00:00', '2011-01-01 01:00:00',\n",
       "               '2011-01-01 02:00:00', '2011-01-01 03:00:00',\n",
       "               '2011-01-01 04:00:00', '2011-01-01 06:00:00',\n",
       "               '2011-01-01 07:00:00', '2011-01-01 08:00:00',\n",
       "               '2011-01-01 09:00:00', '2011-01-03 19:00:00',\n",
       "               ...\n",
       "               '2012-12-29 00:00:00', '2012-12-29 02:00:00',\n",
       "               '2012-12-29 03:00:00', '2012-12-29 08:00:00',\n",
       "               '2012-12-29 09:00:00', '2012-12-29 12:00:00',\n",
       "               '2012-12-29 13:00:00', '2012-12-29 15:00:00',\n",
       "               '2012-12-29 23:00:00', '2012-12-30 19:00:00'],\n",
       "              dtype='datetime64[ns]', name='regdate', length=2180, freq=None)"
      ]
     },
     "execution_count": 22,
     "metadata": {},
     "output_type": "execute_result"
    }
   ],
   "source": [
    "y_test_idx"
   ]
  },
  {
   "cell_type": "code",
   "execution_count": 27,
   "id": "cb5a1664-dd79-469d-8794-1f6c32786304",
   "metadata": {
    "tags": []
   },
   "outputs": [
    {
     "data": {
      "text/plain": [
       "DatetimeIndex(['2011-01-01 00:00:00', '2011-01-01 01:00:00',\n",
       "               '2011-01-01 02:00:00', '2011-01-01 03:00:00',\n",
       "               '2011-01-01 04:00:00', '2011-01-01 05:00:00',\n",
       "               '2011-01-01 06:00:00', '2011-01-01 07:00:00',\n",
       "               '2011-01-01 08:00:00', '2011-01-01 09:00:00',\n",
       "               ...\n",
       "               '2012-12-19 14:00:00', '2012-12-19 15:00:00',\n",
       "               '2012-12-19 16:00:00', '2012-12-19 17:00:00',\n",
       "               '2012-12-19 18:00:00', '2012-12-19 19:00:00',\n",
       "               '2012-12-19 20:00:00', '2012-12-19 21:00:00',\n",
       "               '2012-12-19 22:00:00', '2012-12-19 23:00:00'],\n",
       "              dtype='datetime64[ns]', name='regdate', length=10880, freq=None)"
      ]
     },
     "execution_count": 27,
     "metadata": {},
     "output_type": "execute_result"
    }
   ],
   "source": [
    "train.index"
   ]
  },
  {
   "cell_type": "code",
   "execution_count": 24,
   "id": "5a06ac88-310d-4ff2-ab90-d7a23beff017",
   "metadata": {
    "tags": []
   },
   "outputs": [
    {
     "ename": "KeyError",
     "evalue": "\"[Timestamp('2011-01-20 01:00:00'), Timestamp('2011-01-20 02:00:00'), Timestamp('2011-01-20 12:00:00'), Timestamp('2011-01-22 13:00:00'), Timestamp('2011-01-22 15:00:00'), Timestamp('2011-01-22 17:00:00'), Timestamp('2011-01-22 22:00:00'), Timestamp('2011-01-24 07:00:00'), Timestamp('2011-01-24 08:00:00'), Timestamp('2011-01-24 09:00:00'), Timestamp('2011-01-24 10:00:00'), Timestamp('2011-01-25 14:00:00'), Timestamp('2011-01-25 15:00:00'), Timestamp('2011-01-25 16:00:00'), Timestamp('2011-01-25 17:00:00'), Timestamp('2011-01-28 14:00:00'), Timestamp('2011-01-28 15:00:00'), Timestamp('2011-01-28 16:00:00'), Timestamp('2011-01-29 17:00:00'), Timestamp('2011-01-30 01:00:00'), Timestamp('2011-01-30 02:00:00'), Timestamp('2011-01-30 03:00:00'), Timestamp('2011-01-30 04:00:00'), Timestamp('2011-01-30 05:00:00'), Timestamp('2011-01-30 07:00:00'), Timestamp('2011-01-30 08:00:00'), Timestamp('2011-01-30 09:00:00'), Timestamp('2011-01-30 10:00:00'), Timestamp('2011-01-30 11:00:00'), Timestamp('2011-01-30 15:00:00'), Timestamp('2011-01-30 16:00:00'), Timestamp('2011-01-31 13:00:00'), Timestamp('2011-02-20 13:00:00'), Timestamp('2011-02-20 20:00:00'), Timestamp('2011-02-20 21:00:00'), Timestamp('2011-02-21 05:00:00'), Timestamp('2011-02-22 10:00:00'), Timestamp('2011-02-22 11:00:00'), Timestamp('2011-02-23 10:00:00'), Timestamp('2011-02-23 16:00:00'), Timestamp('2011-02-23 19:00:00'), Timestamp('2011-02-23 21:00:00'), Timestamp('2011-02-23 22:00:00'), Timestamp('2011-02-25 00:00:00'), Timestamp('2011-02-25 01:00:00'), Timestamp('2011-02-25 02:00:00'), Timestamp('2011-02-26 06:00:00'), Timestamp('2011-02-26 08:00:00'), Timestamp('2011-02-26 11:00:00'), Timestamp('2011-02-27 06:00:00'), Timestamp('2011-02-27 08:00:00'), Timestamp('2011-02-27 13:00:00'), Timestamp('2011-02-28 05:00:00'), Timestamp('2011-03-20 10:00:00'), Timestamp('2011-03-20 13:00:00'), Timestamp('2011-03-20 14:00:00'), Timestamp('2011-03-20 16:00:00'), Timestamp('2011-03-23 23:00:00'), Timestamp('2011-03-25 10:00:00'), Timestamp('2011-03-27 16:00:00'), Timestamp('2011-03-28 12:00:00'), Timestamp('2011-03-29 21:00:00'), Timestamp('2011-03-29 22:00:00'), Timestamp('2011-03-30 00:00:00'), Timestamp('2011-03-30 01:00:00'), Timestamp('2011-03-30 02:00:00'), Timestamp('2011-03-30 03:00:00'), Timestamp('2011-03-30 04:00:00'), Timestamp('2011-04-20 03:00:00'), Timestamp('2011-04-20 07:00:00'), Timestamp('2011-04-23 04:00:00'), Timestamp('2011-04-23 05:00:00'), Timestamp('2011-04-24 06:00:00'), Timestamp('2011-04-24 07:00:00'), Timestamp('2011-04-25 00:00:00'), Timestamp('2011-04-25 04:00:00'), Timestamp('2011-04-25 05:00:00'), Timestamp('2011-04-25 06:00:00'), Timestamp('2011-05-20 01:00:00'), Timestamp('2011-05-20 03:00:00'), Timestamp('2011-05-20 08:00:00'), Timestamp('2011-05-20 17:00:00'), Timestamp('2011-05-20 22:00:00'), Timestamp('2011-05-21 01:00:00'), Timestamp('2011-05-21 12:00:00'), Timestamp('2011-05-21 13:00:00'), Timestamp('2011-05-21 14:00:00'), Timestamp('2011-05-21 20:00:00'), Timestamp('2011-05-22 04:00:00'), Timestamp('2011-05-23 04:00:00'), Timestamp('2011-05-23 05:00:00'), Timestamp('2011-05-23 06:00:00'), Timestamp('2011-05-25 02:00:00'), Timestamp('2011-05-26 04:00:00'), Timestamp('2011-05-30 07:00:00'), Timestamp('2011-05-30 11:00:00'), Timestamp('2011-05-30 14:00:00'), Timestamp('2011-05-30 20:00:00'), Timestamp('2011-05-31 03:00:00'), Timestamp('2011-05-31 11:00:00'), Timestamp('2011-05-31 14:00:00'), Timestamp('2011-06-20 03:00:00'), Timestamp('2011-06-20 17:00:00'), Timestamp('2011-06-21 07:00:00'), Timestamp('2011-06-22 02:00:00'), Timestamp('2011-06-22 04:00:00'), Timestamp('2011-06-22 05:00:00'), Timestamp('2011-06-22 06:00:00'), Timestamp('2011-06-22 07:00:00'), Timestamp('2011-06-24 22:00:00'), Timestamp('2011-06-25 11:00:00'), Timestamp('2011-06-25 15:00:00'), Timestamp('2011-06-26 00:00:00'), Timestamp('2011-06-26 05:00:00'), Timestamp('2011-06-26 06:00:00'), Timestamp('2011-06-26 07:00:00'), Timestamp('2011-06-26 13:00:00'), Timestamp('2011-06-26 15:00:00'), Timestamp('2011-06-26 22:00:00'), Timestamp('2011-06-27 09:00:00'), Timestamp('2011-06-27 11:00:00'), Timestamp('2011-06-27 12:00:00'), Timestamp('2011-06-27 15:00:00'), Timestamp('2011-06-27 18:00:00'), Timestamp('2011-06-27 21:00:00'), Timestamp('2011-06-27 22:00:00'), Timestamp('2011-06-27 23:00:00'), Timestamp('2011-06-28 01:00:00'), Timestamp('2011-06-28 02:00:00'), Timestamp('2011-06-28 03:00:00'), Timestamp('2011-06-28 04:00:00'), Timestamp('2011-06-28 05:00:00'), Timestamp('2011-06-28 09:00:00'), Timestamp('2011-06-28 11:00:00'), Timestamp('2011-06-28 13:00:00'), Timestamp('2011-06-28 15:00:00'), Timestamp('2011-06-28 20:00:00'), Timestamp('2011-06-30 23:00:00'), Timestamp('2011-07-20 01:00:00'), Timestamp('2011-07-20 02:00:00'), Timestamp('2011-07-20 04:00:00'), Timestamp('2011-07-20 08:00:00'), Timestamp('2011-07-20 10:00:00'), Timestamp('2011-07-20 12:00:00'), Timestamp('2011-07-20 16:00:00'), Timestamp('2011-07-22 01:00:00'), Timestamp('2011-07-22 20:00:00'), Timestamp('2011-07-23 00:00:00'), Timestamp('2011-07-23 02:00:00'), Timestamp('2011-07-23 14:00:00'), Timestamp('2011-07-23 15:00:00'), Timestamp('2011-07-24 22:00:00'), Timestamp('2011-07-25 00:00:00'), Timestamp('2011-07-25 03:00:00'), Timestamp('2011-07-25 07:00:00'), Timestamp('2011-07-25 08:00:00'), Timestamp('2011-07-25 09:00:00'), Timestamp('2011-07-25 10:00:00'), Timestamp('2011-07-25 17:00:00'), Timestamp('2011-07-25 21:00:00'), Timestamp('2011-07-25 22:00:00'), Timestamp('2011-07-26 11:00:00'), Timestamp('2011-07-26 12:00:00'), Timestamp('2011-07-27 10:00:00'), Timestamp('2011-07-27 11:00:00'), Timestamp('2011-07-27 22:00:00'), Timestamp('2011-07-28 01:00:00'), Timestamp('2011-07-28 03:00:00'), Timestamp('2011-07-29 02:00:00'), Timestamp('2011-07-29 03:00:00'), Timestamp('2011-07-29 05:00:00'), Timestamp('2011-07-29 06:00:00'), Timestamp('2011-07-29 08:00:00'), Timestamp('2011-07-29 13:00:00'), Timestamp('2011-07-30 13:00:00'), Timestamp('2011-07-30 14:00:00'), Timestamp('2011-07-31 03:00:00'), Timestamp('2011-07-31 04:00:00'), Timestamp('2011-07-31 05:00:00'), Timestamp('2011-07-31 06:00:00'), Timestamp('2011-07-31 09:00:00'), Timestamp('2011-08-20 00:00:00'), Timestamp('2011-08-20 01:00:00'), Timestamp('2011-08-20 02:00:00'), Timestamp('2011-08-20 03:00:00'), Timestamp('2011-08-20 04:00:00'), Timestamp('2011-08-20 05:00:00'), Timestamp('2011-08-20 07:00:00'), Timestamp('2011-08-20 08:00:00'), Timestamp('2011-08-20 09:00:00'), Timestamp('2011-08-20 11:00:00'), Timestamp('2011-08-23 08:00:00'), Timestamp('2011-08-23 09:00:00'), Timestamp('2011-08-23 10:00:00'), Timestamp('2011-08-23 21:00:00'), Timestamp('2011-08-24 06:00:00'), Timestamp('2011-08-25 11:00:00'), Timestamp('2011-08-25 12:00:00'), Timestamp('2011-08-25 14:00:00'), Timestamp('2011-08-25 15:00:00'), Timestamp('2011-08-25 16:00:00'), Timestamp('2011-08-25 17:00:00'), Timestamp('2011-08-25 22:00:00'), Timestamp('2011-08-26 01:00:00'), Timestamp('2011-08-26 04:00:00'), Timestamp('2011-08-26 05:00:00'), Timestamp('2011-08-26 06:00:00'), Timestamp('2011-08-26 07:00:00'), Timestamp('2011-08-26 09:00:00'), Timestamp('2011-08-26 11:00:00'), Timestamp('2011-08-26 14:00:00'), Timestamp('2011-08-29 13:00:00'), Timestamp('2011-08-29 14:00:00'), Timestamp('2011-08-30 12:00:00'), Timestamp('2011-08-30 20:00:00'), Timestamp('2011-08-30 22:00:00'), Timestamp('2011-08-30 23:00:00'), Timestamp('2011-08-31 00:00:00'), Timestamp('2011-08-31 01:00:00'), Timestamp('2011-08-31 02:00:00'), Timestamp('2011-08-31 03:00:00'), Timestamp('2011-08-31 04:00:00'), Timestamp('2011-08-31 06:00:00'), Timestamp('2011-08-31 07:00:00'), Timestamp('2011-08-31 08:00:00'), Timestamp('2011-08-31 22:00:00'), Timestamp('2011-09-20 19:00:00'), Timestamp('2011-09-20 20:00:00'), Timestamp('2011-09-20 21:00:00'), Timestamp('2011-09-20 22:00:00'), Timestamp('2011-09-20 23:00:00'), Timestamp('2011-09-21 00:00:00'), Timestamp('2011-09-21 01:00:00'), Timestamp('2011-09-21 02:00:00'), Timestamp('2011-09-21 10:00:00'), Timestamp('2011-09-21 19:00:00'), Timestamp('2011-09-21 20:00:00'), Timestamp('2011-09-21 22:00:00'), Timestamp('2011-09-22 23:00:00'), Timestamp('2011-09-23 01:00:00'), Timestamp('2011-09-23 03:00:00'), Timestamp('2011-09-23 04:00:00'), Timestamp('2011-09-23 05:00:00'), Timestamp('2011-09-23 16:00:00'), Timestamp('2011-09-23 17:00:00'), Timestamp('2011-09-23 18:00:00'), Timestamp('2011-09-23 20:00:00'), Timestamp('2011-09-24 03:00:00'), Timestamp('2011-09-24 13:00:00'), Timestamp('2011-09-24 19:00:00'), Timestamp('2011-09-24 20:00:00'), Timestamp('2011-09-24 22:00:00'), Timestamp('2011-09-25 00:00:00'), Timestamp('2011-09-25 02:00:00'), Timestamp('2011-09-25 03:00:00'), Timestamp('2011-09-25 08:00:00'), Timestamp('2011-09-25 09:00:00'), Timestamp('2011-09-25 10:00:00'), Timestamp('2011-09-25 12:00:00'), Timestamp('2011-09-25 13:00:00'), Timestamp('2011-09-25 14:00:00'), Timestamp('2011-09-25 15:00:00'), Timestamp('2011-09-25 16:00:00'), Timestamp('2011-09-25 17:00:00'), Timestamp('2011-09-25 18:00:00'), Timestamp('2011-09-26 00:00:00'), Timestamp('2011-09-26 03:00:00'), Timestamp('2011-09-26 05:00:00'), Timestamp('2011-09-26 07:00:00'), Timestamp('2011-09-26 08:00:00'), Timestamp('2011-09-27 03:00:00'), Timestamp('2011-09-27 20:00:00'), Timestamp('2011-09-27 21:00:00'), Timestamp('2011-09-28 00:00:00'), Timestamp('2011-09-28 01:00:00'), Timestamp('2011-09-28 04:00:00'), Timestamp('2011-09-28 05:00:00'), Timestamp('2011-09-28 10:00:00'), Timestamp('2011-09-28 12:00:00'), Timestamp('2011-09-29 08:00:00'), Timestamp('2011-09-29 21:00:00'), Timestamp('2011-09-29 22:00:00'), Timestamp('2011-09-30 10:00:00'), Timestamp('2011-10-22 05:00:00'), Timestamp('2011-10-22 06:00:00'), Timestamp('2011-10-22 08:00:00'), Timestamp('2011-10-22 13:00:00'), Timestamp('2011-10-22 19:00:00'), Timestamp('2011-10-22 20:00:00'), Timestamp('2011-10-22 21:00:00'), Timestamp('2011-10-22 22:00:00'), Timestamp('2011-10-22 23:00:00'), Timestamp('2011-10-23 00:00:00'), Timestamp('2011-10-23 01:00:00'), Timestamp('2011-10-23 03:00:00'), Timestamp('2011-10-23 04:00:00'), Timestamp('2011-10-23 05:00:00'), Timestamp('2011-10-23 09:00:00'), Timestamp('2011-10-23 19:00:00'), Timestamp('2011-10-24 00:00:00'), Timestamp('2011-10-24 04:00:00'), Timestamp('2011-10-24 05:00:00'), Timestamp('2011-10-24 19:00:00'), Timestamp('2011-10-25 03:00:00'), Timestamp('2011-10-25 08:00:00'), Timestamp('2011-10-26 14:00:00'), Timestamp('2011-10-26 15:00:00'), Timestamp('2011-10-26 19:00:00'), Timestamp('2011-10-26 20:00:00'), Timestamp('2011-10-26 21:00:00'), Timestamp('2011-10-27 00:00:00'), Timestamp('2011-10-27 01:00:00'), Timestamp('2011-10-27 02:00:00'), Timestamp('2011-10-27 03:00:00'), Timestamp('2011-10-27 04:00:00'), Timestamp('2011-10-27 06:00:00'), Timestamp('2011-10-27 14:00:00'), Timestamp('2011-10-30 07:00:00'), Timestamp('2011-10-30 20:00:00'), Timestamp('2011-10-30 21:00:00'), Timestamp('2011-10-30 22:00:00'), Timestamp('2011-10-30 23:00:00'), Timestamp('2011-10-31 00:00:00'), Timestamp('2011-10-31 01:00:00'), Timestamp('2011-10-31 02:00:00'), Timestamp('2011-10-31 04:00:00'), Timestamp('2011-10-31 05:00:00'), Timestamp('2011-10-31 06:00:00'), Timestamp('2011-10-31 07:00:00'), Timestamp('2011-10-31 08:00:00'), Timestamp('2011-11-21 00:00:00'), Timestamp('2011-11-21 05:00:00'), Timestamp('2011-11-21 06:00:00'), Timestamp('2011-11-21 08:00:00'), Timestamp('2011-11-21 10:00:00'), Timestamp('2011-11-22 09:00:00'), Timestamp('2011-11-22 10:00:00'), Timestamp('2011-11-22 15:00:00'), Timestamp('2011-11-22 16:00:00'), Timestamp('2011-11-22 18:00:00'), Timestamp('2011-11-23 06:00:00'), Timestamp('2011-11-24 09:00:00'), Timestamp('2011-11-24 10:00:00'), Timestamp('2011-11-25 01:00:00'), Timestamp('2011-11-25 05:00:00'), Timestamp('2011-11-25 07:00:00'), Timestamp('2011-11-25 09:00:00'), Timestamp('2011-11-25 19:00:00'), Timestamp('2011-11-25 21:00:00'), Timestamp('2011-11-26 03:00:00'), Timestamp('2011-11-26 04:00:00'), Timestamp('2011-11-26 10:00:00'), Timestamp('2011-11-26 12:00:00'), Timestamp('2011-11-26 13:00:00'), Timestamp('2011-11-26 20:00:00'), Timestamp('2011-11-26 21:00:00'), Timestamp('2011-11-26 22:00:00'), Timestamp('2011-11-26 23:00:00'), Timestamp('2011-11-27 00:00:00'), Timestamp('2011-11-27 01:00:00'), Timestamp('2011-11-27 02:00:00'), Timestamp('2011-11-27 03:00:00'), Timestamp('2011-11-28 05:00:00'), Timestamp('2011-11-28 07:00:00'), Timestamp('2011-11-28 08:00:00'), Timestamp('2011-11-28 13:00:00'), Timestamp('2011-11-28 14:00:00'), Timestamp('2011-11-29 00:00:00'), Timestamp('2011-11-29 02:00:00'), Timestamp('2011-11-29 03:00:00'), Timestamp('2011-12-20 01:00:00'), Timestamp('2011-12-20 02:00:00'), Timestamp('2011-12-20 03:00:00'), Timestamp('2011-12-20 05:00:00'), Timestamp('2011-12-20 06:00:00'), Timestamp('2011-12-20 07:00:00'), Timestamp('2011-12-20 09:00:00'), Timestamp('2011-12-20 15:00:00'), Timestamp('2011-12-20 16:00:00'), Timestamp('2011-12-20 19:00:00'), Timestamp('2011-12-20 20:00:00'), Timestamp('2011-12-20 22:00:00'), Timestamp('2011-12-20 23:00:00'), Timestamp('2011-12-21 02:00:00'), Timestamp('2011-12-21 03:00:00'), Timestamp('2011-12-21 04:00:00'), Timestamp('2011-12-21 06:00:00'), Timestamp('2011-12-21 08:00:00'), Timestamp('2011-12-22 05:00:00'), Timestamp('2011-12-22 06:00:00'), Timestamp('2011-12-22 07:00:00'), Timestamp('2011-12-22 08:00:00'), Timestamp('2011-12-22 11:00:00'), Timestamp('2011-12-22 12:00:00'), Timestamp('2011-12-22 13:00:00'), Timestamp('2011-12-22 14:00:00'), Timestamp('2011-12-22 15:00:00'), Timestamp('2011-12-22 16:00:00'), Timestamp('2011-12-22 19:00:00'), Timestamp('2011-12-22 20:00:00'), Timestamp('2011-12-22 21:00:00'), Timestamp('2011-12-22 23:00:00'), Timestamp('2011-12-24 01:00:00'), Timestamp('2011-12-24 22:00:00'), Timestamp('2011-12-24 23:00:00'), Timestamp('2011-12-25 03:00:00'), Timestamp('2011-12-26 21:00:00'), Timestamp('2011-12-26 22:00:00'), Timestamp('2011-12-29 06:00:00'), Timestamp('2011-12-29 08:00:00'), Timestamp('2011-12-29 14:00:00'), Timestamp('2011-12-30 09:00:00'), Timestamp('2011-12-30 15:00:00'), Timestamp('2011-12-31 07:00:00'), Timestamp('2011-12-31 09:00:00'), Timestamp('2011-12-31 23:00:00'), Timestamp('2012-01-21 02:00:00'), Timestamp('2012-01-23 00:00:00'), Timestamp('2012-01-23 03:00:00'), Timestamp('2012-01-23 04:00:00'), Timestamp('2012-01-23 05:00:00'), Timestamp('2012-01-23 06:00:00'), Timestamp('2012-01-23 07:00:00'), Timestamp('2012-01-23 10:00:00'), Timestamp('2012-01-23 12:00:00'), Timestamp('2012-01-24 20:00:00'), Timestamp('2012-01-24 21:00:00'), Timestamp('2012-01-24 22:00:00'), Timestamp('2012-01-24 23:00:00'), Timestamp('2012-01-25 00:00:00'), Timestamp('2012-01-25 15:00:00'), Timestamp('2012-01-25 19:00:00'), Timestamp('2012-01-25 21:00:00'), Timestamp('2012-01-25 23:00:00'), Timestamp('2012-01-26 01:00:00'), Timestamp('2012-01-26 04:00:00'), Timestamp('2012-01-26 06:00:00'), Timestamp('2012-01-26 09:00:00'), Timestamp('2012-01-26 13:00:00'), Timestamp('2012-01-26 17:00:00'), Timestamp('2012-01-26 18:00:00'), Timestamp('2012-01-26 23:00:00'), Timestamp('2012-01-28 02:00:00'), Timestamp('2012-01-28 06:00:00'), Timestamp('2012-01-28 07:00:00'), Timestamp('2012-01-28 09:00:00'), Timestamp('2012-01-29 04:00:00'), Timestamp('2012-01-30 11:00:00'), Timestamp('2012-02-20 23:00:00'), Timestamp('2012-02-21 00:00:00'), Timestamp('2012-02-21 01:00:00'), Timestamp('2012-02-21 02:00:00'), Timestamp('2012-02-21 04:00:00'), Timestamp('2012-02-21 05:00:00'), Timestamp('2012-02-21 06:00:00'), Timestamp('2012-02-21 07:00:00'), Timestamp('2012-02-23 16:00:00'), Timestamp('2012-02-23 23:00:00'), Timestamp('2012-02-24 18:00:00'), Timestamp('2012-02-26 13:00:00'), Timestamp('2012-02-26 14:00:00'), Timestamp('2012-02-26 15:00:00'), Timestamp('2012-02-27 08:00:00'), Timestamp('2012-02-28 19:00:00'), Timestamp('2012-02-29 18:00:00'), Timestamp('2012-03-20 01:00:00'), Timestamp('2012-03-20 03:00:00'), Timestamp('2012-03-20 05:00:00'), Timestamp('2012-03-20 21:00:00'), Timestamp('2012-03-20 22:00:00'), Timestamp('2012-03-20 23:00:00'), Timestamp('2012-03-21 00:00:00'), Timestamp('2012-03-21 12:00:00'), Timestamp('2012-03-21 13:00:00'), Timestamp('2012-03-21 14:00:00'), Timestamp('2012-03-21 15:00:00'), Timestamp('2012-03-21 16:00:00'), Timestamp('2012-03-21 18:00:00'), Timestamp('2012-03-21 19:00:00'), Timestamp('2012-03-21 23:00:00'), Timestamp('2012-03-22 11:00:00'), Timestamp('2012-03-22 19:00:00'), Timestamp('2012-03-23 00:00:00'), Timestamp('2012-03-23 01:00:00'), Timestamp('2012-03-23 05:00:00'), Timestamp('2012-03-23 06:00:00'), Timestamp('2012-03-23 13:00:00'), Timestamp('2012-03-24 00:00:00'), Timestamp('2012-03-25 16:00:00'), Timestamp('2012-03-27 13:00:00'), Timestamp('2012-03-27 15:00:00'), Timestamp('2012-03-27 16:00:00'), Timestamp('2012-03-27 17:00:00'), Timestamp('2012-03-27 19:00:00'), Timestamp('2012-03-30 11:00:00'), Timestamp('2012-03-30 12:00:00'), Timestamp('2012-03-30 13:00:00'), Timestamp('2012-03-30 14:00:00'), Timestamp('2012-03-30 15:00:00'), Timestamp('2012-03-30 23:00:00'), Timestamp('2012-03-31 12:00:00'), Timestamp('2012-04-20 05:00:00'), Timestamp('2012-04-20 06:00:00'), Timestamp('2012-04-20 07:00:00'), Timestamp('2012-04-20 08:00:00'), Timestamp('2012-04-24 18:00:00'), Timestamp('2012-04-25 00:00:00'), Timestamp('2012-04-25 01:00:00'), Timestamp('2012-04-25 02:00:00'), Timestamp('2012-04-25 05:00:00'), Timestamp('2012-04-25 06:00:00'), Timestamp('2012-04-25 07:00:00'), Timestamp('2012-04-25 09:00:00'), Timestamp('2012-04-25 10:00:00'), Timestamp('2012-04-25 22:00:00'), Timestamp('2012-04-26 00:00:00'), Timestamp('2012-04-27 08:00:00'), Timestamp('2012-04-28 09:00:00'), Timestamp('2012-04-28 12:00:00'), Timestamp('2012-04-28 13:00:00'), Timestamp('2012-04-28 18:00:00'), Timestamp('2012-04-28 20:00:00'), Timestamp('2012-04-29 05:00:00'), Timestamp('2012-04-29 11:00:00'), Timestamp('2012-04-29 14:00:00'), Timestamp('2012-04-29 22:00:00'), Timestamp('2012-04-29 23:00:00'), Timestamp('2012-05-20 01:00:00'), Timestamp('2012-05-20 02:00:00'), Timestamp('2012-05-22 11:00:00'), Timestamp('2012-05-22 13:00:00'), Timestamp('2012-05-22 17:00:00'), Timestamp('2012-05-23 07:00:00'), Timestamp('2012-05-23 08:00:00'), Timestamp('2012-05-23 09:00:00'), Timestamp('2012-05-23 11:00:00'), Timestamp('2012-05-23 15:00:00'), Timestamp('2012-05-23 21:00:00'), Timestamp('2012-05-24 02:00:00'), Timestamp('2012-05-25 02:00:00'), Timestamp('2012-05-25 04:00:00'), Timestamp('2012-05-27 22:00:00'), Timestamp('2012-05-28 08:00:00'), Timestamp('2012-05-28 09:00:00'), Timestamp('2012-05-28 10:00:00'), Timestamp('2012-05-29 23:00:00'), Timestamp('2012-05-30 12:00:00'), Timestamp('2012-05-30 13:00:00'), Timestamp('2012-05-31 04:00:00'), Timestamp('2012-06-20 07:00:00'), Timestamp('2012-06-20 09:00:00'), Timestamp('2012-06-20 15:00:00'), Timestamp('2012-06-20 17:00:00'), Timestamp('2012-06-20 18:00:00'), Timestamp('2012-06-21 03:00:00'), Timestamp('2012-06-21 08:00:00'), Timestamp('2012-06-21 13:00:00'), Timestamp('2012-06-21 17:00:00'), Timestamp('2012-06-22 02:00:00'), Timestamp('2012-06-22 03:00:00'), Timestamp('2012-06-22 04:00:00'), Timestamp('2012-06-22 06:00:00'), Timestamp('2012-06-22 23:00:00'), Timestamp('2012-06-23 00:00:00'), Timestamp('2012-06-23 23:00:00'), Timestamp('2012-06-24 00:00:00'), Timestamp('2012-06-24 02:00:00'), Timestamp('2012-06-24 04:00:00'), Timestamp('2012-06-24 08:00:00'), Timestamp('2012-06-24 09:00:00'), Timestamp('2012-06-24 10:00:00'), Timestamp('2012-06-28 01:00:00'), Timestamp('2012-06-29 15:00:00'), Timestamp('2012-06-29 16:00:00'), Timestamp('2012-06-29 18:00:00'), Timestamp('2012-06-30 02:00:00'), Timestamp('2012-06-30 03:00:00'), Timestamp('2012-06-30 04:00:00'), Timestamp('2012-06-30 18:00:00'), Timestamp('2012-07-21 23:00:00'), Timestamp('2012-07-22 04:00:00'), Timestamp('2012-07-22 05:00:00'), Timestamp('2012-07-22 07:00:00'), Timestamp('2012-07-22 08:00:00'), Timestamp('2012-07-22 09:00:00'), Timestamp('2012-07-22 10:00:00'), Timestamp('2012-07-22 11:00:00'), Timestamp('2012-07-23 10:00:00'), Timestamp('2012-07-24 09:00:00'), Timestamp('2012-07-25 10:00:00'), Timestamp('2012-07-25 11:00:00'), Timestamp('2012-07-25 12:00:00'), Timestamp('2012-07-25 17:00:00'), Timestamp('2012-07-27 00:00:00'), Timestamp('2012-07-27 04:00:00'), Timestamp('2012-07-27 05:00:00'), Timestamp('2012-07-27 06:00:00'), Timestamp('2012-07-27 10:00:00'), Timestamp('2012-07-27 23:00:00'), Timestamp('2012-07-28 02:00:00'), Timestamp('2012-07-28 03:00:00'), Timestamp('2012-07-28 19:00:00'), Timestamp('2012-07-29 10:00:00'), Timestamp('2012-07-29 23:00:00'), Timestamp('2012-07-30 01:00:00'), Timestamp('2012-07-30 02:00:00'), Timestamp('2012-07-30 03:00:00'), Timestamp('2012-07-30 04:00:00'), Timestamp('2012-07-30 09:00:00'), Timestamp('2012-07-31 10:00:00'), Timestamp('2012-07-31 11:00:00'), Timestamp('2012-07-31 12:00:00'), Timestamp('2012-08-20 05:00:00'), Timestamp('2012-08-20 09:00:00'), Timestamp('2012-08-20 21:00:00'), Timestamp('2012-08-20 22:00:00'), Timestamp('2012-08-20 23:00:00'), Timestamp('2012-08-21 03:00:00'), Timestamp('2012-08-21 04:00:00'), Timestamp('2012-08-21 09:00:00'), Timestamp('2012-08-21 11:00:00'), Timestamp('2012-08-21 12:00:00'), Timestamp('2012-08-21 13:00:00'), Timestamp('2012-08-21 15:00:00'), Timestamp('2012-08-21 16:00:00'), Timestamp('2012-08-21 20:00:00'), Timestamp('2012-08-21 21:00:00'), Timestamp('2012-08-21 22:00:00'), Timestamp('2012-08-21 23:00:00'), Timestamp('2012-08-22 01:00:00'), Timestamp('2012-08-22 02:00:00'), Timestamp('2012-08-22 03:00:00'), Timestamp('2012-08-22 05:00:00'), Timestamp('2012-08-22 06:00:00'), Timestamp('2012-08-22 07:00:00'), Timestamp('2012-08-22 09:00:00'), Timestamp('2012-08-22 12:00:00'), Timestamp('2012-08-22 19:00:00'), Timestamp('2012-08-22 21:00:00'), Timestamp('2012-08-22 22:00:00'), Timestamp('2012-08-22 23:00:00'), Timestamp('2012-08-23 00:00:00'), Timestamp('2012-08-23 01:00:00'), Timestamp('2012-08-23 02:00:00'), Timestamp('2012-08-23 04:00:00'), Timestamp('2012-08-23 05:00:00'), Timestamp('2012-08-23 09:00:00'), Timestamp('2012-08-23 12:00:00'), Timestamp('2012-08-23 23:00:00'), Timestamp('2012-08-24 00:00:00'), Timestamp('2012-08-24 01:00:00'), Timestamp('2012-08-24 02:00:00'), Timestamp('2012-08-24 03:00:00'), Timestamp('2012-08-24 04:00:00'), Timestamp('2012-08-24 05:00:00'), Timestamp('2012-08-24 06:00:00'), Timestamp('2012-08-24 07:00:00'), Timestamp('2012-08-24 08:00:00'), Timestamp('2012-08-24 09:00:00'), Timestamp('2012-08-24 10:00:00'), Timestamp('2012-08-24 22:00:00'), Timestamp('2012-08-25 00:00:00'), Timestamp('2012-08-25 01:00:00'), Timestamp('2012-08-27 00:00:00'), Timestamp('2012-08-27 04:00:00'), Timestamp('2012-08-27 05:00:00'), Timestamp('2012-08-27 06:00:00'), Timestamp('2012-08-27 07:00:00'), Timestamp('2012-08-27 12:00:00'), Timestamp('2012-08-28 22:00:00'), Timestamp('2012-08-28 23:00:00'), Timestamp('2012-08-29 00:00:00'), Timestamp('2012-08-29 11:00:00'), Timestamp('2012-08-29 12:00:00'), Timestamp('2012-08-29 13:00:00'), Timestamp('2012-08-29 20:00:00'), Timestamp('2012-08-29 22:00:00'), Timestamp('2012-08-29 23:00:00'), Timestamp('2012-08-30 00:00:00'), Timestamp('2012-08-30 01:00:00'), Timestamp('2012-08-30 02:00:00'), Timestamp('2012-08-30 03:00:00'), Timestamp('2012-08-30 04:00:00'), Timestamp('2012-08-30 05:00:00'), Timestamp('2012-08-30 07:00:00'), Timestamp('2012-08-30 08:00:00'), Timestamp('2012-08-30 09:00:00'), Timestamp('2012-08-30 10:00:00'), Timestamp('2012-08-30 22:00:00'), Timestamp('2012-08-31 08:00:00'), Timestamp('2012-08-31 09:00:00'), Timestamp('2012-09-20 00:00:00'), Timestamp('2012-09-20 03:00:00'), Timestamp('2012-09-20 06:00:00'), Timestamp('2012-09-20 11:00:00'), Timestamp('2012-09-21 00:00:00'), Timestamp('2012-09-21 01:00:00'), Timestamp('2012-09-21 02:00:00'), Timestamp('2012-09-21 04:00:00'), Timestamp('2012-09-21 05:00:00'), Timestamp('2012-09-21 07:00:00'), Timestamp('2012-09-23 22:00:00'), Timestamp('2012-09-24 05:00:00'), Timestamp('2012-09-24 06:00:00'), Timestamp('2012-09-24 14:00:00'), Timestamp('2012-09-24 15:00:00'), Timestamp('2012-09-24 17:00:00'), Timestamp('2012-09-27 03:00:00'), Timestamp('2012-09-27 05:00:00'), Timestamp('2012-09-27 07:00:00'), Timestamp('2012-09-27 09:00:00'), Timestamp('2012-09-27 13:00:00'), Timestamp('2012-09-27 15:00:00'), Timestamp('2012-09-28 01:00:00'), Timestamp('2012-09-28 05:00:00'), Timestamp('2012-09-28 07:00:00'), Timestamp('2012-09-28 11:00:00'), Timestamp('2012-09-30 00:00:00'), Timestamp('2012-09-30 01:00:00'), Timestamp('2012-09-30 02:00:00'), Timestamp('2012-09-30 05:00:00'), Timestamp('2012-09-30 07:00:00'), Timestamp('2012-09-30 21:00:00'), Timestamp('2012-09-30 22:00:00'), Timestamp('2012-10-20 04:00:00'), Timestamp('2012-10-20 05:00:00'), Timestamp('2012-10-20 06:00:00'), Timestamp('2012-10-20 07:00:00'), Timestamp('2012-10-20 14:00:00'), Timestamp('2012-10-20 15:00:00'), Timestamp('2012-10-20 23:00:00'), Timestamp('2012-10-21 06:00:00'), Timestamp('2012-10-21 07:00:00'), Timestamp('2012-10-21 08:00:00'), Timestamp('2012-10-21 22:00:00'), Timestamp('2012-10-21 23:00:00'), Timestamp('2012-10-22 00:00:00'), Timestamp('2012-10-22 01:00:00'), Timestamp('2012-10-22 02:00:00'), Timestamp('2012-10-22 03:00:00'), Timestamp('2012-10-22 04:00:00'), Timestamp('2012-10-22 08:00:00'), Timestamp('2012-10-22 10:00:00'), Timestamp('2012-10-22 12:00:00'), Timestamp('2012-10-23 10:00:00'), Timestamp('2012-10-23 11:00:00'), Timestamp('2012-10-23 13:00:00'), Timestamp('2012-10-23 17:00:00'), Timestamp('2012-10-23 21:00:00'), Timestamp('2012-10-24 01:00:00'), Timestamp('2012-10-24 02:00:00'), Timestamp('2012-10-24 05:00:00'), Timestamp('2012-10-24 10:00:00'), Timestamp('2012-10-24 11:00:00'), Timestamp('2012-10-24 13:00:00'), Timestamp('2012-10-24 17:00:00'), Timestamp('2012-10-24 18:00:00'), Timestamp('2012-10-25 01:00:00'), Timestamp('2012-10-25 02:00:00'), Timestamp('2012-10-25 13:00:00'), Timestamp('2012-10-26 00:00:00'), Timestamp('2012-11-20 09:00:00'), Timestamp('2012-11-20 12:00:00'), Timestamp('2012-11-20 13:00:00'), Timestamp('2012-11-20 19:00:00'), Timestamp('2012-11-20 20:00:00'), Timestamp('2012-11-20 21:00:00'), Timestamp('2012-11-20 22:00:00'), Timestamp('2012-11-21 00:00:00'), Timestamp('2012-11-21 10:00:00'), Timestamp('2012-11-21 21:00:00'), Timestamp('2012-11-21 22:00:00'), Timestamp('2012-11-21 23:00:00'), Timestamp('2012-11-22 09:00:00'), Timestamp('2012-11-22 12:00:00'), Timestamp('2012-11-22 13:00:00'), Timestamp('2012-11-22 14:00:00'), Timestamp('2012-11-22 15:00:00'), Timestamp('2012-11-22 16:00:00'), Timestamp('2012-11-22 17:00:00'), Timestamp('2012-11-22 18:00:00'), Timestamp('2012-11-22 19:00:00'), Timestamp('2012-11-22 20:00:00'), Timestamp('2012-11-22 22:00:00'), Timestamp('2012-11-22 23:00:00'), Timestamp('2012-11-23 00:00:00'), Timestamp('2012-11-23 03:00:00'), Timestamp('2012-11-23 05:00:00'), Timestamp('2012-11-23 06:00:00'), Timestamp('2012-11-23 07:00:00'), Timestamp('2012-11-23 18:00:00'), Timestamp('2012-11-25 03:00:00'), Timestamp('2012-11-25 04:00:00'), Timestamp('2012-11-25 19:00:00'), Timestamp('2012-11-25 20:00:00'), Timestamp('2012-11-25 21:00:00'), Timestamp('2012-11-25 22:00:00'), Timestamp('2012-11-26 00:00:00'), Timestamp('2012-11-26 01:00:00'), Timestamp('2012-11-26 02:00:00'), Timestamp('2012-11-26 03:00:00'), Timestamp('2012-11-26 04:00:00'), Timestamp('2012-11-26 06:00:00'), Timestamp('2012-11-26 07:00:00'), Timestamp('2012-11-26 08:00:00'), Timestamp('2012-11-26 10:00:00'), Timestamp('2012-11-26 14:00:00'), Timestamp('2012-11-26 16:00:00'), Timestamp('2012-11-26 17:00:00'), Timestamp('2012-11-26 19:00:00'), Timestamp('2012-11-26 20:00:00'), Timestamp('2012-11-26 21:00:00'), Timestamp('2012-11-26 22:00:00'), Timestamp('2012-11-29 02:00:00'), Timestamp('2012-11-29 05:00:00'), Timestamp('2012-11-29 06:00:00'), Timestamp('2012-11-29 07:00:00'), Timestamp('2012-11-29 09:00:00'), Timestamp('2012-11-29 23:00:00'), Timestamp('2012-11-30 02:00:00'), Timestamp('2012-11-30 03:00:00'), Timestamp('2012-11-30 04:00:00'), Timestamp('2012-11-30 05:00:00'), Timestamp('2012-11-30 06:00:00'), Timestamp('2012-11-30 07:00:00'), Timestamp('2012-11-30 10:00:00'), Timestamp('2012-11-30 12:00:00'), Timestamp('2012-11-30 18:00:00'), Timestamp('2012-11-30 19:00:00'), Timestamp('2012-11-30 20:00:00'), Timestamp('2012-11-30 22:00:00'), Timestamp('2012-12-20 01:00:00'), Timestamp('2012-12-20 02:00:00'), Timestamp('2012-12-20 06:00:00'), Timestamp('2012-12-20 07:00:00'), Timestamp('2012-12-20 08:00:00'), Timestamp('2012-12-20 09:00:00'), Timestamp('2012-12-20 10:00:00'), Timestamp('2012-12-23 05:00:00'), Timestamp('2012-12-23 19:00:00'), Timestamp('2012-12-23 20:00:00'), Timestamp('2012-12-23 21:00:00'), Timestamp('2012-12-23 23:00:00'), Timestamp('2012-12-24 00:00:00'), Timestamp('2012-12-24 01:00:00'), Timestamp('2012-12-24 02:00:00'), Timestamp('2012-12-24 03:00:00'), Timestamp('2012-12-24 06:00:00'), Timestamp('2012-12-24 07:00:00'), Timestamp('2012-12-24 08:00:00'), Timestamp('2012-12-24 10:00:00'), Timestamp('2012-12-24 22:00:00'), Timestamp('2012-12-24 23:00:00'), Timestamp('2012-12-25 08:00:00'), Timestamp('2012-12-25 09:00:00'), Timestamp('2012-12-25 10:00:00'), Timestamp('2012-12-28 15:00:00'), Timestamp('2012-12-29 00:00:00'), Timestamp('2012-12-29 02:00:00'), Timestamp('2012-12-29 03:00:00'), Timestamp('2012-12-29 08:00:00'), Timestamp('2012-12-29 09:00:00'), Timestamp('2012-12-29 12:00:00'), Timestamp('2012-12-29 13:00:00'), Timestamp('2012-12-29 15:00:00'), Timestamp('2012-12-29 23:00:00'), Timestamp('2012-12-30 19:00:00')] not in index\"",
     "output_type": "error",
     "traceback": [
      "\u001b[1;31m---------------------------------------------------------------------------\u001b[0m",
      "\u001b[1;31mKeyError\u001b[0m                                  Traceback (most recent call last)",
      "Cell \u001b[1;32mIn[24], line 1\u001b[0m\n\u001b[1;32m----> 1\u001b[0m \u001b[43mtrain\u001b[49m\u001b[38;5;241;43m.\u001b[39;49m\u001b[43mloc\u001b[49m\u001b[43m[\u001b[49m\u001b[43my_test_idx\u001b[49m\u001b[43m]\u001b[49m\n",
      "File \u001b[1;32mC:\\AI\\pythonProject\\venv\\lib\\site-packages\\pandas\\core\\indexing.py:1073\u001b[0m, in \u001b[0;36m_LocationIndexer.__getitem__\u001b[1;34m(self, key)\u001b[0m\n\u001b[0;32m   1070\u001b[0m axis \u001b[38;5;241m=\u001b[39m \u001b[38;5;28mself\u001b[39m\u001b[38;5;241m.\u001b[39maxis \u001b[38;5;129;01mor\u001b[39;00m \u001b[38;5;241m0\u001b[39m\n\u001b[0;32m   1072\u001b[0m maybe_callable \u001b[38;5;241m=\u001b[39m com\u001b[38;5;241m.\u001b[39mapply_if_callable(key, \u001b[38;5;28mself\u001b[39m\u001b[38;5;241m.\u001b[39mobj)\n\u001b[1;32m-> 1073\u001b[0m \u001b[38;5;28;01mreturn\u001b[39;00m \u001b[38;5;28;43mself\u001b[39;49m\u001b[38;5;241;43m.\u001b[39;49m\u001b[43m_getitem_axis\u001b[49m\u001b[43m(\u001b[49m\u001b[43mmaybe_callable\u001b[49m\u001b[43m,\u001b[49m\u001b[43m \u001b[49m\u001b[43maxis\u001b[49m\u001b[38;5;241;43m=\u001b[39;49m\u001b[43maxis\u001b[49m\u001b[43m)\u001b[49m\n",
      "File \u001b[1;32mC:\\AI\\pythonProject\\venv\\lib\\site-packages\\pandas\\core\\indexing.py:1301\u001b[0m, in \u001b[0;36m_LocIndexer._getitem_axis\u001b[1;34m(self, key, axis)\u001b[0m\n\u001b[0;32m   1298\u001b[0m     \u001b[38;5;28;01mif\u001b[39;00m \u001b[38;5;28mhasattr\u001b[39m(key, \u001b[38;5;124m\"\u001b[39m\u001b[38;5;124mndim\u001b[39m\u001b[38;5;124m\"\u001b[39m) \u001b[38;5;129;01mand\u001b[39;00m key\u001b[38;5;241m.\u001b[39mndim \u001b[38;5;241m>\u001b[39m \u001b[38;5;241m1\u001b[39m:\n\u001b[0;32m   1299\u001b[0m         \u001b[38;5;28;01mraise\u001b[39;00m \u001b[38;5;167;01mValueError\u001b[39;00m(\u001b[38;5;124m\"\u001b[39m\u001b[38;5;124mCannot index with multidimensional key\u001b[39m\u001b[38;5;124m\"\u001b[39m)\n\u001b[1;32m-> 1301\u001b[0m     \u001b[38;5;28;01mreturn\u001b[39;00m \u001b[38;5;28;43mself\u001b[39;49m\u001b[38;5;241;43m.\u001b[39;49m\u001b[43m_getitem_iterable\u001b[49m\u001b[43m(\u001b[49m\u001b[43mkey\u001b[49m\u001b[43m,\u001b[49m\u001b[43m \u001b[49m\u001b[43maxis\u001b[49m\u001b[38;5;241;43m=\u001b[39;49m\u001b[43maxis\u001b[49m\u001b[43m)\u001b[49m\n\u001b[0;32m   1303\u001b[0m \u001b[38;5;66;03m# nested tuple slicing\u001b[39;00m\n\u001b[0;32m   1304\u001b[0m \u001b[38;5;28;01mif\u001b[39;00m is_nested_tuple(key, labels):\n",
      "File \u001b[1;32mC:\\AI\\pythonProject\\venv\\lib\\site-packages\\pandas\\core\\indexing.py:1239\u001b[0m, in \u001b[0;36m_LocIndexer._getitem_iterable\u001b[1;34m(self, key, axis)\u001b[0m\n\u001b[0;32m   1236\u001b[0m \u001b[38;5;28mself\u001b[39m\u001b[38;5;241m.\u001b[39m_validate_key(key, axis)\n\u001b[0;32m   1238\u001b[0m \u001b[38;5;66;03m# A collection of keys\u001b[39;00m\n\u001b[1;32m-> 1239\u001b[0m keyarr, indexer \u001b[38;5;241m=\u001b[39m \u001b[38;5;28;43mself\u001b[39;49m\u001b[38;5;241;43m.\u001b[39;49m\u001b[43m_get_listlike_indexer\u001b[49m\u001b[43m(\u001b[49m\u001b[43mkey\u001b[49m\u001b[43m,\u001b[49m\u001b[43m \u001b[49m\u001b[43maxis\u001b[49m\u001b[43m)\u001b[49m\n\u001b[0;32m   1240\u001b[0m \u001b[38;5;28;01mreturn\u001b[39;00m \u001b[38;5;28mself\u001b[39m\u001b[38;5;241m.\u001b[39mobj\u001b[38;5;241m.\u001b[39m_reindex_with_indexers(\n\u001b[0;32m   1241\u001b[0m     {axis: [keyarr, indexer]}, copy\u001b[38;5;241m=\u001b[39m\u001b[38;5;28;01mTrue\u001b[39;00m, allow_dups\u001b[38;5;241m=\u001b[39m\u001b[38;5;28;01mTrue\u001b[39;00m\n\u001b[0;32m   1242\u001b[0m )\n",
      "File \u001b[1;32mC:\\AI\\pythonProject\\venv\\lib\\site-packages\\pandas\\core\\indexing.py:1432\u001b[0m, in \u001b[0;36m_LocIndexer._get_listlike_indexer\u001b[1;34m(self, key, axis)\u001b[0m\n\u001b[0;32m   1429\u001b[0m ax \u001b[38;5;241m=\u001b[39m \u001b[38;5;28mself\u001b[39m\u001b[38;5;241m.\u001b[39mobj\u001b[38;5;241m.\u001b[39m_get_axis(axis)\n\u001b[0;32m   1430\u001b[0m axis_name \u001b[38;5;241m=\u001b[39m \u001b[38;5;28mself\u001b[39m\u001b[38;5;241m.\u001b[39mobj\u001b[38;5;241m.\u001b[39m_get_axis_name(axis)\n\u001b[1;32m-> 1432\u001b[0m keyarr, indexer \u001b[38;5;241m=\u001b[39m \u001b[43max\u001b[49m\u001b[38;5;241;43m.\u001b[39;49m\u001b[43m_get_indexer_strict\u001b[49m\u001b[43m(\u001b[49m\u001b[43mkey\u001b[49m\u001b[43m,\u001b[49m\u001b[43m \u001b[49m\u001b[43maxis_name\u001b[49m\u001b[43m)\u001b[49m\n\u001b[0;32m   1434\u001b[0m \u001b[38;5;28;01mreturn\u001b[39;00m keyarr, indexer\n",
      "File \u001b[1;32mC:\\AI\\pythonProject\\venv\\lib\\site-packages\\pandas\\core\\indexes\\base.py:6070\u001b[0m, in \u001b[0;36mIndex._get_indexer_strict\u001b[1;34m(self, key, axis_name)\u001b[0m\n\u001b[0;32m   6067\u001b[0m \u001b[38;5;28;01melse\u001b[39;00m:\n\u001b[0;32m   6068\u001b[0m     keyarr, indexer, new_indexer \u001b[38;5;241m=\u001b[39m \u001b[38;5;28mself\u001b[39m\u001b[38;5;241m.\u001b[39m_reindex_non_unique(keyarr)\n\u001b[1;32m-> 6070\u001b[0m \u001b[38;5;28;43mself\u001b[39;49m\u001b[38;5;241;43m.\u001b[39;49m\u001b[43m_raise_if_missing\u001b[49m\u001b[43m(\u001b[49m\u001b[43mkeyarr\u001b[49m\u001b[43m,\u001b[49m\u001b[43m \u001b[49m\u001b[43mindexer\u001b[49m\u001b[43m,\u001b[49m\u001b[43m \u001b[49m\u001b[43maxis_name\u001b[49m\u001b[43m)\u001b[49m\n\u001b[0;32m   6072\u001b[0m keyarr \u001b[38;5;241m=\u001b[39m \u001b[38;5;28mself\u001b[39m\u001b[38;5;241m.\u001b[39mtake(indexer)\n\u001b[0;32m   6073\u001b[0m \u001b[38;5;28;01mif\u001b[39;00m \u001b[38;5;28misinstance\u001b[39m(key, Index):\n\u001b[0;32m   6074\u001b[0m     \u001b[38;5;66;03m# GH 42790 - Preserve name from an Index\u001b[39;00m\n",
      "File \u001b[1;32mC:\\AI\\pythonProject\\venv\\lib\\site-packages\\pandas\\core\\indexes\\base.py:6133\u001b[0m, in \u001b[0;36mIndex._raise_if_missing\u001b[1;34m(self, key, indexer, axis_name)\u001b[0m\n\u001b[0;32m   6130\u001b[0m     \u001b[38;5;28;01mraise\u001b[39;00m \u001b[38;5;167;01mKeyError\u001b[39;00m(\u001b[38;5;124mf\u001b[39m\u001b[38;5;124m\"\u001b[39m\u001b[38;5;124mNone of [\u001b[39m\u001b[38;5;132;01m{\u001b[39;00mkey\u001b[38;5;132;01m}\u001b[39;00m\u001b[38;5;124m] are in the [\u001b[39m\u001b[38;5;132;01m{\u001b[39;00maxis_name\u001b[38;5;132;01m}\u001b[39;00m\u001b[38;5;124m]\u001b[39m\u001b[38;5;124m\"\u001b[39m)\n\u001b[0;32m   6132\u001b[0m not_found \u001b[38;5;241m=\u001b[39m \u001b[38;5;28mlist\u001b[39m(ensure_index(key)[missing_mask\u001b[38;5;241m.\u001b[39mnonzero()[\u001b[38;5;241m0\u001b[39m]]\u001b[38;5;241m.\u001b[39munique())\n\u001b[1;32m-> 6133\u001b[0m \u001b[38;5;28;01mraise\u001b[39;00m \u001b[38;5;167;01mKeyError\u001b[39;00m(\u001b[38;5;124mf\u001b[39m\u001b[38;5;124m\"\u001b[39m\u001b[38;5;132;01m{\u001b[39;00mnot_found\u001b[38;5;132;01m}\u001b[39;00m\u001b[38;5;124m not in index\u001b[39m\u001b[38;5;124m\"\u001b[39m)\n",
      "\u001b[1;31mKeyError\u001b[0m: \"[Timestamp('2011-01-20 01:00:00'), Timestamp('2011-01-20 02:00:00'), Timestamp('2011-01-20 12:00:00'), Timestamp('2011-01-22 13:00:00'), Timestamp('2011-01-22 15:00:00'), Timestamp('2011-01-22 17:00:00'), Timestamp('2011-01-22 22:00:00'), Timestamp('2011-01-24 07:00:00'), Timestamp('2011-01-24 08:00:00'), Timestamp('2011-01-24 09:00:00'), Timestamp('2011-01-24 10:00:00'), Timestamp('2011-01-25 14:00:00'), Timestamp('2011-01-25 15:00:00'), Timestamp('2011-01-25 16:00:00'), Timestamp('2011-01-25 17:00:00'), Timestamp('2011-01-28 14:00:00'), Timestamp('2011-01-28 15:00:00'), Timestamp('2011-01-28 16:00:00'), Timestamp('2011-01-29 17:00:00'), Timestamp('2011-01-30 01:00:00'), Timestamp('2011-01-30 02:00:00'), Timestamp('2011-01-30 03:00:00'), Timestamp('2011-01-30 04:00:00'), Timestamp('2011-01-30 05:00:00'), Timestamp('2011-01-30 07:00:00'), Timestamp('2011-01-30 08:00:00'), Timestamp('2011-01-30 09:00:00'), Timestamp('2011-01-30 10:00:00'), Timestamp('2011-01-30 11:00:00'), Timestamp('2011-01-30 15:00:00'), Timestamp('2011-01-30 16:00:00'), Timestamp('2011-01-31 13:00:00'), Timestamp('2011-02-20 13:00:00'), Timestamp('2011-02-20 20:00:00'), Timestamp('2011-02-20 21:00:00'), Timestamp('2011-02-21 05:00:00'), Timestamp('2011-02-22 10:00:00'), Timestamp('2011-02-22 11:00:00'), Timestamp('2011-02-23 10:00:00'), Timestamp('2011-02-23 16:00:00'), Timestamp('2011-02-23 19:00:00'), Timestamp('2011-02-23 21:00:00'), Timestamp('2011-02-23 22:00:00'), Timestamp('2011-02-25 00:00:00'), Timestamp('2011-02-25 01:00:00'), Timestamp('2011-02-25 02:00:00'), Timestamp('2011-02-26 06:00:00'), Timestamp('2011-02-26 08:00:00'), Timestamp('2011-02-26 11:00:00'), Timestamp('2011-02-27 06:00:00'), Timestamp('2011-02-27 08:00:00'), Timestamp('2011-02-27 13:00:00'), Timestamp('2011-02-28 05:00:00'), Timestamp('2011-03-20 10:00:00'), Timestamp('2011-03-20 13:00:00'), Timestamp('2011-03-20 14:00:00'), Timestamp('2011-03-20 16:00:00'), Timestamp('2011-03-23 23:00:00'), Timestamp('2011-03-25 10:00:00'), Timestamp('2011-03-27 16:00:00'), Timestamp('2011-03-28 12:00:00'), Timestamp('2011-03-29 21:00:00'), Timestamp('2011-03-29 22:00:00'), Timestamp('2011-03-30 00:00:00'), Timestamp('2011-03-30 01:00:00'), Timestamp('2011-03-30 02:00:00'), Timestamp('2011-03-30 03:00:00'), Timestamp('2011-03-30 04:00:00'), Timestamp('2011-04-20 03:00:00'), Timestamp('2011-04-20 07:00:00'), Timestamp('2011-04-23 04:00:00'), Timestamp('2011-04-23 05:00:00'), Timestamp('2011-04-24 06:00:00'), Timestamp('2011-04-24 07:00:00'), Timestamp('2011-04-25 00:00:00'), Timestamp('2011-04-25 04:00:00'), Timestamp('2011-04-25 05:00:00'), Timestamp('2011-04-25 06:00:00'), Timestamp('2011-05-20 01:00:00'), Timestamp('2011-05-20 03:00:00'), Timestamp('2011-05-20 08:00:00'), Timestamp('2011-05-20 17:00:00'), Timestamp('2011-05-20 22:00:00'), Timestamp('2011-05-21 01:00:00'), Timestamp('2011-05-21 12:00:00'), Timestamp('2011-05-21 13:00:00'), Timestamp('2011-05-21 14:00:00'), Timestamp('2011-05-21 20:00:00'), Timestamp('2011-05-22 04:00:00'), Timestamp('2011-05-23 04:00:00'), Timestamp('2011-05-23 05:00:00'), Timestamp('2011-05-23 06:00:00'), Timestamp('2011-05-25 02:00:00'), Timestamp('2011-05-26 04:00:00'), Timestamp('2011-05-30 07:00:00'), Timestamp('2011-05-30 11:00:00'), Timestamp('2011-05-30 14:00:00'), Timestamp('2011-05-30 20:00:00'), Timestamp('2011-05-31 03:00:00'), Timestamp('2011-05-31 11:00:00'), Timestamp('2011-05-31 14:00:00'), Timestamp('2011-06-20 03:00:00'), Timestamp('2011-06-20 17:00:00'), Timestamp('2011-06-21 07:00:00'), Timestamp('2011-06-22 02:00:00'), Timestamp('2011-06-22 04:00:00'), Timestamp('2011-06-22 05:00:00'), Timestamp('2011-06-22 06:00:00'), Timestamp('2011-06-22 07:00:00'), Timestamp('2011-06-24 22:00:00'), Timestamp('2011-06-25 11:00:00'), Timestamp('2011-06-25 15:00:00'), Timestamp('2011-06-26 00:00:00'), Timestamp('2011-06-26 05:00:00'), Timestamp('2011-06-26 06:00:00'), Timestamp('2011-06-26 07:00:00'), Timestamp('2011-06-26 13:00:00'), Timestamp('2011-06-26 15:00:00'), Timestamp('2011-06-26 22:00:00'), Timestamp('2011-06-27 09:00:00'), Timestamp('2011-06-27 11:00:00'), Timestamp('2011-06-27 12:00:00'), Timestamp('2011-06-27 15:00:00'), Timestamp('2011-06-27 18:00:00'), Timestamp('2011-06-27 21:00:00'), Timestamp('2011-06-27 22:00:00'), Timestamp('2011-06-27 23:00:00'), Timestamp('2011-06-28 01:00:00'), Timestamp('2011-06-28 02:00:00'), Timestamp('2011-06-28 03:00:00'), Timestamp('2011-06-28 04:00:00'), Timestamp('2011-06-28 05:00:00'), Timestamp('2011-06-28 09:00:00'), Timestamp('2011-06-28 11:00:00'), Timestamp('2011-06-28 13:00:00'), Timestamp('2011-06-28 15:00:00'), Timestamp('2011-06-28 20:00:00'), Timestamp('2011-06-30 23:00:00'), Timestamp('2011-07-20 01:00:00'), Timestamp('2011-07-20 02:00:00'), Timestamp('2011-07-20 04:00:00'), Timestamp('2011-07-20 08:00:00'), Timestamp('2011-07-20 10:00:00'), Timestamp('2011-07-20 12:00:00'), Timestamp('2011-07-20 16:00:00'), Timestamp('2011-07-22 01:00:00'), Timestamp('2011-07-22 20:00:00'), Timestamp('2011-07-23 00:00:00'), Timestamp('2011-07-23 02:00:00'), Timestamp('2011-07-23 14:00:00'), Timestamp('2011-07-23 15:00:00'), Timestamp('2011-07-24 22:00:00'), Timestamp('2011-07-25 00:00:00'), Timestamp('2011-07-25 03:00:00'), Timestamp('2011-07-25 07:00:00'), Timestamp('2011-07-25 08:00:00'), Timestamp('2011-07-25 09:00:00'), Timestamp('2011-07-25 10:00:00'), Timestamp('2011-07-25 17:00:00'), Timestamp('2011-07-25 21:00:00'), Timestamp('2011-07-25 22:00:00'), Timestamp('2011-07-26 11:00:00'), Timestamp('2011-07-26 12:00:00'), Timestamp('2011-07-27 10:00:00'), Timestamp('2011-07-27 11:00:00'), Timestamp('2011-07-27 22:00:00'), Timestamp('2011-07-28 01:00:00'), Timestamp('2011-07-28 03:00:00'), Timestamp('2011-07-29 02:00:00'), Timestamp('2011-07-29 03:00:00'), Timestamp('2011-07-29 05:00:00'), Timestamp('2011-07-29 06:00:00'), Timestamp('2011-07-29 08:00:00'), Timestamp('2011-07-29 13:00:00'), Timestamp('2011-07-30 13:00:00'), Timestamp('2011-07-30 14:00:00'), Timestamp('2011-07-31 03:00:00'), Timestamp('2011-07-31 04:00:00'), Timestamp('2011-07-31 05:00:00'), Timestamp('2011-07-31 06:00:00'), Timestamp('2011-07-31 09:00:00'), Timestamp('2011-08-20 00:00:00'), Timestamp('2011-08-20 01:00:00'), Timestamp('2011-08-20 02:00:00'), Timestamp('2011-08-20 03:00:00'), Timestamp('2011-08-20 04:00:00'), Timestamp('2011-08-20 05:00:00'), Timestamp('2011-08-20 07:00:00'), Timestamp('2011-08-20 08:00:00'), Timestamp('2011-08-20 09:00:00'), Timestamp('2011-08-20 11:00:00'), Timestamp('2011-08-23 08:00:00'), Timestamp('2011-08-23 09:00:00'), Timestamp('2011-08-23 10:00:00'), Timestamp('2011-08-23 21:00:00'), Timestamp('2011-08-24 06:00:00'), Timestamp('2011-08-25 11:00:00'), Timestamp('2011-08-25 12:00:00'), Timestamp('2011-08-25 14:00:00'), Timestamp('2011-08-25 15:00:00'), Timestamp('2011-08-25 16:00:00'), Timestamp('2011-08-25 17:00:00'), Timestamp('2011-08-25 22:00:00'), Timestamp('2011-08-26 01:00:00'), Timestamp('2011-08-26 04:00:00'), Timestamp('2011-08-26 05:00:00'), Timestamp('2011-08-26 06:00:00'), Timestamp('2011-08-26 07:00:00'), Timestamp('2011-08-26 09:00:00'), Timestamp('2011-08-26 11:00:00'), Timestamp('2011-08-26 14:00:00'), Timestamp('2011-08-29 13:00:00'), Timestamp('2011-08-29 14:00:00'), Timestamp('2011-08-30 12:00:00'), Timestamp('2011-08-30 20:00:00'), Timestamp('2011-08-30 22:00:00'), Timestamp('2011-08-30 23:00:00'), Timestamp('2011-08-31 00:00:00'), Timestamp('2011-08-31 01:00:00'), Timestamp('2011-08-31 02:00:00'), Timestamp('2011-08-31 03:00:00'), Timestamp('2011-08-31 04:00:00'), Timestamp('2011-08-31 06:00:00'), Timestamp('2011-08-31 07:00:00'), Timestamp('2011-08-31 08:00:00'), Timestamp('2011-08-31 22:00:00'), Timestamp('2011-09-20 19:00:00'), Timestamp('2011-09-20 20:00:00'), Timestamp('2011-09-20 21:00:00'), Timestamp('2011-09-20 22:00:00'), Timestamp('2011-09-20 23:00:00'), Timestamp('2011-09-21 00:00:00'), Timestamp('2011-09-21 01:00:00'), Timestamp('2011-09-21 02:00:00'), Timestamp('2011-09-21 10:00:00'), Timestamp('2011-09-21 19:00:00'), Timestamp('2011-09-21 20:00:00'), Timestamp('2011-09-21 22:00:00'), Timestamp('2011-09-22 23:00:00'), Timestamp('2011-09-23 01:00:00'), Timestamp('2011-09-23 03:00:00'), Timestamp('2011-09-23 04:00:00'), Timestamp('2011-09-23 05:00:00'), Timestamp('2011-09-23 16:00:00'), Timestamp('2011-09-23 17:00:00'), Timestamp('2011-09-23 18:00:00'), Timestamp('2011-09-23 20:00:00'), Timestamp('2011-09-24 03:00:00'), Timestamp('2011-09-24 13:00:00'), Timestamp('2011-09-24 19:00:00'), Timestamp('2011-09-24 20:00:00'), Timestamp('2011-09-24 22:00:00'), Timestamp('2011-09-25 00:00:00'), Timestamp('2011-09-25 02:00:00'), Timestamp('2011-09-25 03:00:00'), Timestamp('2011-09-25 08:00:00'), Timestamp('2011-09-25 09:00:00'), Timestamp('2011-09-25 10:00:00'), Timestamp('2011-09-25 12:00:00'), Timestamp('2011-09-25 13:00:00'), Timestamp('2011-09-25 14:00:00'), Timestamp('2011-09-25 15:00:00'), Timestamp('2011-09-25 16:00:00'), Timestamp('2011-09-25 17:00:00'), Timestamp('2011-09-25 18:00:00'), Timestamp('2011-09-26 00:00:00'), Timestamp('2011-09-26 03:00:00'), Timestamp('2011-09-26 05:00:00'), Timestamp('2011-09-26 07:00:00'), Timestamp('2011-09-26 08:00:00'), Timestamp('2011-09-27 03:00:00'), Timestamp('2011-09-27 20:00:00'), Timestamp('2011-09-27 21:00:00'), Timestamp('2011-09-28 00:00:00'), Timestamp('2011-09-28 01:00:00'), Timestamp('2011-09-28 04:00:00'), Timestamp('2011-09-28 05:00:00'), Timestamp('2011-09-28 10:00:00'), Timestamp('2011-09-28 12:00:00'), Timestamp('2011-09-29 08:00:00'), Timestamp('2011-09-29 21:00:00'), Timestamp('2011-09-29 22:00:00'), Timestamp('2011-09-30 10:00:00'), Timestamp('2011-10-22 05:00:00'), Timestamp('2011-10-22 06:00:00'), Timestamp('2011-10-22 08:00:00'), Timestamp('2011-10-22 13:00:00'), Timestamp('2011-10-22 19:00:00'), Timestamp('2011-10-22 20:00:00'), Timestamp('2011-10-22 21:00:00'), Timestamp('2011-10-22 22:00:00'), Timestamp('2011-10-22 23:00:00'), Timestamp('2011-10-23 00:00:00'), Timestamp('2011-10-23 01:00:00'), Timestamp('2011-10-23 03:00:00'), Timestamp('2011-10-23 04:00:00'), Timestamp('2011-10-23 05:00:00'), Timestamp('2011-10-23 09:00:00'), Timestamp('2011-10-23 19:00:00'), Timestamp('2011-10-24 00:00:00'), Timestamp('2011-10-24 04:00:00'), Timestamp('2011-10-24 05:00:00'), Timestamp('2011-10-24 19:00:00'), Timestamp('2011-10-25 03:00:00'), Timestamp('2011-10-25 08:00:00'), Timestamp('2011-10-26 14:00:00'), Timestamp('2011-10-26 15:00:00'), Timestamp('2011-10-26 19:00:00'), Timestamp('2011-10-26 20:00:00'), Timestamp('2011-10-26 21:00:00'), Timestamp('2011-10-27 00:00:00'), Timestamp('2011-10-27 01:00:00'), Timestamp('2011-10-27 02:00:00'), Timestamp('2011-10-27 03:00:00'), Timestamp('2011-10-27 04:00:00'), Timestamp('2011-10-27 06:00:00'), Timestamp('2011-10-27 14:00:00'), Timestamp('2011-10-30 07:00:00'), Timestamp('2011-10-30 20:00:00'), Timestamp('2011-10-30 21:00:00'), Timestamp('2011-10-30 22:00:00'), Timestamp('2011-10-30 23:00:00'), Timestamp('2011-10-31 00:00:00'), Timestamp('2011-10-31 01:00:00'), Timestamp('2011-10-31 02:00:00'), Timestamp('2011-10-31 04:00:00'), Timestamp('2011-10-31 05:00:00'), Timestamp('2011-10-31 06:00:00'), Timestamp('2011-10-31 07:00:00'), Timestamp('2011-10-31 08:00:00'), Timestamp('2011-11-21 00:00:00'), Timestamp('2011-11-21 05:00:00'), Timestamp('2011-11-21 06:00:00'), Timestamp('2011-11-21 08:00:00'), Timestamp('2011-11-21 10:00:00'), Timestamp('2011-11-22 09:00:00'), Timestamp('2011-11-22 10:00:00'), Timestamp('2011-11-22 15:00:00'), Timestamp('2011-11-22 16:00:00'), Timestamp('2011-11-22 18:00:00'), Timestamp('2011-11-23 06:00:00'), Timestamp('2011-11-24 09:00:00'), Timestamp('2011-11-24 10:00:00'), Timestamp('2011-11-25 01:00:00'), Timestamp('2011-11-25 05:00:00'), Timestamp('2011-11-25 07:00:00'), Timestamp('2011-11-25 09:00:00'), Timestamp('2011-11-25 19:00:00'), Timestamp('2011-11-25 21:00:00'), Timestamp('2011-11-26 03:00:00'), Timestamp('2011-11-26 04:00:00'), Timestamp('2011-11-26 10:00:00'), Timestamp('2011-11-26 12:00:00'), Timestamp('2011-11-26 13:00:00'), Timestamp('2011-11-26 20:00:00'), Timestamp('2011-11-26 21:00:00'), Timestamp('2011-11-26 22:00:00'), Timestamp('2011-11-26 23:00:00'), Timestamp('2011-11-27 00:00:00'), Timestamp('2011-11-27 01:00:00'), Timestamp('2011-11-27 02:00:00'), Timestamp('2011-11-27 03:00:00'), Timestamp('2011-11-28 05:00:00'), Timestamp('2011-11-28 07:00:00'), Timestamp('2011-11-28 08:00:00'), Timestamp('2011-11-28 13:00:00'), Timestamp('2011-11-28 14:00:00'), Timestamp('2011-11-29 00:00:00'), Timestamp('2011-11-29 02:00:00'), Timestamp('2011-11-29 03:00:00'), Timestamp('2011-12-20 01:00:00'), Timestamp('2011-12-20 02:00:00'), Timestamp('2011-12-20 03:00:00'), Timestamp('2011-12-20 05:00:00'), Timestamp('2011-12-20 06:00:00'), Timestamp('2011-12-20 07:00:00'), Timestamp('2011-12-20 09:00:00'), Timestamp('2011-12-20 15:00:00'), Timestamp('2011-12-20 16:00:00'), Timestamp('2011-12-20 19:00:00'), Timestamp('2011-12-20 20:00:00'), Timestamp('2011-12-20 22:00:00'), Timestamp('2011-12-20 23:00:00'), Timestamp('2011-12-21 02:00:00'), Timestamp('2011-12-21 03:00:00'), Timestamp('2011-12-21 04:00:00'), Timestamp('2011-12-21 06:00:00'), Timestamp('2011-12-21 08:00:00'), Timestamp('2011-12-22 05:00:00'), Timestamp('2011-12-22 06:00:00'), Timestamp('2011-12-22 07:00:00'), Timestamp('2011-12-22 08:00:00'), Timestamp('2011-12-22 11:00:00'), Timestamp('2011-12-22 12:00:00'), Timestamp('2011-12-22 13:00:00'), Timestamp('2011-12-22 14:00:00'), Timestamp('2011-12-22 15:00:00'), Timestamp('2011-12-22 16:00:00'), Timestamp('2011-12-22 19:00:00'), Timestamp('2011-12-22 20:00:00'), Timestamp('2011-12-22 21:00:00'), Timestamp('2011-12-22 23:00:00'), Timestamp('2011-12-24 01:00:00'), Timestamp('2011-12-24 22:00:00'), Timestamp('2011-12-24 23:00:00'), Timestamp('2011-12-25 03:00:00'), Timestamp('2011-12-26 21:00:00'), Timestamp('2011-12-26 22:00:00'), Timestamp('2011-12-29 06:00:00'), Timestamp('2011-12-29 08:00:00'), Timestamp('2011-12-29 14:00:00'), Timestamp('2011-12-30 09:00:00'), Timestamp('2011-12-30 15:00:00'), Timestamp('2011-12-31 07:00:00'), Timestamp('2011-12-31 09:00:00'), Timestamp('2011-12-31 23:00:00'), Timestamp('2012-01-21 02:00:00'), Timestamp('2012-01-23 00:00:00'), Timestamp('2012-01-23 03:00:00'), Timestamp('2012-01-23 04:00:00'), Timestamp('2012-01-23 05:00:00'), Timestamp('2012-01-23 06:00:00'), Timestamp('2012-01-23 07:00:00'), Timestamp('2012-01-23 10:00:00'), Timestamp('2012-01-23 12:00:00'), Timestamp('2012-01-24 20:00:00'), Timestamp('2012-01-24 21:00:00'), Timestamp('2012-01-24 22:00:00'), Timestamp('2012-01-24 23:00:00'), Timestamp('2012-01-25 00:00:00'), Timestamp('2012-01-25 15:00:00'), Timestamp('2012-01-25 19:00:00'), Timestamp('2012-01-25 21:00:00'), Timestamp('2012-01-25 23:00:00'), Timestamp('2012-01-26 01:00:00'), Timestamp('2012-01-26 04:00:00'), Timestamp('2012-01-26 06:00:00'), Timestamp('2012-01-26 09:00:00'), Timestamp('2012-01-26 13:00:00'), Timestamp('2012-01-26 17:00:00'), Timestamp('2012-01-26 18:00:00'), Timestamp('2012-01-26 23:00:00'), Timestamp('2012-01-28 02:00:00'), Timestamp('2012-01-28 06:00:00'), Timestamp('2012-01-28 07:00:00'), Timestamp('2012-01-28 09:00:00'), Timestamp('2012-01-29 04:00:00'), Timestamp('2012-01-30 11:00:00'), Timestamp('2012-02-20 23:00:00'), Timestamp('2012-02-21 00:00:00'), Timestamp('2012-02-21 01:00:00'), Timestamp('2012-02-21 02:00:00'), Timestamp('2012-02-21 04:00:00'), Timestamp('2012-02-21 05:00:00'), Timestamp('2012-02-21 06:00:00'), Timestamp('2012-02-21 07:00:00'), Timestamp('2012-02-23 16:00:00'), Timestamp('2012-02-23 23:00:00'), Timestamp('2012-02-24 18:00:00'), Timestamp('2012-02-26 13:00:00'), Timestamp('2012-02-26 14:00:00'), Timestamp('2012-02-26 15:00:00'), Timestamp('2012-02-27 08:00:00'), Timestamp('2012-02-28 19:00:00'), Timestamp('2012-02-29 18:00:00'), Timestamp('2012-03-20 01:00:00'), Timestamp('2012-03-20 03:00:00'), Timestamp('2012-03-20 05:00:00'), Timestamp('2012-03-20 21:00:00'), Timestamp('2012-03-20 22:00:00'), Timestamp('2012-03-20 23:00:00'), Timestamp('2012-03-21 00:00:00'), Timestamp('2012-03-21 12:00:00'), Timestamp('2012-03-21 13:00:00'), Timestamp('2012-03-21 14:00:00'), Timestamp('2012-03-21 15:00:00'), Timestamp('2012-03-21 16:00:00'), Timestamp('2012-03-21 18:00:00'), Timestamp('2012-03-21 19:00:00'), Timestamp('2012-03-21 23:00:00'), Timestamp('2012-03-22 11:00:00'), Timestamp('2012-03-22 19:00:00'), Timestamp('2012-03-23 00:00:00'), Timestamp('2012-03-23 01:00:00'), Timestamp('2012-03-23 05:00:00'), Timestamp('2012-03-23 06:00:00'), Timestamp('2012-03-23 13:00:00'), Timestamp('2012-03-24 00:00:00'), Timestamp('2012-03-25 16:00:00'), Timestamp('2012-03-27 13:00:00'), Timestamp('2012-03-27 15:00:00'), Timestamp('2012-03-27 16:00:00'), Timestamp('2012-03-27 17:00:00'), Timestamp('2012-03-27 19:00:00'), Timestamp('2012-03-30 11:00:00'), Timestamp('2012-03-30 12:00:00'), Timestamp('2012-03-30 13:00:00'), Timestamp('2012-03-30 14:00:00'), Timestamp('2012-03-30 15:00:00'), Timestamp('2012-03-30 23:00:00'), Timestamp('2012-03-31 12:00:00'), Timestamp('2012-04-20 05:00:00'), Timestamp('2012-04-20 06:00:00'), Timestamp('2012-04-20 07:00:00'), Timestamp('2012-04-20 08:00:00'), Timestamp('2012-04-24 18:00:00'), Timestamp('2012-04-25 00:00:00'), Timestamp('2012-04-25 01:00:00'), Timestamp('2012-04-25 02:00:00'), Timestamp('2012-04-25 05:00:00'), Timestamp('2012-04-25 06:00:00'), Timestamp('2012-04-25 07:00:00'), Timestamp('2012-04-25 09:00:00'), Timestamp('2012-04-25 10:00:00'), Timestamp('2012-04-25 22:00:00'), Timestamp('2012-04-26 00:00:00'), Timestamp('2012-04-27 08:00:00'), Timestamp('2012-04-28 09:00:00'), Timestamp('2012-04-28 12:00:00'), Timestamp('2012-04-28 13:00:00'), Timestamp('2012-04-28 18:00:00'), Timestamp('2012-04-28 20:00:00'), Timestamp('2012-04-29 05:00:00'), Timestamp('2012-04-29 11:00:00'), Timestamp('2012-04-29 14:00:00'), Timestamp('2012-04-29 22:00:00'), Timestamp('2012-04-29 23:00:00'), Timestamp('2012-05-20 01:00:00'), Timestamp('2012-05-20 02:00:00'), Timestamp('2012-05-22 11:00:00'), Timestamp('2012-05-22 13:00:00'), Timestamp('2012-05-22 17:00:00'), Timestamp('2012-05-23 07:00:00'), Timestamp('2012-05-23 08:00:00'), Timestamp('2012-05-23 09:00:00'), Timestamp('2012-05-23 11:00:00'), Timestamp('2012-05-23 15:00:00'), Timestamp('2012-05-23 21:00:00'), Timestamp('2012-05-24 02:00:00'), Timestamp('2012-05-25 02:00:00'), Timestamp('2012-05-25 04:00:00'), Timestamp('2012-05-27 22:00:00'), Timestamp('2012-05-28 08:00:00'), Timestamp('2012-05-28 09:00:00'), Timestamp('2012-05-28 10:00:00'), Timestamp('2012-05-29 23:00:00'), Timestamp('2012-05-30 12:00:00'), Timestamp('2012-05-30 13:00:00'), Timestamp('2012-05-31 04:00:00'), Timestamp('2012-06-20 07:00:00'), Timestamp('2012-06-20 09:00:00'), Timestamp('2012-06-20 15:00:00'), Timestamp('2012-06-20 17:00:00'), Timestamp('2012-06-20 18:00:00'), Timestamp('2012-06-21 03:00:00'), Timestamp('2012-06-21 08:00:00'), Timestamp('2012-06-21 13:00:00'), Timestamp('2012-06-21 17:00:00'), Timestamp('2012-06-22 02:00:00'), Timestamp('2012-06-22 03:00:00'), Timestamp('2012-06-22 04:00:00'), Timestamp('2012-06-22 06:00:00'), Timestamp('2012-06-22 23:00:00'), Timestamp('2012-06-23 00:00:00'), Timestamp('2012-06-23 23:00:00'), Timestamp('2012-06-24 00:00:00'), Timestamp('2012-06-24 02:00:00'), Timestamp('2012-06-24 04:00:00'), Timestamp('2012-06-24 08:00:00'), Timestamp('2012-06-24 09:00:00'), Timestamp('2012-06-24 10:00:00'), Timestamp('2012-06-28 01:00:00'), Timestamp('2012-06-29 15:00:00'), Timestamp('2012-06-29 16:00:00'), Timestamp('2012-06-29 18:00:00'), Timestamp('2012-06-30 02:00:00'), Timestamp('2012-06-30 03:00:00'), Timestamp('2012-06-30 04:00:00'), Timestamp('2012-06-30 18:00:00'), Timestamp('2012-07-21 23:00:00'), Timestamp('2012-07-22 04:00:00'), Timestamp('2012-07-22 05:00:00'), Timestamp('2012-07-22 07:00:00'), Timestamp('2012-07-22 08:00:00'), Timestamp('2012-07-22 09:00:00'), Timestamp('2012-07-22 10:00:00'), Timestamp('2012-07-22 11:00:00'), Timestamp('2012-07-23 10:00:00'), Timestamp('2012-07-24 09:00:00'), Timestamp('2012-07-25 10:00:00'), Timestamp('2012-07-25 11:00:00'), Timestamp('2012-07-25 12:00:00'), Timestamp('2012-07-25 17:00:00'), Timestamp('2012-07-27 00:00:00'), Timestamp('2012-07-27 04:00:00'), Timestamp('2012-07-27 05:00:00'), Timestamp('2012-07-27 06:00:00'), Timestamp('2012-07-27 10:00:00'), Timestamp('2012-07-27 23:00:00'), Timestamp('2012-07-28 02:00:00'), Timestamp('2012-07-28 03:00:00'), Timestamp('2012-07-28 19:00:00'), Timestamp('2012-07-29 10:00:00'), Timestamp('2012-07-29 23:00:00'), Timestamp('2012-07-30 01:00:00'), Timestamp('2012-07-30 02:00:00'), Timestamp('2012-07-30 03:00:00'), Timestamp('2012-07-30 04:00:00'), Timestamp('2012-07-30 09:00:00'), Timestamp('2012-07-31 10:00:00'), Timestamp('2012-07-31 11:00:00'), Timestamp('2012-07-31 12:00:00'), Timestamp('2012-08-20 05:00:00'), Timestamp('2012-08-20 09:00:00'), Timestamp('2012-08-20 21:00:00'), Timestamp('2012-08-20 22:00:00'), Timestamp('2012-08-20 23:00:00'), Timestamp('2012-08-21 03:00:00'), Timestamp('2012-08-21 04:00:00'), Timestamp('2012-08-21 09:00:00'), Timestamp('2012-08-21 11:00:00'), Timestamp('2012-08-21 12:00:00'), Timestamp('2012-08-21 13:00:00'), Timestamp('2012-08-21 15:00:00'), Timestamp('2012-08-21 16:00:00'), Timestamp('2012-08-21 20:00:00'), Timestamp('2012-08-21 21:00:00'), Timestamp('2012-08-21 22:00:00'), Timestamp('2012-08-21 23:00:00'), Timestamp('2012-08-22 01:00:00'), Timestamp('2012-08-22 02:00:00'), Timestamp('2012-08-22 03:00:00'), Timestamp('2012-08-22 05:00:00'), Timestamp('2012-08-22 06:00:00'), Timestamp('2012-08-22 07:00:00'), Timestamp('2012-08-22 09:00:00'), Timestamp('2012-08-22 12:00:00'), Timestamp('2012-08-22 19:00:00'), Timestamp('2012-08-22 21:00:00'), Timestamp('2012-08-22 22:00:00'), Timestamp('2012-08-22 23:00:00'), Timestamp('2012-08-23 00:00:00'), Timestamp('2012-08-23 01:00:00'), Timestamp('2012-08-23 02:00:00'), Timestamp('2012-08-23 04:00:00'), Timestamp('2012-08-23 05:00:00'), Timestamp('2012-08-23 09:00:00'), Timestamp('2012-08-23 12:00:00'), Timestamp('2012-08-23 23:00:00'), Timestamp('2012-08-24 00:00:00'), Timestamp('2012-08-24 01:00:00'), Timestamp('2012-08-24 02:00:00'), Timestamp('2012-08-24 03:00:00'), Timestamp('2012-08-24 04:00:00'), Timestamp('2012-08-24 05:00:00'), Timestamp('2012-08-24 06:00:00'), Timestamp('2012-08-24 07:00:00'), Timestamp('2012-08-24 08:00:00'), Timestamp('2012-08-24 09:00:00'), Timestamp('2012-08-24 10:00:00'), Timestamp('2012-08-24 22:00:00'), Timestamp('2012-08-25 00:00:00'), Timestamp('2012-08-25 01:00:00'), Timestamp('2012-08-27 00:00:00'), Timestamp('2012-08-27 04:00:00'), Timestamp('2012-08-27 05:00:00'), Timestamp('2012-08-27 06:00:00'), Timestamp('2012-08-27 07:00:00'), Timestamp('2012-08-27 12:00:00'), Timestamp('2012-08-28 22:00:00'), Timestamp('2012-08-28 23:00:00'), Timestamp('2012-08-29 00:00:00'), Timestamp('2012-08-29 11:00:00'), Timestamp('2012-08-29 12:00:00'), Timestamp('2012-08-29 13:00:00'), Timestamp('2012-08-29 20:00:00'), Timestamp('2012-08-29 22:00:00'), Timestamp('2012-08-29 23:00:00'), Timestamp('2012-08-30 00:00:00'), Timestamp('2012-08-30 01:00:00'), Timestamp('2012-08-30 02:00:00'), Timestamp('2012-08-30 03:00:00'), Timestamp('2012-08-30 04:00:00'), Timestamp('2012-08-30 05:00:00'), Timestamp('2012-08-30 07:00:00'), Timestamp('2012-08-30 08:00:00'), Timestamp('2012-08-30 09:00:00'), Timestamp('2012-08-30 10:00:00'), Timestamp('2012-08-30 22:00:00'), Timestamp('2012-08-31 08:00:00'), Timestamp('2012-08-31 09:00:00'), Timestamp('2012-09-20 00:00:00'), Timestamp('2012-09-20 03:00:00'), Timestamp('2012-09-20 06:00:00'), Timestamp('2012-09-20 11:00:00'), Timestamp('2012-09-21 00:00:00'), Timestamp('2012-09-21 01:00:00'), Timestamp('2012-09-21 02:00:00'), Timestamp('2012-09-21 04:00:00'), Timestamp('2012-09-21 05:00:00'), Timestamp('2012-09-21 07:00:00'), Timestamp('2012-09-23 22:00:00'), Timestamp('2012-09-24 05:00:00'), Timestamp('2012-09-24 06:00:00'), Timestamp('2012-09-24 14:00:00'), Timestamp('2012-09-24 15:00:00'), Timestamp('2012-09-24 17:00:00'), Timestamp('2012-09-27 03:00:00'), Timestamp('2012-09-27 05:00:00'), Timestamp('2012-09-27 07:00:00'), Timestamp('2012-09-27 09:00:00'), Timestamp('2012-09-27 13:00:00'), Timestamp('2012-09-27 15:00:00'), Timestamp('2012-09-28 01:00:00'), Timestamp('2012-09-28 05:00:00'), Timestamp('2012-09-28 07:00:00'), Timestamp('2012-09-28 11:00:00'), Timestamp('2012-09-30 00:00:00'), Timestamp('2012-09-30 01:00:00'), Timestamp('2012-09-30 02:00:00'), Timestamp('2012-09-30 05:00:00'), Timestamp('2012-09-30 07:00:00'), Timestamp('2012-09-30 21:00:00'), Timestamp('2012-09-30 22:00:00'), Timestamp('2012-10-20 04:00:00'), Timestamp('2012-10-20 05:00:00'), Timestamp('2012-10-20 06:00:00'), Timestamp('2012-10-20 07:00:00'), Timestamp('2012-10-20 14:00:00'), Timestamp('2012-10-20 15:00:00'), Timestamp('2012-10-20 23:00:00'), Timestamp('2012-10-21 06:00:00'), Timestamp('2012-10-21 07:00:00'), Timestamp('2012-10-21 08:00:00'), Timestamp('2012-10-21 22:00:00'), Timestamp('2012-10-21 23:00:00'), Timestamp('2012-10-22 00:00:00'), Timestamp('2012-10-22 01:00:00'), Timestamp('2012-10-22 02:00:00'), Timestamp('2012-10-22 03:00:00'), Timestamp('2012-10-22 04:00:00'), Timestamp('2012-10-22 08:00:00'), Timestamp('2012-10-22 10:00:00'), Timestamp('2012-10-22 12:00:00'), Timestamp('2012-10-23 10:00:00'), Timestamp('2012-10-23 11:00:00'), Timestamp('2012-10-23 13:00:00'), Timestamp('2012-10-23 17:00:00'), Timestamp('2012-10-23 21:00:00'), Timestamp('2012-10-24 01:00:00'), Timestamp('2012-10-24 02:00:00'), Timestamp('2012-10-24 05:00:00'), Timestamp('2012-10-24 10:00:00'), Timestamp('2012-10-24 11:00:00'), Timestamp('2012-10-24 13:00:00'), Timestamp('2012-10-24 17:00:00'), Timestamp('2012-10-24 18:00:00'), Timestamp('2012-10-25 01:00:00'), Timestamp('2012-10-25 02:00:00'), Timestamp('2012-10-25 13:00:00'), Timestamp('2012-10-26 00:00:00'), Timestamp('2012-11-20 09:00:00'), Timestamp('2012-11-20 12:00:00'), Timestamp('2012-11-20 13:00:00'), Timestamp('2012-11-20 19:00:00'), Timestamp('2012-11-20 20:00:00'), Timestamp('2012-11-20 21:00:00'), Timestamp('2012-11-20 22:00:00'), Timestamp('2012-11-21 00:00:00'), Timestamp('2012-11-21 10:00:00'), Timestamp('2012-11-21 21:00:00'), Timestamp('2012-11-21 22:00:00'), Timestamp('2012-11-21 23:00:00'), Timestamp('2012-11-22 09:00:00'), Timestamp('2012-11-22 12:00:00'), Timestamp('2012-11-22 13:00:00'), Timestamp('2012-11-22 14:00:00'), Timestamp('2012-11-22 15:00:00'), Timestamp('2012-11-22 16:00:00'), Timestamp('2012-11-22 17:00:00'), Timestamp('2012-11-22 18:00:00'), Timestamp('2012-11-22 19:00:00'), Timestamp('2012-11-22 20:00:00'), Timestamp('2012-11-22 22:00:00'), Timestamp('2012-11-22 23:00:00'), Timestamp('2012-11-23 00:00:00'), Timestamp('2012-11-23 03:00:00'), Timestamp('2012-11-23 05:00:00'), Timestamp('2012-11-23 06:00:00'), Timestamp('2012-11-23 07:00:00'), Timestamp('2012-11-23 18:00:00'), Timestamp('2012-11-25 03:00:00'), Timestamp('2012-11-25 04:00:00'), Timestamp('2012-11-25 19:00:00'), Timestamp('2012-11-25 20:00:00'), Timestamp('2012-11-25 21:00:00'), Timestamp('2012-11-25 22:00:00'), Timestamp('2012-11-26 00:00:00'), Timestamp('2012-11-26 01:00:00'), Timestamp('2012-11-26 02:00:00'), Timestamp('2012-11-26 03:00:00'), Timestamp('2012-11-26 04:00:00'), Timestamp('2012-11-26 06:00:00'), Timestamp('2012-11-26 07:00:00'), Timestamp('2012-11-26 08:00:00'), Timestamp('2012-11-26 10:00:00'), Timestamp('2012-11-26 14:00:00'), Timestamp('2012-11-26 16:00:00'), Timestamp('2012-11-26 17:00:00'), Timestamp('2012-11-26 19:00:00'), Timestamp('2012-11-26 20:00:00'), Timestamp('2012-11-26 21:00:00'), Timestamp('2012-11-26 22:00:00'), Timestamp('2012-11-29 02:00:00'), Timestamp('2012-11-29 05:00:00'), Timestamp('2012-11-29 06:00:00'), Timestamp('2012-11-29 07:00:00'), Timestamp('2012-11-29 09:00:00'), Timestamp('2012-11-29 23:00:00'), Timestamp('2012-11-30 02:00:00'), Timestamp('2012-11-30 03:00:00'), Timestamp('2012-11-30 04:00:00'), Timestamp('2012-11-30 05:00:00'), Timestamp('2012-11-30 06:00:00'), Timestamp('2012-11-30 07:00:00'), Timestamp('2012-11-30 10:00:00'), Timestamp('2012-11-30 12:00:00'), Timestamp('2012-11-30 18:00:00'), Timestamp('2012-11-30 19:00:00'), Timestamp('2012-11-30 20:00:00'), Timestamp('2012-11-30 22:00:00'), Timestamp('2012-12-20 01:00:00'), Timestamp('2012-12-20 02:00:00'), Timestamp('2012-12-20 06:00:00'), Timestamp('2012-12-20 07:00:00'), Timestamp('2012-12-20 08:00:00'), Timestamp('2012-12-20 09:00:00'), Timestamp('2012-12-20 10:00:00'), Timestamp('2012-12-23 05:00:00'), Timestamp('2012-12-23 19:00:00'), Timestamp('2012-12-23 20:00:00'), Timestamp('2012-12-23 21:00:00'), Timestamp('2012-12-23 23:00:00'), Timestamp('2012-12-24 00:00:00'), Timestamp('2012-12-24 01:00:00'), Timestamp('2012-12-24 02:00:00'), Timestamp('2012-12-24 03:00:00'), Timestamp('2012-12-24 06:00:00'), Timestamp('2012-12-24 07:00:00'), Timestamp('2012-12-24 08:00:00'), Timestamp('2012-12-24 10:00:00'), Timestamp('2012-12-24 22:00:00'), Timestamp('2012-12-24 23:00:00'), Timestamp('2012-12-25 08:00:00'), Timestamp('2012-12-25 09:00:00'), Timestamp('2012-12-25 10:00:00'), Timestamp('2012-12-28 15:00:00'), Timestamp('2012-12-29 00:00:00'), Timestamp('2012-12-29 02:00:00'), Timestamp('2012-12-29 03:00:00'), Timestamp('2012-12-29 08:00:00'), Timestamp('2012-12-29 09:00:00'), Timestamp('2012-12-29 12:00:00'), Timestamp('2012-12-29 13:00:00'), Timestamp('2012-12-29 15:00:00'), Timestamp('2012-12-29 23:00:00'), Timestamp('2012-12-30 19:00:00')] not in index\""
     ]
    }
   ],
   "source": [
    "train.loc[]"
   ]
  },
  {
   "cell_type": "code",
   "execution_count": 20,
   "id": "6cf83e58-47c2-4c4d-b4ce-cb0b85f68187",
   "metadata": {
    "tags": []
   },
   "outputs": [
    {
     "data": {
      "text/plain": [
       "DatetimeIndex(['2011-01-01 00:00:00', '2011-01-01 01:00:00',\n",
       "               '2011-01-01 02:00:00', '2011-01-01 03:00:00',\n",
       "               '2011-01-01 04:00:00', '2011-01-01 06:00:00',\n",
       "               '2011-01-01 07:00:00', '2011-01-01 08:00:00',\n",
       "               '2011-01-01 09:00:00', '2011-01-03 19:00:00',\n",
       "               ...\n",
       "               '2012-12-29 00:00:00', '2012-12-29 02:00:00',\n",
       "               '2012-12-29 03:00:00', '2012-12-29 08:00:00',\n",
       "               '2012-12-29 09:00:00', '2012-12-29 12:00:00',\n",
       "               '2012-12-29 13:00:00', '2012-12-29 15:00:00',\n",
       "               '2012-12-29 23:00:00', '2012-12-30 19:00:00'],\n",
       "              dtype='datetime64[ns]', name='regdate', length=2180, freq=None)"
      ]
     },
     "execution_count": 20,
     "metadata": {},
     "output_type": "execute_result"
    }
   ],
   "source": [
    "train_test_w0['windspeed'].index"
   ]
  },
  {
   "cell_type": "markdown",
   "id": "61b7a0f9-8b7f-429a-8b11-b0f42e995750",
   "metadata": {},
   "source": [
    "랜덤포레스트 굿"
   ]
  },
  {
   "cell_type": "code",
   "execution_count": null,
   "id": "240d1f7c-bef1-4647-8d96-09693bb06182",
   "metadata": {
    "tags": []
   },
   "outputs": [],
   "source": [
    "X_train = ws1.drop(['windspeed', 'casual', 'registered', 'regcount'], axis=1)\n",
    "X_test  = ws0.drop(['windspeed', 'casual', 'registered', 'regcount'], axis=1)\n",
    "y_train = ws1['windspeed']\n",
    "print(X_train.shape, X_test.shape, y_train.shape)\n",
    "\n",
    "model = RandomForestRegressor(random_state=0)\n",
    "model.fit(X_train, y_train)\n",
    "y_pred = model.predict(X_test)\n",
    "y_pred.shape"
   ]
  },
  {
   "cell_type": "code",
   "execution_count": null,
   "id": "02ce0fc9-12c2-41c1-aeec-86128b4abb5d",
   "metadata": {
    "tags": []
   },
   "outputs": [],
   "source": [
    "plt.hist(y_pred)\n",
    "plt.show()"
   ]
  },
  {
   "cell_type": "code",
   "execution_count": null,
   "id": "bcdb5d9e-4fd0-4179-9697-6464313dd476",
   "metadata": {
    "tags": []
   },
   "outputs": [],
   "source": [
    "ws0['windspeed'] = y_pred\n",
    "train = pd.concat([ws0,ws1]).sort_index()\n",
    "train"
   ]
  },
  {
   "cell_type": "markdown",
   "id": "4c646011-c812-4fcc-878e-3111291b6e9a",
   "metadata": {},
   "source": [
    "# 최종 컬럼 선정\n",
    "<pre>\n",
    "타겟(1): 'casual' + 'registered'\n",
    "   or\n",
    "타겟(2): 'regcount'\n",
    "\n",
    "삭제 컬럼: 'd',     'holiday', 'workingday',      'atemp',  'season'\n",
    "\n",
    "시간 컬럼: 'y', 'm', 'h', 'w'\n",
    "\n",
    "날짜 컬럼: 'day_type'\n",
    "\n",
    "날씨 컬럼: 'season', 'weather', 'temp', 'humidity', 'windspeed'\n",
    "       \n",
    "       \n",
    "다중공선: 분석피쳐중 상관계수가 높은 컬럼\n",
    "'registered' <-> 'regcount' : regcount 삭제\n",
    "'temp' <-> 'atemp' : atemp 삭제\n",
    "\n",
    "'w' <-> 'day_type' : 나중에 고려대상\n",
    "'season' <-> 'm' : season 삭제\n",
    "\n",
    "결론\n",
    "['casual', 'registered']\n",
    "['m', 'h', 'y', 'w', 'weather', 'temp', 'humidity', 'windspeed', 'day_type']"
   ]
  },
  {
   "cell_type": "markdown",
   "id": "bf01631f-52e7-4344-834c-534b646a6859",
   "metadata": {},
   "source": [
    "# 학습 ㄱㄱ"
   ]
  },
  {
   "cell_type": "markdown",
   "id": "c5f38932-847e-4af6-8aa1-cce32f8d52f4",
   "metadata": {},
   "source": [
    "https://www.latex4technics.com/?note=CMEL1Z\n",
    "\n",
    "*  $ MSE = \\frac{\\mathrm{1} }{\\mathrm{n}} \\sum\\nolimits_{i=1}^{n} (Y_i - \\hat{Y_i})^{2}$\n",
    "\n",
    "*  $ MAE = \\frac{\\mathrm{1} }{\\mathrm{n}} \\sum\\nolimits_{i=1}^{n} |Y_i - \\hat{Y_i}|$\n",
    "\n",
    "*  $ RMSE = \\sqrt{\\frac{1}{n}\\Sigma_{i=1}^{n}{\\Big(\\frac{Y_i - \\hat{Y_i}}{N}\\Big)^2}}$\n",
    "\n",
    "*  $ RMSLE = \\sqrt{\\frac{1}{n}\\Sigma_{i=1}^{n}{\\Big(\\frac{log(Y_i+1) - log(\\hat{Y_i}+1)}{N}\\Big)^2}}$"
   ]
  },
  {
   "cell_type": "code",
   "execution_count": null,
   "id": "bfbac55b-32d1-453c-9e96-15481179ceb6",
   "metadata": {
    "tags": []
   },
   "outputs": [],
   "source": [
    "# !pip install xgboost\n",
    "# !pip install lightgmb"
   ]
  },
  {
   "cell_type": "code",
   "execution_count": null,
   "id": "099e1b3c-753d-4e01-a542-a5597823de6e",
   "metadata": {
    "tags": []
   },
   "outputs": [],
   "source": [
    "from sklearn.model_selection import train_test_split\n",
    "from sklearn.tree import DecisionTreeRegressor\n",
    "from sklearn.linear_model import LinearRegression\n",
    "from sklearn.metrics import accuracy_score, mean_squared_error\n",
    "\n",
    "# 추가\n",
    "from sklearn.ensemble import AdaBoostRegressor, VotingRegressor\n",
    "from xgboost import XGBRegressor\n",
    "from lightgbm import LGBMRegressor"
   ]
  },
  {
   "cell_type": "code",
   "execution_count": null,
   "id": "8495cd66-5253-45e4-a7ba-e3ed6083c07a",
   "metadata": {},
   "outputs": [],
   "source": [
    "X = train[['m', 'h', 'y', 'w', 'weather', 'temp', 'humidity', 'windspeed', 'day_type']]\n",
    "Y = train[['regcount', 'registered', 'casual']]\n",
    "\n",
    "X_train, X_test, Y_train, Y_test = train_test_split(X, Y, random_state=0, test_size=0.2)\n",
    "dtr = DecisionTreeRegressor(random_state=0)\n",
    "dtr.fit(X_train, Y_train)\n",
    "dtr_pred = dtr.predict(X_test)\n",
    "\n",
    "dtr_mse_regcount = mean_squared_error(Y_test['regcount'], dtr_pred.T[0])\n",
    "dtr_mse_registered = mean_squared_error(Y_test['registered'], dtr_pred.T[1])\n",
    "dtr_mse_casual = mean_squared_error(Y_test['casual'], dtr_pred.T[2])\n",
    "\n",
    "print(dtr_mse_regcount, dtr_mse_registered, dtr_mse_casual)"
   ]
  },
  {
   "cell_type": "code",
   "execution_count": null,
   "id": "7f87dd07-6238-4adb-b202-309738cfeec6",
   "metadata": {
    "tags": []
   },
   "outputs": [],
   "source": [
    "X = train[['m', 'h', 'y', 'w', 'weather', 'temp', 'humidity', 'windspeed', 'day_type']]\n",
    "y_list = [train['regcount'], train['registered'], train['casual']]\n",
    "\n",
    "for i, y in enumerate(y_list):\n",
    "    X_train, X_test, y_train, y_test = train_test_split(X, y, random_state=0, test_size=0.2)\n",
    "    dtr = DecisionTreeRegressor(random_state=0)\n",
    "    dtr.fit(X_train, y_train)\n",
    "    y_pred = dtr.predict(X_test)\n",
    "\n",
    "    mse = mean_squared_error(y_test, y_pred)\n",
    "    \n",
    "    print(y_list[i].name)\n",
    "    print('MSE', mse)\n",
    "    print('RMSE', np.sqrt(mse))\n",
    "    print()"
   ]
  },
  {
   "cell_type": "code",
   "execution_count": null,
   "id": "58d20a0c-891e-4a3f-bee7-2f77a58317e9",
   "metadata": {
    "tags": []
   },
   "outputs": [],
   "source": [
    "X = train[['m', 'h', 'y', 'w', 'weather', 'temp', 'humidity', 'windspeed', 'day_type']]\n",
    "y_list = [train['regcount'], train['registered'], train['casual']]\n",
    "model_list = [\n",
    "    (\"DTR\"   , DecisionTreeRegressor(random_state=0)),\n",
    "    (\"LR\"    , LinearRegression()                   ),\n",
    "    (\"ABOOST\", AdaBoostRegressor()                  ),\n",
    "    (\"XGB\"   , XGBRegressor()                       ),  \n",
    "    (\"LGBM\"  , LGBMRegressor()                      ),\n",
    "    (\"VR\"    , VotingRegressor([(\"XGB\", XGBRegressor()), (\"LGBM\", LGBMRegressor())]) ) \n",
    "]\n",
    "\n",
    "res_list = []\n",
    "for model_tuple in model_list:\n",
    "    # print('model :', model_tuple[0])\n",
    "    for i, y in enumerate(y_list):\n",
    "        X_train, X_test, y_train, y_test = train_test_split(X, y, random_state=0, test_size=0.2)\n",
    "        model = model_tuple[1]\n",
    "        model.fit(X_train, y_train)\n",
    "        y_pred = model.predict(X_test)\n",
    "\n",
    "        mse = mean_squared_error(y_test, y_pred)\n",
    "        res_list.append([model_tuple[0], y_list[i].name, mse, np.sqrt(mse)])\n",
    "    #     print(y_list[i].name)\n",
    "    #     print('MSE   : ', mse)\n",
    "    #     print('RMSE  : ', np.sqrt(mse))\n",
    "    #     print()\n",
    "    # print('-----------------------------')\n",
    "res_df = pd.DataFrame(res_list, columns=['model', 'target', 'MSE', 'RMSE'])\n",
    "res_df"
   ]
  },
  {
   "cell_type": "code",
   "execution_count": null,
   "id": "ce9baddb-bcf2-4964-a365-6bfb6042073b",
   "metadata": {
    "tags": []
   },
   "outputs": [],
   "source": [
    "res_df.pivot_table(index=['model', 'target'], values=['MSE', 'RMSE'])"
   ]
  },
  {
   "cell_type": "code",
   "execution_count": null,
   "id": "71a02265-6818-4689-90f9-cf1c4c4954d8",
   "metadata": {
    "tags": []
   },
   "outputs": [],
   "source": [
    "plt.figure(figsize=(14,6))\n",
    "\n",
    "plt.subplot(1,2,1)\n",
    "sns.barplot(res_df, x='model', y='MSE', hue='target')\n",
    "plt.title('MSE')\n",
    "\n",
    "plt.subplot(1,2,2)\n",
    "sns.barplot(res_df, x='model', y='RMSE', hue='target')\n",
    "plt.title('RMSE')\n",
    "\n",
    "plt.show()"
   ]
  },
  {
   "cell_type": "code",
   "execution_count": null,
   "id": "c35d9874-a7d6-4229-81f8-d752aed6ab6e",
   "metadata": {
    "tags": []
   },
   "outputs": [],
   "source": [
    "sc_list = [\n",
    "    ('Standard', StandardScaler()),\n",
    "    ('MinMax', MinMaxScaler()),\n",
    "    ('Robust', RobustScaler())\n",
    "]\n",
    "X = train[['m', 'h', 'y', 'w', 'weather', 'temp', 'humidity', 'windspeed', 'day_type']]\n",
    "y_list = [train['regcount'], train['registered'], train['casual']]\n",
    "model_list = [\n",
    "    (\"DTR\"   , DecisionTreeRegressor(random_state=0)),\n",
    "    (\"LR\"    , LinearRegression()                   ),\n",
    "    (\"ABOOST\", AdaBoostRegressor()                  ),\n",
    "    (\"XGB\"   , XGBRegressor()                       ),  \n",
    "    (\"LGBM\"  , LGBMRegressor()                      ),\n",
    "    (\"VR\"    , VotingRegressor([(\"XGB\", XGBRegressor()), (\"LGBM\", LGBMRegressor())]) ) \n",
    "]\n",
    "\n",
    "res_list = []\n",
    "for j, sc in enumerate(sc_list):\n",
    "    sc[1].fit(X)\n",
    "    X = sc[1].transform(X)\n",
    "    for model_tuple in model_list:\n",
    "        # print('model :', model_tuple[0])\n",
    "        for i, y in enumerate(y_list):\n",
    "            X_train, X_test, y_train, y_test = train_test_split(X, y, random_state=0, test_size=0.2)\n",
    "            model = model_tuple[1]\n",
    "            model.fit(X_train, y_train)\n",
    "            y_pred = model.predict(X_test)\n",
    "\n",
    "            mse = mean_squared_error(y_test, y_pred)\n",
    "            res_list.append([sc[0], model_tuple[0], y_list[i].name, mse, np.sqrt(mse)])\n",
    "        #     print(y_list[i].name)\n",
    "        #     print('MSE   : ', mse)\n",
    "        #     print('RMSE  : ', np.sqrt(mse))\n",
    "        #     print()\n",
    "        # print('-----------------------------')\n",
    "res_df = pd.DataFrame(res_list, columns=['Scaler', 'model', 'target', 'MSE', 'RMSE'])\n",
    "res_df"
   ]
  },
  {
   "cell_type": "code",
   "execution_count": null,
   "id": "de2b5531-8fc6-4b8d-9645-f3f7d9e06537",
   "metadata": {
    "tags": []
   },
   "outputs": [],
   "source": [
    "res_df.sort_values('MSE')"
   ]
  },
  {
   "cell_type": "code",
   "execution_count": null,
   "id": "43e3937a-dbd6-4f91-8b73-238dbd519627",
   "metadata": {},
   "outputs": [],
   "source": [
    "plt.figure(figsize=(14,6))\n",
    "\n",
    "plt.subplot(1,2,1)\n",
    "sns.barplot(res_df, x='model', y='MSE', hue='target')\n",
    "plt.title('MSE')\n",
    "\n",
    "plt.subplot(1,2,2)\n",
    "sns.barplot(res_df, x='model', y='RMSE', hue='target')\n",
    "plt.title('RMSE')\n",
    "\n",
    "plt.show()"
   ]
  }
 ],
 "metadata": {
  "kernelspec": {
   "display_name": "Python 3 (ipykernel)",
   "language": "python",
   "name": "python3"
  },
  "language_info": {
   "codemirror_mode": {
    "name": "ipython",
    "version": 3
   },
   "file_extension": ".py",
   "mimetype": "text/x-python",
   "name": "python",
   "nbconvert_exporter": "python",
   "pygments_lexer": "ipython3",
   "version": "3.8.8"
  },
  "toc-autonumbering": false,
  "toc-showmarkdowntxt": false
 },
 "nbformat": 4,
 "nbformat_minor": 5
}
