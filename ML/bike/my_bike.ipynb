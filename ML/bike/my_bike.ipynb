{
 "cells": [
  {
   "cell_type": "markdown",
   "id": "54d07e06-8f49-460b-a177-d06818c237b9",
   "metadata": {
    "tags": []
   },
   "source": [
    "BIKE"
   ]
  },
  {
   "cell_type": "markdown",
   "id": "0423a851-0eae-44fd-b72a-9ea1ce54b721",
   "metadata": {},
   "source": [
    "https://www.kaggle.com/competitions/bike-sharing-demand/\n",
    "```\n",
    "datetime - hourly date + timestamp  \n",
    "season -  1 = spring, 2 = summer, 3 = fall, 4 = winter \n",
    "holiday - whether the day is considered a holiday\n",
    "workingday - whether the day is neither a weekend nor holiday\n",
    "weather - 1: Clear, Few clouds, Partly cloudy, Partly cloudy\n",
    "2: Mist + Cloudy, Mist + Broken clouds, Mist + Few clouds, Mist\n",
    "3: Light Snow, Light Rain + Thunderstorm + Scattered clouds, Light Rain + Scattered clouds\n",
    "4: Heavy Rain + Ice Pallets + Thunderstorm + Mist, Snow + Fog \n",
    "temp - temperature in Celsius\n",
    "atemp - \"feels like\" temperature in Celsius\n",
    "humidity - relative humidity\n",
    "windspeed - wind speed\n",
    "casual - number of non-registered user rentals initiated\n",
    "registered - number of registered user rentals initiated\n",
    "count - number of total rentals\n",
    "```"
   ]
  },
  {
   "cell_type": "code",
   "execution_count": 26,
   "id": "69018977-e84b-41b6-a40e-24b62bf4bab5",
   "metadata": {
    "tags": []
   },
   "outputs": [],
   "source": [
    "import warnings\n",
    "warnings.filterwarnings(action='ignore')\n",
    "import re\n",
    "from datetime import datetime, date, time, timedelta\n",
    "from dateutil.relativedelta import relativedelta\n",
    "\n",
    "import numpy as np\n",
    "import pandas as pd\n",
    "import matplotlib.pyplot as plt\n",
    "import seaborn as sns\n",
    "sns.set()\n",
    "plt.rcParams['font.family']= 'Malgun Gothic'\n",
    "plt.rcParams['axes.unicode_minus'] = False\n",
    "# plt.rcParams['figure.figsize'] = [6.4, 4.8]"
   ]
  },
  {
   "cell_type": "markdown",
   "id": "ed678975-d223-4071-aa5e-b65afd28271f",
   "metadata": {},
   "source": [
    "<pre>\n",
    "workingday  holiday\n",
    "1           0          7412  [1]일하는날\n",
    "0           0          3163  [0]주말\n",
    "            1           311  [2]공휴일"
   ]
  },
  {
   "cell_type": "code",
   "execution_count": 4,
   "id": "9dadb02c-b1fb-4fef-819a-b990f2f814c5",
   "metadata": {
    "tags": []
   },
   "outputs": [
    {
     "name": "stdout",
     "output_type": "stream",
     "text": [
      "<class 'pandas.core.frame.DataFrame'>\n",
      "DatetimeIndex: 10886 entries, 2011-01-01 00:00:00 to 2012-12-19 23:00:00\n",
      "Data columns (total 17 columns):\n",
      " #   Column      Non-Null Count  Dtype  \n",
      "---  ------      --------------  -----  \n",
      " 0   season      10886 non-null  int64  \n",
      " 1   holiday     10886 non-null  int64  \n",
      " 2   workingday  10886 non-null  int64  \n",
      " 3   weather     10886 non-null  int64  \n",
      " 4   temp        10886 non-null  float64\n",
      " 5   atemp       10886 non-null  float64\n",
      " 6   humidity    10886 non-null  int64  \n",
      " 7   windspeed   10886 non-null  float64\n",
      " 8   casual      10886 non-null  int64  \n",
      " 9   registered  10886 non-null  int64  \n",
      " 10  count       10886 non-null  int64  \n",
      " 11  y           10886 non-null  int64  \n",
      " 12  m           10886 non-null  int64  \n",
      " 13  d           10886 non-null  int64  \n",
      " 14  h           10886 non-null  int64  \n",
      " 15  w           10886 non-null  int64  \n",
      " 16  date_type   10886 non-null  int64  \n",
      "dtypes: float64(3), int64(14)\n",
      "memory usage: 1.5 MB\n",
      "<class 'pandas.core.frame.DataFrame'>\n",
      "DatetimeIndex: 6493 entries, 2011-01-20 00:00:00 to 2012-12-31 23:00:00\n",
      "Data columns (total 14 columns):\n",
      " #   Column      Non-Null Count  Dtype  \n",
      "---  ------      --------------  -----  \n",
      " 0   season      6493 non-null   int64  \n",
      " 1   holiday     6493 non-null   int64  \n",
      " 2   workingday  6493 non-null   int64  \n",
      " 3   weather     6493 non-null   int64  \n",
      " 4   temp        6493 non-null   float64\n",
      " 5   atemp       6493 non-null   float64\n",
      " 6   humidity    6493 non-null   int64  \n",
      " 7   windspeed   6493 non-null   float64\n",
      " 8   y           6493 non-null   int64  \n",
      " 9   m           6493 non-null   int64  \n",
      " 10  d           6493 non-null   int64  \n",
      " 11  h           6493 non-null   int64  \n",
      " 12  w           6493 non-null   int64  \n",
      " 13  date_type   6493 non-null   int64  \n",
      "dtypes: float64(3), int64(11)\n",
      "memory usage: 760.9 KB\n"
     ]
    }
   ],
   "source": [
    "train = pd.read_csv('./train.csv', parse_dates=['datetime'])\n",
    "test = pd.read_csv('./test.csv', parse_dates=['datetime'])\n",
    "\n",
    "df_list = [train, test]\n",
    "for df in df_list:\n",
    "    df.rename(columns={'datetime':'regdate'}, inplace=True)\n",
    "    df['y'] = df['regdate'].dt.year\n",
    "    df['m'] = df['regdate'].dt.month\n",
    "    df['d'] = df['regdate'].dt.day\n",
    "    df['h'] = df['regdate'].dt.hour\n",
    "    df['w'] = df['regdate'].dt.dayofweek\n",
    "    df.set_index('regdate', inplace=True)\n",
    "    \n",
    "    df['date_type'] = 0\n",
    "    df['date_type'] = np.where( (df['holiday']==0)&(df['workingday']==1), 1, df['date_type'] )\n",
    "    df['date_type'] = np.where( (df['holiday']==1)&(df['workingday']==0), 2, df['date_type'] )\n",
    "    \n",
    "    df.info()"
   ]
  },
  {
   "cell_type": "code",
   "execution_count": 46,
   "id": "b29bda77-9047-40bd-a65c-dc414758d6a0",
   "metadata": {
    "tags": []
   },
   "outputs": [
    {
     "data": {
      "text/plain": [
       "Index(['season', 'holiday', 'workingday', 'weather', 'temp', 'atemp',\n",
       "       'humidity', 'windspeed', 'casual', 'registered', 'count', 'y', 'm', 'd',\n",
       "       'h', 'w', 'date_type'],\n",
       "      dtype='object')"
      ]
     },
     "execution_count": 46,
     "metadata": {},
     "output_type": "execute_result"
    }
   ],
   "source": [
    "train.columns"
   ]
  },
  {
   "cell_type": "code",
   "execution_count": 74,
   "id": "5b2e12df-b8d0-41ac-8308-f995a4961966",
   "metadata": {
    "tags": []
   },
   "outputs": [
    {
     "data": {
      "text/plain": [
       "<AxesSubplot: xlabel='date_type', ylabel='count'>"
      ]
     },
     "execution_count": 74,
     "metadata": {},
     "output_type": "execute_result"
    },
    {
     "data": {
      "image/png": "[encoded data removed]",
      "text/plain": [
       "<Figure size 640x480 with 1 Axes>"
      ]
     },
     "metadata": {},
     "output_type": "display_data"
    }
   ],
   "source": [
    "sns.boxplot(data=train, x='date_type', y='count')"
   ]
  },
  {
   "cell_type": "code",
   "execution_count": 69,
   "id": "caf4ee42-73e6-4207-9f95-4c68c99b51bf",
   "metadata": {
    "tags": []
   },
   "outputs": [
    {
     "data": {
      "text/plain": [
       "<AxesSubplot: >"
      ]
     },
     "execution_count": 69,
     "metadata": {},
     "output_type": "execute_result"
    },
    {
     "data": {
      "image/png": "[encoded data removed]",
      "text/plain": [
       "<Figure size 640x480 with 2 Axes>"
      ]
     },
     "metadata": {},
     "output_type": "display_data"
    }
   ],
   "source": [
    "sns.heatmap(pd.get_dummies(train[['casual', 'registered', 'count', 'date_type']], columns=['date_type']).corr(), annot=True, cmap='coolwarm')"
   ]
  },
  {
   "cell_type": "code",
   "execution_count": 27,
   "id": "2c81ebcd-9ec6-456e-be4d-8be353c3c5e2",
   "metadata": {
    "tags": []
   },
   "outputs": [],
   "source": [
    "from sklearn.preprocessing import LabelEncoder, OneHotEncoder, StandardScaler, MinMaxScaler, RobustScaler\n",
    "from sklearn.model_selection import train_test_split\n",
    "from sklearn.linear_model import LinearRegression\n",
    "from sklearn.tree import DecisionTreeClassifier, DecisionTreeRegressor\n",
    "from sklearn.ensemble import RandomForestRegressor, AdaBoostRegressor, VotingRegressor\n",
    "from sklearn.metrics import accuracy_score, mean_squared_error\n",
    "from xgboost import XGBRegressor\n",
    "from lightgbm import LGBMRegressor"
   ]
  },
  {
   "cell_type": "markdown",
   "id": "fec27bd7-0312-4354-9b0d-f8d1ae85f6ea",
   "metadata": {},
   "source": [
    "# 점수보기"
   ]
  },
  {
   "cell_type": "code",
   "execution_count": null,
   "id": "7dc8c926-0353-44de-b88c-481993437724",
   "metadata": {},
   "outputs": [],
   "source": [
    "def my_fit_score(df) :\n",
    "    model_list = [ \n",
    "                   (\"RIDGE\"  , Ridge(alpha=1.0, random_state=0)),\n",
    "                   (\"LASSO\"  , Lasso(alpha=1.0, random_state=0)),\n",
    "                   (\"DTR\"    , DecisionTreeRegressor(random_state=0)),\n",
    "                   (\"RF\"     , RandomForestRegressor(random_state=0)),\n",
    "                   (\"LR\"     , LinearRegression()                   ),\n",
    "                   (\"ABOOST\" , AdaBoostRegressor(random_state=0)                  ),\n",
    "                   (\"XGB\"    , XGBRegressor(random_state=0)                       ),  \n",
    "                   (\"LGBM\"   , LGBMRegressor(random_state=0)                      ),\n",
    "                   (\"VR-XGB-LGBM\"    , VotingRegressor([(\"XGB\", XGBRegressor(random_state=0)), (\"LGBM\", LGBMRegressor(random_state=0))]) ) ,\n",
    "                   (\"VR-RF-LGBM\"    , VotingRegressor([(\"DTR\", RandomForestRegressor(random_state=0)), (\"LGBM\", LGBMRegressor(random_state=0))]) )\n",
    "                 ]\n",
    "    \n",
    "    #---------(타켓피쳐:로그스케일링) -----------\n",
    "    # y_c = df['casual'] \n",
    "    # y_r = df['registered'] \n",
    "    y_c = np.log1p( df['casual'] )\n",
    "    y_r = np.log1p( df['registered'] )\n",
    "    # print(y_c[:5], y_r[:5])\n",
    "    \n",
    "    X = df.drop(['regcount','casual','registered'], axis=1)\n",
    "    \n",
    "    #------------------------------------------------\n",
    "    # 연속형 피쳐 스케일링\n",
    "    # 'temp', 'atemp','humidity', 'windspeed'\n",
    "    #------------------------------------------------\n",
    "    X['temp']      = np.log1p( X['temp'] )\n",
    "    X['atemp']     = np.log1p( X['atemp'] )\n",
    "    X['humidity']  = np.log1p( X['humidity'] )\n",
    "    X['windspeed'] = np.log1p( X['windspeed'] )\n",
    "    \n",
    "    #------------------------------------------------\n",
    "    # 이산형 피쳐 원핫인코딩\n",
    "    # 'weather', 'season', 'y', 'm', 'h', 'w', \n",
    "    #------------------------------------------------\n",
    "\n",
    "    \n",
    "    for tpl in model_list :\n",
    "        print( tpl[0] ) \n",
    "        \n",
    "        model = tpl[1]\n",
    "        X_train, X_test, y_train, y_r_test = train_test_split(X, y_r, random_state=0, test_size=0.2)\n",
    "        model.fit(X_train, y_train)\n",
    "        y_r_pred = model.predict(X_test)\n",
    "        \n",
    "        model = tpl[1]\n",
    "        X_train, X_test, y_train, y_c_test = train_test_split(X, y_c, random_state=0, test_size=0.2)\n",
    "        model.fit(X_train, y_train)\n",
    "        y_c_pred = model.predict(X_test)\n",
    "        \n",
    "        #---------(타켓피쳐:로그스케일링) 복원-----------\n",
    "        y_pred_comb = np.expm1(y_r_pred)+np.expm1(y_c_pred)\n",
    "        y_real_comb = np.expm1(y_r_test)+np.expm1(y_c_test)\n",
    "        y_pred_comb[y_pred_comb < 0] = 0\n",
    "        \n",
    "        # print(\"yrtest\", y_r_test[:5])\n",
    "        # print(\"yctest\", y_c_test[:5])\n",
    "        # print(\"ypred\", y_pred_comb[:5])\n",
    "        msle_score = mean_squared_log_error(y_real_comb, y_pred_comb)\n",
    "\n",
    "        print(\"RMSLE: \", np.sqrt(msle_score)) \n",
    "        print(\"-\"*30)"
   ]
  },
  {
   "cell_type": "markdown",
   "id": "1774aa0a-f204-444c-a427-677e593a480a",
   "metadata": {},
   "source": [
    "## 이상치 제거"
   ]
  },
  {
   "cell_type": "code",
   "execution_count": 21,
   "id": "ef7c63e9-f8f4-4ab9-9fec-a978176f5105",
   "metadata": {
    "tags": []
   },
   "outputs": [],
   "source": [
    "# del_idx_list = []\n",
    "# idx = train[train['windspeed']>=50].index\n",
    "# del_idx_list.extend(idx)\n",
    "# idx = train[train['weather']==4].index\n",
    "# del_idx_list.extend(idx)\n",
    "# idx = train[train['temp']>=40].index\n",
    "# del_idx_list.extend(idx)\n",
    "# print(train.shape)\n",
    "# train = train.drop(del_idx_list, axis=0)\n",
    "# print(train.shape)"
   ]
  },
  {
   "cell_type": "markdown",
   "id": "ad068dce-9ab7-4673-929c-1fa725e598e4",
   "metadata": {},
   "source": [
    "# train, test 0값 처리"
   ]
  },
  {
   "cell_type": "code",
   "execution_count": 10,
   "id": "463b26c0-f34d-4c0b-a724-2a6291efda79",
   "metadata": {
    "tags": []
   },
   "outputs": [
    {
     "data": {
      "text/plain": [
       "((1313, 17), (9567, 17))"
      ]
     },
     "execution_count": 10,
     "metadata": {},
     "output_type": "execute_result"
    }
   ],
   "source": [
    "ws0 = train[train['windspeed']==0]\n",
    "ws1 = train[train['windspeed']!=0]\n",
    "ws0.shape, ws1.shape"
   ]
  },
  {
   "cell_type": "code",
   "execution_count": 11,
   "id": "dd9bada7-44b2-4dd8-a4ba-9f3cf6029857",
   "metadata": {
    "tags": []
   },
   "outputs": [
    {
     "data": {
      "text/html": [
       "<div>\n",
       "<style scoped>\n",
       "    .dataframe tbody tr th:only-of-type {\n",
       "        vertical-align: middle;\n",
       "    }\n",
       "\n",
       "    .dataframe tbody tr th {\n",
       "        vertical-align: top;\n",
       "    }\n",
       "\n",
       "    .dataframe thead th {\n",
       "        text-align: right;\n",
       "    }\n",
       "</style>\n",
       "<table border=\"1\" class=\"dataframe\">\n",
       "  <thead>\n",
       "    <tr style=\"text-align: right;\">\n",
       "      <th></th>\n",
       "      <th>season</th>\n",
       "      <th>holiday</th>\n",
       "      <th>workingday</th>\n",
       "      <th>weather</th>\n",
       "      <th>temp</th>\n",
       "      <th>atemp</th>\n",
       "      <th>humidity</th>\n",
       "      <th>y</th>\n",
       "      <th>m</th>\n",
       "      <th>d</th>\n",
       "      <th>h</th>\n",
       "      <th>w</th>\n",
       "      <th>date_type</th>\n",
       "    </tr>\n",
       "    <tr>\n",
       "      <th>regdate</th>\n",
       "      <th></th>\n",
       "      <th></th>\n",
       "      <th></th>\n",
       "      <th></th>\n",
       "      <th></th>\n",
       "      <th></th>\n",
       "      <th></th>\n",
       "      <th></th>\n",
       "      <th></th>\n",
       "      <th></th>\n",
       "      <th></th>\n",
       "      <th></th>\n",
       "      <th></th>\n",
       "    </tr>\n",
       "  </thead>\n",
       "  <tbody>\n",
       "    <tr>\n",
       "      <th>2011-01-01 00:00:00</th>\n",
       "      <td>1</td>\n",
       "      <td>0</td>\n",
       "      <td>0</td>\n",
       "      <td>1</td>\n",
       "      <td>9.84</td>\n",
       "      <td>14.395</td>\n",
       "      <td>81</td>\n",
       "      <td>2011</td>\n",
       "      <td>1</td>\n",
       "      <td>1</td>\n",
       "      <td>0</td>\n",
       "      <td>5</td>\n",
       "      <td>0</td>\n",
       "    </tr>\n",
       "    <tr>\n",
       "      <th>2011-01-01 01:00:00</th>\n",
       "      <td>1</td>\n",
       "      <td>0</td>\n",
       "      <td>0</td>\n",
       "      <td>1</td>\n",
       "      <td>9.02</td>\n",
       "      <td>13.635</td>\n",
       "      <td>80</td>\n",
       "      <td>2011</td>\n",
       "      <td>1</td>\n",
       "      <td>1</td>\n",
       "      <td>1</td>\n",
       "      <td>5</td>\n",
       "      <td>0</td>\n",
       "    </tr>\n",
       "    <tr>\n",
       "      <th>2011-01-01 02:00:00</th>\n",
       "      <td>1</td>\n",
       "      <td>0</td>\n",
       "      <td>0</td>\n",
       "      <td>1</td>\n",
       "      <td>9.02</td>\n",
       "      <td>13.635</td>\n",
       "      <td>80</td>\n",
       "      <td>2011</td>\n",
       "      <td>1</td>\n",
       "      <td>1</td>\n",
       "      <td>2</td>\n",
       "      <td>5</td>\n",
       "      <td>0</td>\n",
       "    </tr>\n",
       "    <tr>\n",
       "      <th>2011-01-01 03:00:00</th>\n",
       "      <td>1</td>\n",
       "      <td>0</td>\n",
       "      <td>0</td>\n",
       "      <td>1</td>\n",
       "      <td>9.84</td>\n",
       "      <td>14.395</td>\n",
       "      <td>75</td>\n",
       "      <td>2011</td>\n",
       "      <td>1</td>\n",
       "      <td>1</td>\n",
       "      <td>3</td>\n",
       "      <td>5</td>\n",
       "      <td>0</td>\n",
       "    </tr>\n",
       "    <tr>\n",
       "      <th>2011-01-01 04:00:00</th>\n",
       "      <td>1</td>\n",
       "      <td>0</td>\n",
       "      <td>0</td>\n",
       "      <td>1</td>\n",
       "      <td>9.84</td>\n",
       "      <td>14.395</td>\n",
       "      <td>75</td>\n",
       "      <td>2011</td>\n",
       "      <td>1</td>\n",
       "      <td>1</td>\n",
       "      <td>4</td>\n",
       "      <td>5</td>\n",
       "      <td>0</td>\n",
       "    </tr>\n",
       "    <tr>\n",
       "      <th>...</th>\n",
       "      <td>...</td>\n",
       "      <td>...</td>\n",
       "      <td>...</td>\n",
       "      <td>...</td>\n",
       "      <td>...</td>\n",
       "      <td>...</td>\n",
       "      <td>...</td>\n",
       "      <td>...</td>\n",
       "      <td>...</td>\n",
       "      <td>...</td>\n",
       "      <td>...</td>\n",
       "      <td>...</td>\n",
       "      <td>...</td>\n",
       "    </tr>\n",
       "    <tr>\n",
       "      <th>2012-12-29 12:00:00</th>\n",
       "      <td>1</td>\n",
       "      <td>0</td>\n",
       "      <td>0</td>\n",
       "      <td>3</td>\n",
       "      <td>8.20</td>\n",
       "      <td>12.120</td>\n",
       "      <td>100</td>\n",
       "      <td>2012</td>\n",
       "      <td>12</td>\n",
       "      <td>29</td>\n",
       "      <td>12</td>\n",
       "      <td>5</td>\n",
       "      <td>0</td>\n",
       "    </tr>\n",
       "    <tr>\n",
       "      <th>2012-12-29 13:00:00</th>\n",
       "      <td>1</td>\n",
       "      <td>0</td>\n",
       "      <td>0</td>\n",
       "      <td>3</td>\n",
       "      <td>8.20</td>\n",
       "      <td>12.120</td>\n",
       "      <td>100</td>\n",
       "      <td>2012</td>\n",
       "      <td>12</td>\n",
       "      <td>29</td>\n",
       "      <td>13</td>\n",
       "      <td>5</td>\n",
       "      <td>0</td>\n",
       "    </tr>\n",
       "    <tr>\n",
       "      <th>2012-12-29 15:00:00</th>\n",
       "      <td>1</td>\n",
       "      <td>0</td>\n",
       "      <td>0</td>\n",
       "      <td>2</td>\n",
       "      <td>9.84</td>\n",
       "      <td>12.120</td>\n",
       "      <td>87</td>\n",
       "      <td>2012</td>\n",
       "      <td>12</td>\n",
       "      <td>29</td>\n",
       "      <td>15</td>\n",
       "      <td>5</td>\n",
       "      <td>0</td>\n",
       "    </tr>\n",
       "    <tr>\n",
       "      <th>2012-12-29 23:00:00</th>\n",
       "      <td>1</td>\n",
       "      <td>0</td>\n",
       "      <td>0</td>\n",
       "      <td>2</td>\n",
       "      <td>10.66</td>\n",
       "      <td>12.120</td>\n",
       "      <td>60</td>\n",
       "      <td>2012</td>\n",
       "      <td>12</td>\n",
       "      <td>29</td>\n",
       "      <td>23</td>\n",
       "      <td>5</td>\n",
       "      <td>0</td>\n",
       "    </tr>\n",
       "    <tr>\n",
       "      <th>2012-12-30 19:00:00</th>\n",
       "      <td>1</td>\n",
       "      <td>0</td>\n",
       "      <td>0</td>\n",
       "      <td>1</td>\n",
       "      <td>13.94</td>\n",
       "      <td>18.180</td>\n",
       "      <td>61</td>\n",
       "      <td>2012</td>\n",
       "      <td>12</td>\n",
       "      <td>30</td>\n",
       "      <td>19</td>\n",
       "      <td>6</td>\n",
       "      <td>0</td>\n",
       "    </tr>\n",
       "  </tbody>\n",
       "</table>\n",
       "<p>2180 rows × 13 columns</p>\n",
       "</div>"
      ],
      "text/plain": [
       "                     season  holiday  workingday  weather   temp   atemp  \\\n",
       "regdate                                                                    \n",
       "2011-01-01 00:00:00       1        0           0        1   9.84  14.395   \n",
       "2011-01-01 01:00:00       1        0           0        1   9.02  13.635   \n",
       "2011-01-01 02:00:00       1        0           0        1   9.02  13.635   \n",
       "2011-01-01 03:00:00       1        0           0        1   9.84  14.395   \n",
       "2011-01-01 04:00:00       1        0           0        1   9.84  14.395   \n",
       "...                     ...      ...         ...      ...    ...     ...   \n",
       "2012-12-29 12:00:00       1        0           0        3   8.20  12.120   \n",
       "2012-12-29 13:00:00       1        0           0        3   8.20  12.120   \n",
       "2012-12-29 15:00:00       1        0           0        2   9.84  12.120   \n",
       "2012-12-29 23:00:00       1        0           0        2  10.66  12.120   \n",
       "2012-12-30 19:00:00       1        0           0        1  13.94  18.180   \n",
       "\n",
       "                     humidity     y   m   d   h  w  date_type  \n",
       "regdate                                                        \n",
       "2011-01-01 00:00:00        81  2011   1   1   0  5          0  \n",
       "2011-01-01 01:00:00        80  2011   1   1   1  5          0  \n",
       "2011-01-01 02:00:00        80  2011   1   1   2  5          0  \n",
       "2011-01-01 03:00:00        75  2011   1   1   3  5          0  \n",
       "2011-01-01 04:00:00        75  2011   1   1   4  5          0  \n",
       "...                       ...   ...  ..  ..  .. ..        ...  \n",
       "2012-12-29 12:00:00       100  2012  12  29  12  5          0  \n",
       "2012-12-29 13:00:00       100  2012  12  29  13  5          0  \n",
       "2012-12-29 15:00:00        87  2012  12  29  15  5          0  \n",
       "2012-12-29 23:00:00        60  2012  12  29  23  5          0  \n",
       "2012-12-30 19:00:00        61  2012  12  30  19  6          0  \n",
       "\n",
       "[2180 rows x 13 columns]"
      ]
     },
     "execution_count": 11,
     "metadata": {},
     "output_type": "execute_result"
    }
   ],
   "source": [
    "train_test_w0 = pd.concat([train[train['windspeed']==0], test[test['windspeed']==0]], axis=0)\n",
    "train_test_w0.drop(['windspeed', 'casual', 'registered', 'count'], axis=1)"
   ]
  },
  {
   "cell_type": "code",
   "execution_count": 21,
   "id": "cda83f6b-a08c-47ed-b1e1-131b2b17914d",
   "metadata": {
    "tags": []
   },
   "outputs": [],
   "source": [
    "train_test_w1 = pd.concat([train[train['windspeed']!=0], test[test['windspeed']!=0]], axis=0)\n",
    "train_test_w0 = pd.concat([train[train['windspeed']==0], test[test['windspeed']==0]], axis=0)\n",
    "\n",
    "X_train = train_test_w1.drop(['windspeed', 'casual', 'registered', 'count'], axis=1)\n",
    "y_train = train_test_w1['windspeed']\n",
    "X_test = train_test_w0.drop(['windspeed', 'casual', 'registered', 'count'], axis=1)\n",
    "y_test_idx = train_test_w0['windspeed'].index\n",
    "\n",
    "model = RandomForestRegressor(random_state=0)\n",
    "model.fit(X_train, y_train)\n",
    "y_pred = model.predict(X_test)\n",
    "# train_test_w0['windspeed'] = y_pred\n"
   ]
  },
  {
   "cell_type": "code",
   "execution_count": 68,
   "id": "9bcc0db4-7649-4fb7-a1b2-586603556adf",
   "metadata": {
    "tags": []
   },
   "outputs": [
    {
     "name": "stdout",
     "output_type": "stream",
     "text": [
      "<class 'pandas.core.frame.DataFrame'>\n",
      "DatetimeIndex: 6493 entries, 2011-01-20 00:00:00 to 2012-12-31 23:00:00\n",
      "Data columns (total 14 columns):\n",
      " #   Column      Non-Null Count  Dtype  \n",
      "---  ------      --------------  -----  \n",
      " 0   season      6493 non-null   int64  \n",
      " 1   holiday     6493 non-null   int64  \n",
      " 2   workingday  6493 non-null   int64  \n",
      " 3   weather     6493 non-null   int64  \n",
      " 4   temp        6493 non-null   float64\n",
      " 5   atemp       6493 non-null   float64\n",
      " 6   humidity    6493 non-null   int64  \n",
      " 7   windspeed   6493 non-null   float64\n",
      " 8   y           6493 non-null   int64  \n",
      " 9   m           6493 non-null   int64  \n",
      " 10  d           6493 non-null   int64  \n",
      " 11  h           6493 non-null   int64  \n",
      " 12  w           6493 non-null   int64  \n",
      " 13  date_type   6493 non-null   int64  \n",
      "dtypes: float64(3), int64(11)\n",
      "memory usage: 1018.9 KB\n"
     ]
    }
   ],
   "source": [
    "test.info()"
   ]
  },
  {
   "cell_type": "code",
   "execution_count": 22,
   "id": "4d0ac9ee-f175-4cfe-8423-ca015b9a831d",
   "metadata": {
    "tags": []
   },
   "outputs": [
    {
     "data": {
      "text/plain": [
       "DatetimeIndex(['2011-01-01 00:00:00', '2011-01-01 01:00:00',\n",
       "               '2011-01-01 02:00:00', '2011-01-01 03:00:00',\n",
       "               '2011-01-01 04:00:00', '2011-01-01 06:00:00',\n",
       "               '2011-01-01 07:00:00', '2011-01-01 08:00:00',\n",
       "               '2011-01-01 09:00:00', '2011-01-03 19:00:00',\n",
       "               ...\n",
       "               '2012-12-29 00:00:00', '2012-12-29 02:00:00',\n",
       "               '2012-12-29 03:00:00', '2012-12-29 08:00:00',\n",
       "               '2012-12-29 09:00:00', '2012-12-29 12:00:00',\n",
       "               '2012-12-29 13:00:00', '2012-12-29 15:00:00',\n",
       "               '2012-12-29 23:00:00', '2012-12-30 19:00:00'],\n",
       "              dtype='datetime64[ns]', name='regdate', length=2180, freq=None)"
      ]
     },
     "execution_count": 22,
     "metadata": {},
     "output_type": "execute_result"
    }
   ],
   "source": [
    "y_test_idx"
   ]
  },
  {
   "cell_type": "code",
   "execution_count": 27,
   "id": "cb5a1664-dd79-469d-8794-1f6c32786304",
   "metadata": {
    "tags": []
   },
   "outputs": [
    {
     "data": {
      "text/plain": [
       "DatetimeIndex(['2011-01-01 00:00:00', '2011-01-01 01:00:00',\n",
       "               '2011-01-01 02:00:00', '2011-01-01 03:00:00',\n",
       "               '2011-01-01 04:00:00', '2011-01-01 05:00:00',\n",
       "               '2011-01-01 06:00:00', '2011-01-01 07:00:00',\n",
       "               '2011-01-01 08:00:00', '2011-01-01 09:00:00',\n",
       "               ...\n",
       "               '2012-12-19 14:00:00', '2012-12-19 15:00:00',\n",
       "               '2012-12-19 16:00:00', '2012-12-19 17:00:00',\n",
       "               '2012-12-19 18:00:00', '2012-12-19 19:00:00',\n",
       "               '2012-12-19 20:00:00', '2012-12-19 21:00:00',\n",
       "               '2012-12-19 22:00:00', '2012-12-19 23:00:00'],\n",
       "              dtype='datetime64[ns]', name='regdate', length=10880, freq=None)"
      ]
     },
     "execution_count": 27,
     "metadata": {},
     "output_type": "execute_result"
    }
   ],
   "source": [
    "train.index"
   ]
  },
  {
   "cell_type": "code",
   "execution_count": 20,
   "id": "6cf83e58-47c2-4c4d-b4ce-cb0b85f68187",
   "metadata": {
    "tags": []
   },
   "outputs": [
    {
     "data": {
      "text/plain": [
       "DatetimeIndex(['2011-01-01 00:00:00', '2011-01-01 01:00:00',\n",
       "               '2011-01-01 02:00:00', '2011-01-01 03:00:00',\n",
       "               '2011-01-01 04:00:00', '2011-01-01 06:00:00',\n",
       "               '2011-01-01 07:00:00', '2011-01-01 08:00:00',\n",
       "               '2011-01-01 09:00:00', '2011-01-03 19:00:00',\n",
       "               ...\n",
       "               '2012-12-29 00:00:00', '2012-12-29 02:00:00',\n",
       "               '2012-12-29 03:00:00', '2012-12-29 08:00:00',\n",
       "               '2012-12-29 09:00:00', '2012-12-29 12:00:00',\n",
       "               '2012-12-29 13:00:00', '2012-12-29 15:00:00',\n",
       "               '2012-12-29 23:00:00', '2012-12-30 19:00:00'],\n",
       "              dtype='datetime64[ns]', name='regdate', length=2180, freq=None)"
      ]
     },
     "execution_count": 20,
     "metadata": {},
     "output_type": "execute_result"
    }
   ],
   "source": [
    "train_test_w0['windspeed'].index"
   ]
  },
  {
   "cell_type": "markdown",
   "id": "61b7a0f9-8b7f-429a-8b11-b0f42e995750",
   "metadata": {},
   "source": [
    "랜덤포레스트 굿"
   ]
  },
  {
   "cell_type": "code",
   "execution_count": null,
   "id": "240d1f7c-bef1-4647-8d96-09693bb06182",
   "metadata": {
    "tags": []
   },
   "outputs": [],
   "source": [
    "X_train = ws1.drop(['windspeed', 'casual', 'registered', 'regcount'], axis=1)\n",
    "X_test  = ws0.drop(['windspeed', 'casual', 'registered', 'regcount'], axis=1)\n",
    "y_train = ws1['windspeed']\n",
    "print(X_train.shape, X_test.shape, y_train.shape)\n",
    "\n",
    "model = RandomForestRegressor(random_state=0)\n",
    "model.fit(X_train, y_train)\n",
    "y_pred = model.predict(X_test)\n",
    "y_pred.shape"
   ]
  },
  {
   "cell_type": "code",
   "execution_count": null,
   "id": "02ce0fc9-12c2-41c1-aeec-86128b4abb5d",
   "metadata": {
    "tags": []
   },
   "outputs": [],
   "source": [
    "plt.hist(y_pred)\n",
    "plt.show()"
   ]
  },
  {
   "cell_type": "code",
   "execution_count": null,
   "id": "bcdb5d9e-4fd0-4179-9697-6464313dd476",
   "metadata": {
    "tags": []
   },
   "outputs": [],
   "source": [
    "ws0['windspeed'] = y_pred\n",
    "train = pd.concat([ws0,ws1]).sort_index()\n",
    "train"
   ]
  },
  {
   "cell_type": "markdown",
   "id": "4c646011-c812-4fcc-878e-3111291b6e9a",
   "metadata": {},
   "source": [
    "# 최종 컬럼 선정\n",
    "<pre>\n",
    "타겟(1): 'casual' + 'registered'\n",
    "   or\n",
    "타겟(2): 'regcount'\n",
    "\n",
    "삭제 컬럼: 'd',     'holiday', 'workingday',      'atemp',  'season'\n",
    "\n",
    "시간 컬럼: 'y', 'm', 'h', 'w'\n",
    "\n",
    "날짜 컬럼: 'day_type'\n",
    "\n",
    "날씨 컬럼: 'season', 'weather', 'temp', 'humidity', 'windspeed'\n",
    "       \n",
    "       \n",
    "다중공선: 분석피쳐중 상관계수가 높은 컬럼\n",
    "'registered' <-> 'regcount' : regcount 삭제\n",
    "'temp' <-> 'atemp' : atemp 삭제\n",
    "\n",
    "'w' <-> 'day_type' : 나중에 고려대상\n",
    "'season' <-> 'm' : season 삭제\n",
    "\n",
    "결론\n",
    "['casual', 'registered']\n",
    "['m', 'h', 'y', 'w', 'weather', 'temp', 'humidity', 'windspeed', 'day_type']"
   ]
  },
  {
   "cell_type": "markdown",
   "id": "bf01631f-52e7-4344-834c-534b646a6859",
   "metadata": {},
   "source": [
    "# 학습 ㄱㄱ"
   ]
  },
  {
   "cell_type": "markdown",
   "id": "c5f38932-847e-4af6-8aa1-cce32f8d52f4",
   "metadata": {},
   "source": [
    "https://www.latex4technics.com/?note=CMEL1Z\n",
    "\n",
    "*  $ MSE = \\frac{\\mathrm{1} }{\\mathrm{n}} \\sum\\nolimits_{i=1}^{n} (Y_i - \\hat{Y_i})^{2}$\n",
    "\n",
    "*  $ MAE = \\frac{\\mathrm{1} }{\\mathrm{n}} \\sum\\nolimits_{i=1}^{n} |Y_i - \\hat{Y_i}|$\n",
    "\n",
    "*  $ RMSE = \\sqrt{\\frac{1}{n}\\Sigma_{i=1}^{n}{\\Big(\\frac{Y_i - \\hat{Y_i}}{N}\\Big)^2}}$\n",
    "\n",
    "*  $ RMSLE = \\sqrt{\\frac{1}{n}\\Sigma_{i=1}^{n}{\\Big(\\frac{log(Y_i+1) - log(\\hat{Y_i}+1)}{N}\\Big)^2}}$"
   ]
  },
  {
   "cell_type": "code",
   "execution_count": null,
   "id": "bfbac55b-32d1-453c-9e96-15481179ceb6",
   "metadata": {
    "tags": []
   },
   "outputs": [],
   "source": [
    "# !pip install xgboost\n",
    "# !pip install lightgmb"
   ]
  },
  {
   "cell_type": "code",
   "execution_count": null,
   "id": "099e1b3c-753d-4e01-a542-a5597823de6e",
   "metadata": {
    "tags": []
   },
   "outputs": [],
   "source": [
    "from sklearn.model_selection import train_test_split\n",
    "from sklearn.tree import DecisionTreeRegressor\n",
    "from sklearn.linear_model import LinearRegression\n",
    "from sklearn.metrics import accuracy_score, mean_squared_error\n",
    "\n",
    "# 추가\n",
    "from sklearn.ensemble import AdaBoostRegressor, VotingRegressor\n",
    "from xgboost import XGBRegressor\n",
    "from lightgbm import LGBMRegressor"
   ]
  },
  {
   "cell_type": "code",
   "execution_count": null,
   "id": "8495cd66-5253-45e4-a7ba-e3ed6083c07a",
   "metadata": {},
   "outputs": [],
   "source": [
    "X = train[['m', 'h', 'y', 'w', 'weather', 'temp', 'humidity', 'windspeed', 'day_type']]\n",
    "Y = train[['regcount', 'registered', 'casual']]\n",
    "\n",
    "X_train, X_test, Y_train, Y_test = train_test_split(X, Y, random_state=0, test_size=0.2)\n",
    "dtr = DecisionTreeRegressor(random_state=0)\n",
    "dtr.fit(X_train, Y_train)\n",
    "dtr_pred = dtr.predict(X_test)\n",
    "\n",
    "dtr_mse_regcount = mean_squared_error(Y_test['regcount'], dtr_pred.T[0])\n",
    "dtr_mse_registered = mean_squared_error(Y_test['registered'], dtr_pred.T[1])\n",
    "dtr_mse_casual = mean_squared_error(Y_test['casual'], dtr_pred.T[2])\n",
    "\n",
    "print(dtr_mse_regcount, dtr_mse_registered, dtr_mse_casual)"
   ]
  },
  {
   "cell_type": "code",
   "execution_count": null,
   "id": "7f87dd07-6238-4adb-b202-309738cfeec6",
   "metadata": {
    "tags": []
   },
   "outputs": [],
   "source": [
    "X = train[['m', 'h', 'y', 'w', 'weather', 'temp', 'humidity', 'windspeed', 'day_type']]\n",
    "y_list = [train['regcount'], train['registered'], train['casual']]\n",
    "\n",
    "for i, y in enumerate(y_list):\n",
    "    X_train, X_test, y_train, y_test = train_test_split(X, y, random_state=0, test_size=0.2)\n",
    "    dtr = DecisionTreeRegressor(random_state=0)\n",
    "    dtr.fit(X_train, y_train)\n",
    "    y_pred = dtr.predict(X_test)\n",
    "\n",
    "    mse = mean_squared_error(y_test, y_pred)\n",
    "    \n",
    "    print(y_list[i].name)\n",
    "    print('MSE', mse)\n",
    "    print('RMSE', np.sqrt(mse))\n",
    "    print()"
   ]
  },
  {
   "cell_type": "code",
   "execution_count": null,
   "id": "58d20a0c-891e-4a3f-bee7-2f77a58317e9",
   "metadata": {
    "tags": []
   },
   "outputs": [],
   "source": [
    "X = train[['m', 'h', 'y', 'w', 'weather', 'temp', 'humidity', 'windspeed', 'day_type']]\n",
    "y_list = [train['regcount'], train['registered'], train['casual']]\n",
    "model_list = [\n",
    "    (\"DTR\"   , DecisionTreeRegressor(random_state=0)),\n",
    "    (\"LR\"    , LinearRegression()                   ),\n",
    "    (\"ABOOST\", AdaBoostRegressor()                  ),\n",
    "    (\"XGB\"   , XGBRegressor()                       ),  \n",
    "    (\"LGBM\"  , LGBMRegressor()                      ),\n",
    "    (\"VR\"    , VotingRegressor([(\"XGB\", XGBRegressor()), (\"LGBM\", LGBMRegressor())]) ) \n",
    "]\n",
    "\n",
    "res_list = []\n",
    "for model_tuple in model_list:\n",
    "    # print('model :', model_tuple[0])\n",
    "    for i, y in enumerate(y_list):\n",
    "        X_train, X_test, y_train, y_test = train_test_split(X, y, random_state=0, test_size=0.2)\n",
    "        model = model_tuple[1]\n",
    "        model.fit(X_train, y_train)\n",
    "        y_pred = model.predict(X_test)\n",
    "\n",
    "        mse = mean_squared_error(y_test, y_pred)\n",
    "        res_list.append([model_tuple[0], y_list[i].name, mse, np.sqrt(mse)])\n",
    "    #     print(y_list[i].name)\n",
    "    #     print('MSE   : ', mse)\n",
    "    #     print('RMSE  : ', np.sqrt(mse))\n",
    "    #     print()\n",
    "    # print('-----------------------------')\n",
    "res_df = pd.DataFrame(res_list, columns=['model', 'target', 'MSE', 'RMSE'])\n",
    "res_df"
   ]
  },
  {
   "cell_type": "code",
   "execution_count": null,
   "id": "ce9baddb-bcf2-4964-a365-6bfb6042073b",
   "metadata": {
    "tags": []
   },
   "outputs": [],
   "source": [
    "res_df.pivot_table(index=['model', 'target'], values=['MSE', 'RMSE'])"
   ]
  },
  {
   "cell_type": "code",
   "execution_count": null,
   "id": "71a02265-6818-4689-90f9-cf1c4c4954d8",
   "metadata": {
    "tags": []
   },
   "outputs": [],
   "source": [
    "plt.figure(figsize=(14,6))\n",
    "\n",
    "plt.subplot(1,2,1)\n",
    "sns.barplot(res_df, x='model', y='MSE', hue='target')\n",
    "plt.title('MSE')\n",
    "\n",
    "plt.subplot(1,2,2)\n",
    "sns.barplot(res_df, x='model', y='RMSE', hue='target')\n",
    "plt.title('RMSE')\n",
    "\n",
    "plt.show()"
   ]
  },
  {
   "cell_type": "code",
   "execution_count": null,
   "id": "c35d9874-a7d6-4229-81f8-d752aed6ab6e",
   "metadata": {
    "tags": []
   },
   "outputs": [],
   "source": [
    "sc_list = [\n",
    "    ('Standard', StandardScaler()),\n",
    "    ('MinMax', MinMaxScaler()),\n",
    "    ('Robust', RobustScaler())\n",
    "]\n",
    "X = train[['m', 'h', 'y', 'w', 'weather', 'temp', 'humidity', 'windspeed', 'day_type']]\n",
    "y_list = [train['regcount'], train['registered'], train['casual']]\n",
    "model_list = [\n",
    "    (\"DTR\"   , DecisionTreeRegressor(random_state=0)),\n",
    "    (\"LR\"    , LinearRegression()                   ),\n",
    "    (\"ABOOST\", AdaBoostRegressor()                  ),\n",
    "    (\"XGB\"   , XGBRegressor()                       ),  \n",
    "    (\"LGBM\"  , LGBMRegressor()                      ),\n",
    "    (\"VR\"    , VotingRegressor([(\"XGB\", XGBRegressor()), (\"LGBM\", LGBMRegressor())]) ) \n",
    "]\n",
    "\n",
    "res_list = []\n",
    "for j, sc in enumerate(sc_list):\n",
    "    sc[1].fit(X)\n",
    "    X = sc[1].transform(X)\n",
    "    for model_tuple in model_list:\n",
    "        # print('model :', model_tuple[0])\n",
    "        for i, y in enumerate(y_list):\n",
    "            X_train, X_test, y_train, y_test = train_test_split(X, y, random_state=0, test_size=0.2)\n",
    "            model = model_tuple[1]\n",
    "            model.fit(X_train, y_train)\n",
    "            y_pred = model.predict(X_test)\n",
    "\n",
    "            mse = mean_squared_error(y_test, y_pred)\n",
    "            res_list.append([sc[0], model_tuple[0], y_list[i].name, mse, np.sqrt(mse)])\n",
    "        #     print(y_list[i].name)\n",
    "        #     print('MSE   : ', mse)\n",
    "        #     print('RMSE  : ', np.sqrt(mse))\n",
    "        #     print()\n",
    "        # print('-----------------------------')\n",
    "res_df = pd.DataFrame(res_list, columns=['Scaler', 'model', 'target', 'MSE', 'RMSE'])\n",
    "res_df"
   ]
  },
  {
   "cell_type": "code",
   "execution_count": null,
   "id": "de2b5531-8fc6-4b8d-9645-f3f7d9e06537",
   "metadata": {
    "tags": []
   },
   "outputs": [],
   "source": [
    "res_df.sort_values('MSE')"
   ]
  },
  {
   "cell_type": "code",
   "execution_count": null,
   "id": "43e3937a-dbd6-4f91-8b73-238dbd519627",
   "metadata": {},
   "outputs": [],
   "source": [
    "plt.figure(figsize=(14,6))\n",
    "\n",
    "plt.subplot(1,2,1)\n",
    "sns.barplot(res_df, x='model', y='MSE', hue='target')\n",
    "plt.title('MSE')\n",
    "\n",
    "plt.subplot(1,2,2)\n",
    "sns.barplot(res_df, x='model', y='RMSE', hue='target')\n",
    "plt.title('RMSE')\n",
    "\n",
    "plt.show()"
   ]
  }
 ],
 "metadata": {
  "kernelspec": {
   "display_name": "Python 3 (ipykernel)",
   "language": "python",
   "name": "python3"
  },
  "language_info": {
   "codemirror_mode": {
    "name": "ipython",
    "version": 3
   },
   "file_extension": ".py",
   "mimetype": "text/x-python",
   "name": "python",
   "nbconvert_exporter": "python",
   "pygments_lexer": "ipython3",
   "version": "3.9.1"
  },
  "toc-autonumbering": false,
  "toc-showmarkdowntxt": false
 },
 "nbformat": 4,
 "nbformat_minor": 5
}
